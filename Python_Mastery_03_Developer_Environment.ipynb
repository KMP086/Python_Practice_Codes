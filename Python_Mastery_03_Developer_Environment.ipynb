{
  "nbformat": 4,
  "nbformat_minor": 0,
  "metadata": {
    "colab": {
      "provenance": []
    },
    "kernelspec": {
      "name": "python3",
      "display_name": "Python 3"
    },
    "language_info": {
      "name": "python"
    }
  },
  "cells": [
    {
      "cell_type": "markdown",
      "source": [
        "#Open Terminal Command Line\n",
        "1. ls -> List folder Command (dir on windows)\n",
        "2. cd -> Change directory\n",
        "3. cd.. -> one directory up\n",
        "4. clear -> clear all directory or fresh slate\n",
        "5. cd / -> change to root directory\n",
        "6. cd -> change to user directory  \n",
        "7. open .  -> Open folder\n",
        "8. mkdir -> create folder\n",
        "9. touch -> create file\n",
        "10. open -a -> open application  \n",
        "11. mv -> move file\n",
        "12. rm -> application remove or delete\n",
        "13. rm -r -> folder name remove\n",
        "14. pwd -> present working directory\n",
        "#scenario\n",
        "* cd desktop/test\n",
        "* ls\n",
        "* open .\n",
        "* mkdir webapp\n",
        "* touch  index.html\n",
        "* open -a \"Sublime Text\" index.html\n",
        "* mv index.html about.html\n",
        "\n"
      ],
      "metadata": {
        "id": "yDKYFQADgxy3"
      }
    },
    {
      "cell_type": "markdown",
      "source": [
        "#run the python code in cmd\n",
        "1.   pwd -> present directory\n",
        "#if the file is in the pwd then\n",
        "2.   python3 filename.py\n",
        "\n",
        "\n"
      ],
      "metadata": {
        "id": "AWXi6OUFn-ml"
      }
    },
    {
      "cell_type": "markdown",
      "source": [
        "#Code formating\n",
        "\n",
        "*PEP -> Python Enchancement Proposals (Style Guide)\n",
        "pip install pep8\n"
      ],
      "metadata": {
        "id": "Qee-s8ukueq1"
      }
    },
    {
      "cell_type": "markdown",
      "source": [
        "#OOP -> Object Oriented programming"
      ],
      "metadata": {
        "id": "qc2J39aFmQzB"
      }
    },
    {
      "cell_type": "code",
      "source": [
        "print(type(None))\n",
        "print(type(True))\n",
        "print(type(5))\n",
        "print(type(5.5))\n",
        "print(type('hi'))\n",
        "print(type([]))\n",
        "print(type(()))\n",
        "print(type({}))\n",
        "\n",
        "\n",
        "\n"
      ],
      "metadata": {
        "colab": {
          "base_uri": "https://localhost:8080/"
        },
        "id": "WsyNJn3cmYbB",
        "outputId": "6971c06a-ad8a-4e5a-a782-84f901b75aef"
      },
      "execution_count": null,
      "outputs": [
        {
          "output_type": "stream",
          "name": "stdout",
          "text": [
            "<class 'NoneType'>\n",
            "<class 'bool'>\n",
            "<class 'int'>\n",
            "<class 'float'>\n",
            "<class 'str'>\n",
            "<class 'list'>\n",
            "<class 'tuple'>\n",
            "<class 'dict'>\n"
          ]
        }
      ]
    },
    {
      "cell_type": "markdown",
      "source": [
        "#Sample OOP\n",
        "  * class is the blueprint\n",
        "  * - procedure is called Instanciate\n",
        "  *  def / Object is Instances\n"
      ],
      "metadata": {
        "id": "WabOHrUnnTjc"
      }
    },
    {
      "cell_type": "code",
      "source": [
        "class BigObject: #class\n",
        "  pass\n"
      ],
      "metadata": {
        "id": "JnUoJGzeBrTk"
      },
      "execution_count": null,
      "outputs": []
    },
    {
      "cell_type": "code",
      "source": [
        "obj1=BigObject() #Instanciate\n",
        "obj2=BigObject() #Instanciate\n",
        "obj3=BigObject() #Instanciate"
      ],
      "metadata": {
        "id": "JB_m6kh9B2zm"
      },
      "execution_count": null,
      "outputs": []
    },
    {
      "cell_type": "markdown",
      "source": [
        "#Creating Our Own Objects"
      ],
      "metadata": {
        "id": "wFof61SdDIl1"
      }
    },
    {
      "cell_type": "code",
      "source": [
        "class PlayerCharacter:\n",
        "  def __init__(self, name, age): #__init__ -> initialized  #constructor method\n",
        "    self.name =name #self default parameter to class or reference to class\n",
        "    self.age = age\n",
        "  def run(self):  #constructor method\n",
        "    print('run')"
      ],
      "metadata": {
        "id": "Kv0mD8PDGY-e"
      },
      "execution_count": null,
      "outputs": []
    },
    {
      "cell_type": "code",
      "source": [
        "player1 = PlayerCharacter('Sandy', 30) #Instanciate\n",
        "player2 = PlayerCharacter('Cindy', 28) #Instanciate\n",
        "\n",
        "print(player1.name, player1.age)\n",
        "print(player2.name, player2.age)"
      ],
      "metadata": {
        "colab": {
          "base_uri": "https://localhost:8080/"
        },
        "id": "H-uCpclgJ7oM",
        "outputId": "8b81ad63-0873-440b-91be-0f6080f9c0cc"
      },
      "execution_count": null,
      "outputs": [
        {
          "output_type": "stream",
          "name": "stdout",
          "text": [
            "Sandy 30\n",
            "Cindy 28\n"
          ]
        }
      ]
    },
    {
      "cell_type": "markdown",
      "source": [
        "#Attributes and Methods"
      ],
      "metadata": {
        "id": "BRqSl9FiGZsO"
      }
    },
    {
      "cell_type": "code",
      "source": [
        "class PlayerCharacter:\n",
        "  membership = True #class object attribute is static\n",
        "  def __init__(self, name, age): #method #class attribute\n",
        "    if (PlayerCharacter.membership): #class object attribute\n",
        "      self.name =name #attributes\n",
        "      self.age = age\n",
        "  def run(self):#method #class attribute\n",
        "    print('run')\n",
        "  def shout(self): #method #class attribute\n",
        "    print(f\"my name is {self.name}\")\n",
        "  def run(self, hello): #method #class attribute\n",
        "    print(f\"my name is {self.name}\")"
      ],
      "metadata": {
        "id": "C5yvCXuyGeEW"
      },
      "execution_count": null,
      "outputs": []
    },
    {
      "cell_type": "code",
      "source": [
        "player1 = PlayerCharacter('Sandy', 30)\n",
        "print(player1.shout())\n",
        "print(player1.run(\"hello\"))\n"
      ],
      "metadata": {
        "colab": {
          "base_uri": "https://localhost:8080/"
        },
        "id": "GzICSCt2Sedt",
        "outputId": "d055950d-1354-4c7f-f51f-b68c52ad1a79"
      },
      "execution_count": null,
      "outputs": [
        {
          "output_type": "stream",
          "name": "stdout",
          "text": [
            "my name is Sandy\n",
            "None\n",
            "my name is Sandy\n",
            "None\n"
          ]
        }
      ]
    },
    {
      "cell_type": "markdown",
      "source": [
        "# '__init__' instantiate an object"
      ],
      "metadata": {
        "id": "gK6oJzqyGen0"
      }
    },
    {
      "cell_type": "code",
      "source": [
        "class PlayerCharacter:\n",
        "  def __init__(self, name='anonymous', age=0):\n",
        "    if (age > 18):\n",
        "      self.name =name #attribute\n",
        "      self.age = age\n"
      ],
      "metadata": {
        "id": "KVIMab0FGjUt"
      },
      "execution_count": null,
      "outputs": []
    },
    {
      "cell_type": "code",
      "source": [
        "player1 = PlayerCharacter(name='Sandy', age=30)\n",
        "print(player1.name,player1.age)"
      ],
      "metadata": {
        "colab": {
          "base_uri": "https://localhost:8080/"
        },
        "id": "eqDFL6qvURo9",
        "outputId": "8d37be51-0ba3-474e-f6ac-22d0363a42d7"
      },
      "execution_count": null,
      "outputs": [
        {
          "output_type": "stream",
          "name": "stdout",
          "text": [
            "Sandy 30\n"
          ]
        }
      ]
    },
    {
      "cell_type": "markdown",
      "source": [
        "#@classmethod and @staticmethod"
      ],
      "metadata": {
        "id": "TZxMArSkGiOu"
      }
    },
    {
      "cell_type": "markdown",
      "source": [
        "@classmethod"
      ],
      "metadata": {
        "id": "k2boIJZEa32N"
      }
    },
    {
      "cell_type": "code",
      "source": [
        "class PlayerCharacter:\n",
        "  def __init__(self, name='anonymous', age=0):\n",
        "      self.name =name #attribute\n",
        "      self.age = age\n",
        "\n",
        "  @classmethod #can use class self\n",
        "  def adding_things(cls, num1, num2): #cls is the class  #cls use the class self init\n",
        "    return cls(\"Teddy\",num1 + num2)  #Instanciate\n"
      ],
      "metadata": {
        "id": "nUAJXLFGJSPN"
      },
      "execution_count": null,
      "outputs": []
    },
    {
      "cell_type": "code",
      "source": [
        "\n",
        "player3 =  PlayerCharacter.adding_things(2,3)\n",
        "print(player3.age)"
      ],
      "metadata": {
        "colab": {
          "base_uri": "https://localhost:8080/"
        },
        "id": "sNPILrLEWJWl",
        "outputId": "32215687-b6e7-421a-ea29-522dc5926f97"
      },
      "execution_count": null,
      "outputs": [
        {
          "output_type": "stream",
          "name": "stdout",
          "text": [
            "5\n"
          ]
        }
      ]
    },
    {
      "cell_type": "markdown",
      "source": [
        "@staticmethod"
      ],
      "metadata": {
        "id": "JnR0Ert4JT4X"
      }
    },
    {
      "cell_type": "code",
      "source": [
        "class PlayerCharacter:\n",
        "  def __init__(self, name='anonymous', age=0):\n",
        "      self.name =name #attribute\n",
        "      self.age = age\n",
        "  @staticmethod  #cannot use class self\n",
        "  def adding_things(num1, num2):\n",
        "    return num1 + num2"
      ],
      "metadata": {
        "id": "bAihePtJbANc"
      },
      "execution_count": null,
      "outputs": []
    },
    {
      "cell_type": "code",
      "source": [
        "print(PlayerCharacter.adding_things(2,3))\n"
      ],
      "metadata": {
        "colab": {
          "base_uri": "https://localhost:8080/"
        },
        "id": "8SOQJ_QIbcp7",
        "outputId": "295fc7e4-3fa0-47ad-ea22-d2f928e90aa6"
      },
      "execution_count": null,
      "outputs": [
        {
          "output_type": "stream",
          "name": "stdout",
          "text": [
            "5\n"
          ]
        }
      ]
    },
    {
      "cell_type": "markdown",
      "source": [
        "#Encapsulation - class with multiple group characteristics or function\n"
      ],
      "metadata": {
        "id": "tnrnNlbUboKG"
      }
    },
    {
      "cell_type": "code",
      "source": [
        "class PlayerCharacter:\n",
        "  def __init__(self, name='anonymous', age=0):\n",
        "      self.name =name #attribute\n",
        "      self.age = age\n",
        "  def speak(self):\n",
        "    print(f\"my name is {self.name}, and I am {self.age} years old\")"
      ],
      "metadata": {
        "id": "IAbM2KYkbsI0"
      },
      "execution_count": null,
      "outputs": []
    },
    {
      "cell_type": "code",
      "source": [
        "player1 =  PlayerCharacter(\"kim\", 50)\n",
        "print(player1.speak())"
      ],
      "metadata": {
        "colab": {
          "base_uri": "https://localhost:8080/"
        },
        "id": "bhrd4Uq2d74E",
        "outputId": "f63a0eb2-9380-490d-d40d-e34133c756e4"
      },
      "execution_count": null,
      "outputs": [
        {
          "output_type": "stream",
          "name": "stdout",
          "text": [
            "my name is kim, and I am 50 years old\n",
            "None\n"
          ]
        }
      ]
    },
    {
      "cell_type": "code",
      "source": [
        "#dictionary can compose single code of group characteristics\n",
        "player2 = {\"name\": \"kim\", \"age\":100 }\n",
        "\n",
        "print(player2[\"name\"])\n",
        "print(player2[\"age\"])"
      ],
      "metadata": {
        "colab": {
          "base_uri": "https://localhost:8080/"
        },
        "id": "yySDmO27kRrG",
        "outputId": "d16d7295-dfa2-4a8b-b5a8-d68a2b01063d"
      },
      "execution_count": null,
      "outputs": [
        {
          "output_type": "stream",
          "name": "stdout",
          "text": [
            "kim\n",
            "100\n"
          ]
        }
      ]
    },
    {
      "cell_type": "markdown",
      "source": [
        "#Abstraction - hidding information and using what is necessary"
      ],
      "metadata": {
        "id": "LeXQs7D8dkht"
      }
    },
    {
      "cell_type": "code",
      "source": [
        "class PlayerCharacter:\n",
        "  def __init__(self, name='anonymous', age=0):\n",
        "      self.name =name #attribute\n",
        "      self.age = age\n",
        "  def speak(self):\n",
        "    print(f\"my name is {self.name}, and I am {self.age} years old\")"
      ],
      "metadata": {
        "id": "nsi8gl4bdn4M"
      },
      "execution_count": null,
      "outputs": []
    },
    {
      "cell_type": "code",
      "source": [
        "player1 =  PlayerCharacter(\"kim\", 50)\n",
        "print(player1.speak())\n",
        "#Abstraction can change others function output which is wrong\n",
        "player1.name = \"!!!!\"\n",
        "player1.speak = \"Boooo\"\n",
        "print(player1.speak)\n",
        "\n"
      ],
      "metadata": {
        "colab": {
          "base_uri": "https://localhost:8080/"
        },
        "id": "34bxBfbQlyd0",
        "outputId": "7bc7595f-a827-42ef-b31b-85389c3c30d7"
      },
      "execution_count": null,
      "outputs": [
        {
          "output_type": "stream",
          "name": "stdout",
          "text": [
            "my name is kim, and I am 50 years old\n",
            "None\n",
            "Boooo\n"
          ]
        }
      ]
    },
    {
      "cell_type": "markdown",
      "source": [
        "#Private vs Public Variables"
      ],
      "metadata": {
        "id": "LtPJr3RueYsR"
      }
    },
    {
      "cell_type": "code",
      "source": [
        "class PlayerCharacter:\n",
        "  def __init__(self, name='anonymous', age=0):\n",
        "      self._name = name #Private variable _name (dont overwrite this if there is a underscore)\n",
        "      self._age = age #Private variable _age (dont overwrite this if there is a underscore)\n",
        "  def speak(self):\n",
        "    print(f\"my name is {self._name}, and I am {self._age} years old\")\n",
        "\n"
      ],
      "metadata": {
        "id": "04U4GjtZec0_"
      },
      "execution_count": null,
      "outputs": []
    },
    {
      "cell_type": "code",
      "source": [
        "player1 = PlayerCharacter(\"Kim\", 70)\n",
        "print(player1.speak())\n",
        "\n",
        "\n",
        "#__init__ dunder method dont overwrite this"
      ],
      "metadata": {
        "colab": {
          "base_uri": "https://localhost:8080/"
        },
        "id": "K4zH4-ROkR2h",
        "outputId": "16697b9d-2461-4770-e2c6-5ce0a8879604"
      },
      "execution_count": null,
      "outputs": [
        {
          "output_type": "stream",
          "name": "stdout",
          "text": [
            "my name is Kim, and I am 70 years old\n",
            "None\n"
          ]
        }
      ]
    },
    {
      "cell_type": "markdown",
      "source": [
        "#Inheritance\n",
        "new object that take the properties of the old object."
      ],
      "metadata": {
        "id": "HeOKD2nfehMp"
      }
    },
    {
      "cell_type": "code",
      "source": [
        "class User:\n",
        "  def sign_in(self):\n",
        "    print(\"loggined in\")\n",
        "\n",
        "  def attack(self):\n",
        "    print(\"Do nothing\")\n",
        "\n",
        "class Wizard(User):\n",
        "  def __init__(self, name, power):\n",
        "    self.name = name\n",
        "    self.power = power\n",
        "\n",
        "  def attack(self):\n",
        "    print(f\"attacking with power of {self.power}\")\n",
        "\n",
        "class Archer():\n",
        "  def __init__(self, name, num_arrows):\n",
        "    self.name = name\n",
        "    self.num_arrows = num_arrows\n",
        "\n",
        "  def attack(self):\n",
        "    print(f\"attacking with arrows: arrows left - {self.num_arrows}\")\n",
        "\n",
        "wizard1 = Wizard(\"Merlin\", 50)\n",
        "archer1 = Archer(\"Robin\", 100)\n",
        "\n",
        "print(wizard1.attack())\n",
        "print(wizard1.sign_in)\n",
        "\n",
        "print(isinstance(wizard1, object)) #output inherit the User class (parent)\n"
      ],
      "metadata": {
        "colab": {
          "base_uri": "https://localhost:8080/"
        },
        "id": "u0stH1RUemM9",
        "outputId": "a87750a7-d5df-4dc3-9456-73a63a55ee25"
      },
      "execution_count": null,
      "outputs": [
        {
          "output_type": "stream",
          "name": "stdout",
          "text": [
            "attacking with power of 50\n",
            "None\n",
            "<bound method User.sign_in of <__main__.Wizard object at 0x7b4ed81efb50>>\n",
            "True\n"
          ]
        }
      ]
    },
    {
      "cell_type": "markdown",
      "source": [
        "#Polymorphism\n",
        "  *Ability to redefind methods"
      ],
      "metadata": {
        "id": "LaXibqFFewgo"
      }
    },
    {
      "cell_type": "code",
      "source": [
        "class User:\n",
        "  def sign_in(self):\n",
        "    print(\"loggined in\")\n",
        "  def attack(self):\n",
        "    print(\"Do nothing\")\n",
        "\n",
        "class Wizard(User):\n",
        "  def __init__(self, name, power):\n",
        "    self.name = name\n",
        "    self.power = power\n",
        "\n",
        "  def attack(self):\n",
        "    User.attack(self)\n",
        "    print(f\"attacking with power of {self.power}\")\n",
        "\n",
        "class Archer():\n",
        "  def __init__(self, name, num_arrows):\n",
        "    self.name = name\n",
        "    self.num_arrows = num_arrows\n",
        "\n",
        "  def attack(self):\n",
        "    print(f\"attacking with arrows: arrows left - {self.num_arrows}\")\n",
        "\n",
        "wizard1 = Wizard(\"Merlin\", 60)\n",
        "archer1 = Archer(\"Robin\", 30)\n",
        "print(wizard1.attack())\n",
        "\n",
        "def player_attack(char): #polymorphism\n",
        "  char.attack()\n",
        "\n"
      ],
      "metadata": {
        "colab": {
          "base_uri": "https://localhost:8080/"
        },
        "id": "BGjNtGWReqnN",
        "outputId": "e3320c32-50d8-426b-83f9-692721cc814f"
      },
      "execution_count": null,
      "outputs": [
        {
          "output_type": "stream",
          "name": "stdout",
          "text": [
            "Do nothing\n",
            "attacking with power of 60\n",
            "None\n"
          ]
        }
      ]
    },
    {
      "cell_type": "code",
      "source": [
        "for char in [wizard1, archer1]:\n",
        "  char.attack()\n",
        "\n"
      ],
      "metadata": {
        "colab": {
          "base_uri": "https://localhost:8080/"
        },
        "id": "QFZj37ZMCS7s",
        "outputId": "bf9fe568-48ed-4685-e0de-e095189f0bd5"
      },
      "execution_count": null,
      "outputs": [
        {
          "output_type": "stream",
          "name": "stdout",
          "text": [
            "Do nothing\n",
            "attacking with power of 60\n",
            "attacking with arrows: arrows left - 30\n"
          ]
        }
      ]
    },
    {
      "cell_type": "markdown",
      "source": [
        "#super()"
      ],
      "metadata": {
        "id": "SYND0x21e0RB"
      }
    },
    {
      "cell_type": "code",
      "source": [
        "class User(object):\n",
        "  def __init__(self, email): #notice the email\n",
        "    self.email = email\n",
        "  def sign_in(self):\n",
        "    print(\"loggined in\")\n",
        "\n",
        "class Wizard(User):\n",
        "  def __init__(self, name, power, email): #<- pass in the email here\n",
        "    User.__init__(self, email) #auto instanciate the email\n",
        "    self.name = name\n",
        "    self.power = power\n",
        "\n",
        "  def attack(self):\n",
        "    User.attack(self)\n",
        "    print(f\"attacking with power of {self.power}\")\n",
        "\n",
        "wizard1 = Wizard(\"Merlin\", 70, \"merlin@gmail.com\")\n",
        "print(wizard1.email)\n"
      ],
      "metadata": {
        "colab": {
          "base_uri": "https://localhost:8080/"
        },
        "id": "vnS8SIP-e39g",
        "outputId": "a62880aa-5c91-4cd1-c4c8-925bff14dde8"
      },
      "execution_count": null,
      "outputs": [
        {
          "output_type": "stream",
          "name": "stdout",
          "text": [
            "merlin@gmail.com\n"
          ]
        }
      ]
    },
    {
      "cell_type": "code",
      "source": [
        "#super()\n",
        "class User(object):\n",
        "  def __init__(self, email): #notice the email\n",
        "    self.email = email\n",
        "  def sign_in(self):\n",
        "    print(\"loggined in\")\n",
        "\n",
        "class Wizard(User):\n",
        "  def __init__(self, name, power, email): #<- pass in the email here\n",
        "    super().__init__(email) #super consider the self\n",
        "    self.name = name\n",
        "    self.power = power\n",
        "\n",
        "  def attack(self):\n",
        "    User.attack(self)\n",
        "    print(f\"attacking with power of {self.power}\")\n",
        "\n",
        "wizard1 = Wizard(\"Merlin\", 70, \"merlin@gmail.com\")\n",
        "print(wizard1.email)"
      ],
      "metadata": {
        "colab": {
          "base_uri": "https://localhost:8080/"
        },
        "id": "CPZGRQ6nb3Wc",
        "outputId": "99e6a45b-75e4-40bc-f47f-08d21ac49078"
      },
      "execution_count": null,
      "outputs": [
        {
          "output_type": "stream",
          "name": "stdout",
          "text": [
            "merlin@gmail.com\n"
          ]
        }
      ]
    },
    {
      "cell_type": "markdown",
      "source": [
        "#Object Introspection\n",
        "The ability to determine the type of the object in the run time."
      ],
      "metadata": {
        "id": "sqSQDXz4e7FG"
      }
    },
    {
      "cell_type": "code",
      "source": [
        "wizard1 = Wizard(\"Merlin\", 70, \"merlin@gmail.com\")\n",
        "print(dir(wizard1)) # show what is access to some dunder"
      ],
      "metadata": {
        "colab": {
          "base_uri": "https://localhost:8080/"
        },
        "id": "_rCoWFOne-zd",
        "outputId": "fc408cb2-dbe1-407f-c0cd-1f370ca61213"
      },
      "execution_count": null,
      "outputs": [
        {
          "output_type": "stream",
          "name": "stdout",
          "text": [
            "['__class__', '__delattr__', '__dict__', '__dir__', '__doc__', '__eq__', '__format__', '__ge__', '__getattribute__', '__gt__', '__hash__', '__init__', '__init_subclass__', '__le__', '__lt__', '__module__', '__ne__', '__new__', '__reduce__', '__reduce_ex__', '__repr__', '__setattr__', '__sizeof__', '__str__', '__subclasshook__', '__weakref__', 'attack', 'email', 'name', 'power', 'sign_in']\n"
          ]
        }
      ]
    },
    {
      "cell_type": "markdown",
      "source": [
        "#Dunder Methods"
      ],
      "metadata": {
        "id": "OpmKYn5ffApI"
      }
    },
    {
      "cell_type": "code",
      "source": [
        "class Toy():\n",
        "  def __init__(self, color, age):\n",
        "    self.color = color\n",
        "    self.age = age\n",
        "    self.my_dictionary = { #dictionary\n",
        "        'name': 'Yoyo',\n",
        "        'has_pets': False\n",
        "    }\n",
        "  def __str__(self):\n",
        "    return f\"{self.color}\"\n",
        "\n",
        "  def __len__(self):\n",
        "    return 5\n",
        "\n",
        "  def __del__(self):\n",
        "    print(\"deleted!\")\n",
        "\n",
        "  def __call__(self): #__call__ use as general calling the function without attributes\n",
        "    return(\"yes??\")\n",
        "\n",
        "  def __getitem__(self,i): #__getitem__ enable to get value from dictionary via string index\n",
        "    return self.my_dictionary[i]\n",
        "\n",
        "action_figure = Toy(\"red\", 0)\n",
        "print(action_figure.__str__())  #same as below\n",
        "print(str(action_figure))\n",
        "print(len(action_figure))\n",
        "print(action_figure()) #call dunder\n",
        "print(action_figure['name']) #applying getitem string index"
      ],
      "metadata": {
        "colab": {
          "base_uri": "https://localhost:8080/"
        },
        "id": "9LgBdLrnfD8D",
        "outputId": "dabfc3a1-d50b-4b9e-9d1e-2d538e442896"
      },
      "execution_count": 7,
      "outputs": [
        {
          "output_type": "stream",
          "name": "stdout",
          "text": [
            "deleted!\n",
            "red\n",
            "red\n",
            "5\n",
            "yes??\n",
            "Yoyo\n"
          ]
        }
      ]
    },
    {
      "cell_type": "markdown",
      "source": [
        "#Excercise: Extending List"
      ],
      "metadata": {
        "id": "TnDtqN4mfH2S"
      }
    },
    {
      "cell_type": "code",
      "source": [
        "class SuperList(list):\n",
        "  def __len__(self):\n",
        "    return 1000\n",
        "\n",
        "super_list1 = SuperList();\n",
        "len(super_list1)\n",
        "super_list1.append(5)\n",
        "print(super_list1[0])\n",
        "print(issubclass(SuperList, list))\n",
        "print(issubclass(list, object))"
      ],
      "metadata": {
        "id": "AxPzgAQmfOHG",
        "colab": {
          "base_uri": "https://localhost:8080/"
        },
        "outputId": "0d0e9cbb-8051-4003-a6ec-03261327fa16"
      },
      "execution_count": 13,
      "outputs": [
        {
          "output_type": "stream",
          "name": "stdout",
          "text": [
            "5\n",
            "True\n",
            "True\n"
          ]
        }
      ]
    },
    {
      "cell_type": "markdown",
      "source": [
        "#Multiple Inheritance"
      ],
      "metadata": {
        "id": "t0XXFq7afP0x"
      }
    },
    {
      "cell_type": "code",
      "source": [
        "class User():\n",
        "  def sign_in(self):\n",
        "    print(\"loggined in\")\n",
        "\n",
        "class Wizard(User):\n",
        "  def __init__(self, name, power):\n",
        "    self.name = name\n",
        "    self.power = power\n",
        "\n",
        "  def attack(self):\n",
        "    print(f\"attacking with power of {self.power}\")\n",
        "\n",
        "class Archer(User):\n",
        "  def __init__(self, name, num_arrows):\n",
        "    self.name = name\n",
        "    self.num_arrows = num_arrows\n",
        "\n",
        "  def attack(self):\n",
        "    print(f\"attacking with arrows: arrows left - {self.num_arrows}\")\n",
        "\n",
        "  def check_arrows(self):\n",
        "    print(f\"{self.num_arrows} remaining\")\n",
        "\n",
        "  def run(self):\n",
        "    print(\"ran really fast\")\n",
        "\n",
        "class HybridBorg(Wizard, Archer): #multiple inheritance\n",
        "  #pass\n",
        "  def __init__(self, name, power, arrows): # enable to add arrows\n",
        "    Archer.__init__(self, name, arrows)\n",
        "    Wizard.__init__(self, name, power)\n",
        "hb1 = HybridBorg('borgie', 50, 100) #100 is the arrows\n",
        "print(hb1.run())\n",
        "print(hb1.check_arrows())\n",
        "print(hb1.attack())\n",
        "print(hb1.sign_in())"
      ],
      "metadata": {
        "id": "w7c8ct4vfWXb",
        "colab": {
          "base_uri": "https://localhost:8080/"
        },
        "outputId": "29f0b24f-1aa0-4483-e2eb-e615a623913a"
      },
      "execution_count": 23,
      "outputs": [
        {
          "output_type": "stream",
          "name": "stdout",
          "text": [
            "ran really fast\n",
            "None\n",
            "100 remaining\n",
            "None\n",
            "attacking with power of 50\n",
            "None\n",
            "loggined in\n",
            "None\n"
          ]
        }
      ]
    },
    {
      "cell_type": "markdown",
      "source": [
        "#MRO - Method Resolution Order"
      ],
      "metadata": {
        "id": "zZfRd9TgfYRC"
      }
    },
    {
      "cell_type": "code",
      "source": [
        "class A:\n",
        "  num = 10\n",
        "class B(A):\n",
        "  pass\n",
        "class C(A):\n",
        "  num = 1\n",
        "class D(B, C):\n",
        "  pass\n"
      ],
      "metadata": {
        "id": "5kJ83mWQfbtO"
      },
      "execution_count": 28,
      "outputs": []
    },
    {
      "cell_type": "code",
      "source": [
        "print(D.num)\n",
        "print(D.mro())"
      ],
      "metadata": {
        "colab": {
          "base_uri": "https://localhost:8080/"
        },
        "id": "4EMC8HKeM-L_",
        "outputId": "2d186fe5-b93b-4802-80bf-de31519f79c9"
      },
      "execution_count": 29,
      "outputs": [
        {
          "output_type": "stream",
          "name": "stdout",
          "text": [
            "1\n",
            "[<class '__main__.D'>, <class '__main__.B'>, <class '__main__.C'>, <class '__main__.A'>, <class 'object'>]\n"
          ]
        }
      ]
    },
    {
      "cell_type": "code",
      "source": [
        "class A:\n",
        "  pass\n",
        "class B(A):\n",
        "  pass\n",
        "class C(A):\n",
        "  pass\n",
        "class D(B, C):\n",
        "  pass\n",
        "D.__str__"
      ],
      "metadata": {
        "colab": {
          "base_uri": "https://localhost:8080/"
        },
        "id": "yd3gWhQ4Nmcx",
        "outputId": "cdce84d2-bdf7-484f-afbe-caee129731ee"
      },
      "execution_count": 27,
      "outputs": [
        {
          "output_type": "execute_result",
          "data": {
            "text/plain": [
              "<slot wrapper '__str__' of 'object' objects>"
            ]
          },
          "metadata": {},
          "execution_count": 27
        }
      ]
    },
    {
      "cell_type": "code",
      "source": [
        "class X:pass\n",
        "class Y:pass\n",
        "class Z:pass\n",
        "class A(X,Y): pass\n",
        "class B(Y,Z): pass\n",
        "class M(B,A,Z): pass\n",
        "\n",
        "#M.__mro__ #same\n",
        "print(M.mro()) #same #Dept First Search\n"
      ],
      "metadata": {
        "colab": {
          "base_uri": "https://localhost:8080/"
        },
        "id": "fGIfMjvgN2K9",
        "outputId": "ca8d3afb-e2b9-4cfd-ce99-a03fc81becc3"
      },
      "execution_count": 32,
      "outputs": [
        {
          "output_type": "stream",
          "name": "stdout",
          "text": [
            "[<class '__main__.M'>, <class '__main__.B'>, <class '__main__.A'>, <class '__main__.X'>, <class '__main__.Y'>, <class '__main__.Z'>, <class 'object'>]\n"
          ]
        }
      ]
    }
  ]
}
