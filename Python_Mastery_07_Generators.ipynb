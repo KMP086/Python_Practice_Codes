{
  "nbformat": 4,
  "nbformat_minor": 0,
  "metadata": {
    "colab": {
      "provenance": []
    },
    "kernelspec": {
      "name": "python3",
      "display_name": "Python 3"
    },
    "language_info": {
      "name": "python"
    }
  },
  "cells": [
    {
      "cell_type": "markdown",
      "source": [
        "#Generators\n",
        "\n",
        "Generators enable keyword that allow us to pause or resume"
      ],
      "metadata": {
        "id": "-8WDEpRmJquW"
      }
    },
    {
      "cell_type": "code",
      "execution_count": 2,
      "metadata": {
        "colab": {
          "base_uri": "https://localhost:8080/"
        },
        "id": "boA4RbZfJUEG",
        "outputId": "9e7eb0b1-8c07-44c2-d2ba-3093ad7edac2"
      },
      "outputs": [
        {
          "output_type": "stream",
          "name": "stdout",
          "text": [
            "[0, 2, 4, 6, 8, 10, 12, 14, 16, 18, 20, 22, 24, 26, 28, 30, 32, 34, 36, 38]\n"
          ]
        }
      ],
      "source": [
        "range(20) #is a generator, Genrator one by one\n",
        "list(range(20))\n",
        "\n",
        "def make_list(num):\n",
        "  result = []\n",
        "  for i in range(num):\n",
        "    result.append(i*2)\n",
        "  return result\n",
        "\n",
        "my_list = make_list(20)\n",
        "print(my_list)"
      ]
    },
    {
      "cell_type": "code",
      "source": [
        "print(list(range(20)))"
      ],
      "metadata": {
        "colab": {
          "base_uri": "https://localhost:8080/"
        },
        "id": "tW64a1TVLjGX",
        "outputId": "f8150ddd-9681-46a4-e5b3-23faec717b2f"
      },
      "execution_count": 3,
      "outputs": [
        {
          "output_type": "stream",
          "name": "stdout",
          "text": [
            "[0, 1, 2, 3, 4, 5, 6, 7, 8, 9, 10, 11, 12, 13, 14, 15, 16, 17, 18, 19]\n"
          ]
        }
      ]
    },
    {
      "cell_type": "markdown",
      "source": [
        "#Generator 2\n",
        "\n",
        "\n",
        "\n",
        "*   interable -> __iter__\n",
        "*   iterable -> get an item\n",
        "*   genrator is a subtance of interable\n",
        "\n",
        "\n",
        "\n"
      ],
      "metadata": {
        "id": "oq-Rw0mlL7Kf"
      }
    },
    {
      "cell_type": "code",
      "source": [
        "def generator_function(num):\n",
        "  for i in range(num):\n",
        "    yield i  #cause the functions equivalent to next"
      ],
      "metadata": {
        "id": "CE4lQbaNL9iG"
      },
      "execution_count": 4,
      "outputs": []
    },
    {
      "cell_type": "code",
      "source": [
        "for item in generator_function(10):  #iterable  generator_function(100)\n",
        "  print(item)"
      ],
      "metadata": {
        "colab": {
          "base_uri": "https://localhost:8080/"
        },
        "id": "f6G2LY9pM4qv",
        "outputId": "23ba8714-aa7c-481f-9dad-78fb24992042"
      },
      "execution_count": 7,
      "outputs": [
        {
          "output_type": "stream",
          "name": "stdout",
          "text": [
            "0\n",
            "1\n",
            "2\n",
            "3\n",
            "4\n",
            "5\n",
            "6\n",
            "7\n",
            "8\n",
            "9\n"
          ]
        }
      ]
    },
    {
      "cell_type": "code",
      "source": [
        "def generator_function2(num):\n",
        "  for i in range(num):\n",
        "    yield i*2  #cause the functions equivalent to next\n",
        "\n",
        "g = generator_function2(10)\n",
        "next(g) #activate the yield per one loop not the overall\n",
        "next(g) #activate the yield per one loop not the overall\n",
        "print(next(g))"
      ],
      "metadata": {
        "colab": {
          "base_uri": "https://localhost:8080/"
        },
        "id": "1Dku9Vw7NQ_H",
        "outputId": "661b43ba-3c17-4000-edf7-cb5947ff88fd"
      },
      "execution_count": 11,
      "outputs": [
        {
          "output_type": "stream",
          "name": "stdout",
          "text": [
            "4\n"
          ]
        }
      ]
    },
    {
      "cell_type": "code",
      "source": [
        "#Error\n",
        "def generator_function2(num):\n",
        "  for i in range(num):\n",
        "    yield i  #cause the functions equivalent to next\n",
        "\n",
        "#g = generator_function2(1)\n",
        "#next(g) #will display the first loop run\n",
        "#next(g) #error here because of the num limits\n",
        "#print(next(g))"
      ],
      "metadata": {
        "id": "4wzar3JuOQSg"
      },
      "execution_count": null,
      "outputs": []
    },
    {
      "cell_type": "markdown",
      "source": [
        "#Generator Performanace"
      ],
      "metadata": {
        "id": "eNN2Vg7HOsJZ"
      }
    },
    {
      "cell_type": "code",
      "source": [
        "from time import time\n",
        "def performance(fn):\n",
        "  def wrapper(*args, **kawrgs):\n",
        "    t1 = time()\n",
        "    result = fn(*args, **kawrgs)\n",
        "    t2 = time()\n",
        "    print(f'took {t2-t1}s')\n",
        "    return result\n",
        "  return wrapper\n",
        "\n",
        "@performance\n",
        "def long_time():\n",
        "  print('1')\n",
        "  for i in range(100):\n",
        "    i*5\n",
        "\n",
        "@performance\n",
        "def long_time2():\n",
        "  print('2')\n",
        "  for i in list(range(100)):\n",
        "    i*5\n",
        ""
      ],
      "metadata": {
        "id": "LdTP7cpxOwvf"
      },
      "execution_count": 16,
      "outputs": []
    },
    {
      "cell_type": "code",
      "source": [
        "long_time()"
      ],
      "metadata": {
        "colab": {
          "base_uri": "https://localhost:8080/"
        },
        "id": "nw7bsMOFPDu4",
        "outputId": "e7487855-8db8-4410-8d00-12bcc4371b09"
      },
      "execution_count": 17,
      "outputs": [
        {
          "output_type": "stream",
          "name": "stdout",
          "text": [
            "1\n",
            "took 8.440017700195312e-05s\n"
          ]
        }
      ]
    },
    {
      "cell_type": "code",
      "source": [
        "long_time2()"
      ],
      "metadata": {
        "colab": {
          "base_uri": "https://localhost:8080/"
        },
        "id": "9rgrt1y2QXrB",
        "outputId": "01d00184-1cac-49e7-cf9f-64ef01519b47"
      },
      "execution_count": 18,
      "outputs": [
        {
          "output_type": "stream",
          "name": "stdout",
          "text": [
            "2\n",
            "took 0.00013113021850585938s\n"
          ]
        }
      ]
    },
    {
      "cell_type": "markdown",
      "source": [
        "#Under the hood Generators"
      ],
      "metadata": {
        "id": "N5_gv0S6Qzzo"
      }
    },
    {
      "cell_type": "code",
      "source": [
        "def special_for(iterable):\n",
        "  iterable = iter(iterable)\n",
        "  while True:\n",
        "    try:\n",
        "      print(iterable)\n",
        "      print(next(iterable)*2)\n",
        "    except StopIteration:\n",
        "      break"
      ],
      "metadata": {
        "id": "yE2R8JZHQ_gg"
      },
      "execution_count": 22,
      "outputs": []
    },
    {
      "cell_type": "code",
      "source": [
        "print(special_for([1,2,3]))"
      ],
      "metadata": {
        "colab": {
          "base_uri": "https://localhost:8080/"
        },
        "id": "AVHQDv0IQz_H",
        "outputId": "09bf58b6-3863-403f-fe59-31a8562c38a1"
      },
      "execution_count": 23,
      "outputs": [
        {
          "output_type": "stream",
          "name": "stdout",
          "text": [
            "<list_iterator object at 0x791b063a7c10>\n",
            "2\n",
            "<list_iterator object at 0x791b063a7c10>\n",
            "4\n",
            "<list_iterator object at 0x791b063a7c10>\n",
            "6\n",
            "<list_iterator object at 0x791b063a7c10>\n",
            "None\n"
          ]
        }
      ]
    },
    {
      "cell_type": "code",
      "source": [
        "class MyGen():\n",
        "  current = 0\n",
        "  def __init__(self, first, last):\n",
        "    self.first = first\n",
        "    self.last = last\n",
        "\n",
        "  def __iter__(self):\n",
        "    return self\n",
        "\n",
        "  def __next__(self):\n",
        "    if MyGen.current < self.last:\n",
        "      num = MyGen.current\n",
        "      MyGen.current +=1\n",
        "      return num\n",
        "    raise StopIteration\n",
        "\n"
      ],
      "metadata": {
        "id": "XoJbh0pXSS3q"
      },
      "execution_count": 28,
      "outputs": []
    },
    {
      "cell_type": "code",
      "source": [
        "gen = MyGen(0,10)\n",
        "for i in gen:\n",
        "      print(i)"
      ],
      "metadata": {
        "colab": {
          "base_uri": "https://localhost:8080/"
        },
        "id": "x9hyHu2MY_yM",
        "outputId": "8fb0dea1-efc4-436c-ffae-7e453200f078"
      },
      "execution_count": 29,
      "outputs": [
        {
          "output_type": "stream",
          "name": "stdout",
          "text": [
            "0\n",
            "1\n",
            "2\n",
            "3\n",
            "4\n",
            "5\n",
            "6\n",
            "7\n",
            "8\n",
            "9\n"
          ]
        }
      ]
    },
    {
      "cell_type": "markdown",
      "source": [
        "#Fibonacci Numbers using Generators"
      ],
      "metadata": {
        "id": "AEOksJYYbQDx"
      }
    },
    {
      "cell_type": "code",
      "source": [
        "def fib(number):\n",
        "  a = 0\n",
        "  b = 1\n",
        "  for i in range(number):\n",
        "    yield a\n",
        "    temp = a\n",
        "    a = b\n",
        "    b= temp + b"
      ],
      "metadata": {
        "id": "hop8HLf0WDZB"
      },
      "execution_count": 30,
      "outputs": []
    },
    {
      "cell_type": "code",
      "source": [
        "for x in fib(10):\n",
        "  print(x)"
      ],
      "metadata": {
        "colab": {
          "base_uri": "https://localhost:8080/"
        },
        "id": "d7giSYZgdIAj",
        "outputId": "3620bd4b-2312-4fb9-bc40-72a61cfcf4cc"
      },
      "execution_count": 32,
      "outputs": [
        {
          "output_type": "stream",
          "name": "stdout",
          "text": [
            "0\n",
            "1\n",
            "1\n",
            "2\n",
            "3\n",
            "5\n",
            "8\n",
            "13\n",
            "21\n",
            "34\n"
          ]
        }
      ]
    },
    {
      "cell_type": "code",
      "source": [
        "#list\n",
        "def fiblist(number):\n",
        "  a = 0\n",
        "  b = 1\n",
        "  result = []\n",
        "  for i in range(number):\n",
        "    result.append(a)\n",
        "    temp = a\n",
        "    a = b\n",
        "    b= temp + b\n",
        "  return result"
      ],
      "metadata": {
        "id": "uHdr8ElMdZJT"
      },
      "execution_count": 38,
      "outputs": []
    },
    {
      "cell_type": "code",
      "source": [
        "print(fiblist(10))"
      ],
      "metadata": {
        "colab": {
          "base_uri": "https://localhost:8080/"
        },
        "id": "Lpd_O9YRdjzD",
        "outputId": "0a0a899d-d4f7-43a7-c5c7-5c94a8b3f589"
      },
      "execution_count": 40,
      "outputs": [
        {
          "output_type": "stream",
          "name": "stdout",
          "text": [
            "[0, 1, 1, 2, 3, 5, 8, 13, 21, 34]\n"
          ]
        }
      ]
    }
  ]
}