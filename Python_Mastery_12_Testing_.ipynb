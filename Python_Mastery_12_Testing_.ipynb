{
  "nbformat": 4,
  "nbformat_minor": 0,
  "metadata": {
    "colab": {
      "provenance": []
    },
    "kernelspec": {
      "name": "python3",
      "display_name": "Python 3"
    },
    "language_info": {
      "name": "python"
    }
  },
  "cells": [
    {
      "cell_type": "markdown",
      "source": [
        "#Unittest"
      ],
      "metadata": {
        "id": "fzRFX_gON6e4"
      }
    },
    {
      "cell_type": "code",
      "source": [
        "def do_stuff(num):\n",
        "  return num + 5\n"
      ],
      "metadata": {
        "id": "gNuannX6OEAY"
      },
      "execution_count": 1,
      "outputs": []
    },
    {
      "cell_type": "code",
      "execution_count": 2,
      "metadata": {
        "id": "oeyIQNKJK3AF"
      },
      "outputs": [],
      "source": [
        "import unittest\n"
      ]
    },
    {
      "cell_type": "code",
      "source": [
        "class TestItem(unittest.TestCase):\n",
        "  def test_do_stuff(self):\n",
        "    test_param =10\n",
        "    result = do_stuff(test_param)\n",
        "    self.assertEqual(result,10)\n",
        "\n"
      ],
      "metadata": {
        "id": "I3X4dDD0PCWg"
      },
      "execution_count": 3,
      "outputs": []
    },
    {
      "cell_type": "code",
      "source": [
        "import unittest\n",
        "import main\n",
        "\n",
        "class TestMain(unittest.TestCase):\n",
        "  def test_do_stuff(self):\n",
        "    test_param = 10\n",
        "    result = main.do_stuff(test_param)\n",
        "    self.assertEqual(result, 15)\n",
        "\n",
        "  def test_do_stuff2(self):\n",
        "    test_param = 'shkshks'\n",
        "    result = main.do_stuff(test_param)\n",
        "    self.assertTrue(isinstance(result, ValueError))\n",
        "\n",
        "unittest.main()"
      ],
      "metadata": {
        "colab": {
          "base_uri": "https://localhost:8080/",
          "height": 384
        },
        "id": "OM1qNk0QZVi8",
        "outputId": "c500d422-a0d1-4556-fa78-c476ae3a08ee"
      },
      "execution_count": 6,
      "outputs": [
        {
          "output_type": "error",
          "ename": "ModuleNotFoundError",
          "evalue": "No module named 'main'",
          "traceback": [
            "\u001b[0;31m---------------------------------------------------------------------------\u001b[0m",
            "\u001b[0;31mModuleNotFoundError\u001b[0m                       Traceback (most recent call last)",
            "\u001b[0;32m<ipython-input-6-4181fd131d4b>\u001b[0m in \u001b[0;36m<cell line: 2>\u001b[0;34m()\u001b[0m\n\u001b[1;32m      1\u001b[0m \u001b[0;32mimport\u001b[0m \u001b[0munittest\u001b[0m\u001b[0;34m\u001b[0m\u001b[0;34m\u001b[0m\u001b[0m\n\u001b[0;32m----> 2\u001b[0;31m \u001b[0;32mimport\u001b[0m \u001b[0mmain\u001b[0m\u001b[0;34m\u001b[0m\u001b[0;34m\u001b[0m\u001b[0m\n\u001b[0m\u001b[1;32m      3\u001b[0m \u001b[0;34m\u001b[0m\u001b[0m\n\u001b[1;32m      4\u001b[0m \u001b[0;32mclass\u001b[0m \u001b[0mTestMain\u001b[0m\u001b[0;34m(\u001b[0m\u001b[0munittest\u001b[0m\u001b[0;34m.\u001b[0m\u001b[0mTestCase\u001b[0m\u001b[0;34m)\u001b[0m\u001b[0;34m:\u001b[0m\u001b[0;34m\u001b[0m\u001b[0;34m\u001b[0m\u001b[0m\n\u001b[1;32m      5\u001b[0m   \u001b[0;32mdef\u001b[0m \u001b[0mtest_do_stuff\u001b[0m\u001b[0;34m(\u001b[0m\u001b[0mself\u001b[0m\u001b[0;34m)\u001b[0m\u001b[0;34m:\u001b[0m\u001b[0;34m\u001b[0m\u001b[0;34m\u001b[0m\u001b[0m\n",
            "\u001b[0;31mModuleNotFoundError\u001b[0m: No module named 'main'",
            "",
            "\u001b[0;31m---------------------------------------------------------------------------\u001b[0;32m\nNOTE: If your import is failing due to a missing package, you can\nmanually install dependencies using either !pip or !apt.\n\nTo view examples of installing some common dependencies, click the\n\"Open Examples\" button below.\n\u001b[0;31m---------------------------------------------------------------------------\u001b[0m\n"
          ],
          "errorDetails": {
            "actions": [
              {
                "action": "open_url",
                "actionText": "Open Examples",
                "url": "/notebooks/snippets/importing_libraries.ipynb"
              }
            ]
          }
        }
      ]
    },
    {
      "cell_type": "code",
      "source": [
        "if __name__ == '__main__':\n",
        "    unittest.main()"
      ],
      "metadata": {
        "colab": {
          "base_uri": "https://localhost:8080/",
          "height": 297
        },
        "id": "FD1msfH_UljQ",
        "outputId": "f3463887-5047-4636-c3fd-06551e8ee5f9"
      },
      "execution_count": 4,
      "outputs": [
        {
          "output_type": "stream",
          "name": "stderr",
          "text": [
            "E\n",
            "======================================================================\n",
            "ERROR: /root/ (unittest.loader._FailedTest)\n",
            "----------------------------------------------------------------------\n",
            "AttributeError: module '__main__' has no attribute '/root/'\n",
            "\n",
            "----------------------------------------------------------------------\n",
            "Ran 1 test in 0.005s\n",
            "\n",
            "FAILED (errors=1)\n"
          ]
        },
        {
          "output_type": "error",
          "ename": "SystemExit",
          "evalue": "True",
          "traceback": [
            "An exception has occurred, use %tb to see the full traceback.\n",
            "\u001b[0;31mSystemExit\u001b[0m\u001b[0;31m:\u001b[0m True\n"
          ]
        },
        {
          "output_type": "stream",
          "name": "stderr",
          "text": [
            "/usr/local/lib/python3.10/dist-packages/IPython/core/interactiveshell.py:3561: UserWarning: To exit: use 'exit', 'quit', or Ctrl-D.\n",
            "  warn(\"To exit: use 'exit', 'quit', or Ctrl-D.\", stacklevel=1)\n"
          ]
        }
      ]
    },
    {
      "cell_type": "code",
      "source": [
        "def do_stuff(num):\n",
        "  try:\n",
        "    return int(num) + 5\n",
        "  except ValueError as err:\n",
        "    return err"
      ],
      "metadata": {
        "id": "vWrTmLmYWTVd"
      },
      "execution_count": 5,
      "outputs": []
    },
    {
      "cell_type": "markdown",
      "source": [
        "#Writing Unit Tests"
      ],
      "metadata": {
        "id": "9KgZoZaCbvGY"
      }
    },
    {
      "cell_type": "code",
      "source": [
        "def do_stuff(num=0):\n",
        "  try:\n",
        "    if num:\n",
        "      return int(num) + 5\n",
        "    else:\n",
        "      return 'please enter number'\n",
        "  except ValueError as err:\n",
        "    return err"
      ],
      "metadata": {
        "id": "YGFcbhtudd0I"
      },
      "execution_count": 8,
      "outputs": []
    },
    {
      "cell_type": "code",
      "source": [
        "import unittest\n",
        "import main\n",
        "\n",
        "class TestMain(unittest.TestCase):\n",
        "  def test_do_stuff(self):\n",
        "    test_param = 10\n",
        "    result = main.do_stuff(test_param)\n",
        "    self.assertEqual(result, 15)\n",
        "\n",
        "  def test_do_stuff2(self):\n",
        "    test_param = 'shkshks'\n",
        "    result = main.do_stuff(test_param)\n",
        "    self.assertTrue(isinstance(result, ValueError))\n",
        "\n",
        "  def test_do_stuff3(self):\n",
        "    test_param = None\n",
        "    result = main.do_stuff(test_param)\n",
        "    self.assertIsInstance(result,'Please Enter Number')\n",
        "\n",
        "  def test_do_stuff4(self):\n",
        "    test_param = None\n",
        "    result = main.do_stuff(test_param)\n",
        "    self.assertEqual(result,'Please Enter Number')\n",
        "\n",
        "\n",
        "if __name__ == '__main__'\n",
        "unittest.main()"
      ],
      "metadata": {
        "colab": {
          "base_uri": "https://localhost:8080/",
          "height": 297
        },
        "id": "JT_aKJnvbyaN",
        "outputId": "19c10d74-11b3-4c3a-97ca-cf4ffaddab2e"
      },
      "execution_count": 10,
      "outputs": [
        {
          "output_type": "stream",
          "name": "stderr",
          "text": [
            "E\n",
            "======================================================================\n",
            "ERROR: /root/ (unittest.loader._FailedTest)\n",
            "----------------------------------------------------------------------\n",
            "AttributeError: module '__main__' has no attribute '/root/'\n",
            "\n",
            "----------------------------------------------------------------------\n",
            "Ran 1 test in 0.003s\n",
            "\n",
            "FAILED (errors=1)\n"
          ]
        },
        {
          "output_type": "error",
          "ename": "SystemExit",
          "evalue": "True",
          "traceback": [
            "An exception has occurred, use %tb to see the full traceback.\n",
            "\u001b[0;31mSystemExit\u001b[0m\u001b[0;31m:\u001b[0m True\n"
          ]
        },
        {
          "output_type": "stream",
          "name": "stderr",
          "text": [
            "/usr/local/lib/python3.10/dist-packages/IPython/core/interactiveshell.py:3561: UserWarning: To exit: use 'exit', 'quit', or Ctrl-D.\n",
            "  warn(\"To exit: use 'exit', 'quit', or Ctrl-D.\", stacklevel=1)\n"
          ]
        }
      ]
    },
    {
      "cell_type": "markdown",
      "source": [
        "#Writing Unit test 2"
      ],
      "metadata": {
        "id": "tqpcNmJuflQp"
      }
    },
    {
      "cell_type": "code",
      "source": [
        "import unittest\n",
        "import main\n",
        "\n",
        "class TestMain(unittest.TestCase):\n",
        "  def setUp(self):\n",
        "    print('about to test a function')\n",
        "  def test_do_stuff(self):\n",
        "    test_param = 10\n",
        "    result = main.do_stuff(test_param)\n",
        "    self.assertEqual(result, 15)\n",
        "\n",
        "  def test_do_stuff2(self):\n",
        "    test_param = 'shkshks'\n",
        "    result = main.do_stuff(test_param)\n",
        "    self.assertTrue(isinstance(result, ValueError))\n",
        "\n",
        "  def test_do_stuff3(self):\n",
        "    test_param = None\n",
        "    result = main.do_stuff(test_param)\n",
        "    self.assertIsInstance(result,'Please Enter Number')\n",
        "\n",
        "  def test_do_stuff4(self):\n",
        "    test_param = None\n",
        "    result = main.do_stuff(test_param)\n",
        "    self.assertEqual(result,'Please Enter Number')\n",
        "\n",
        "  def tearDown(self):\n",
        "    print('cleaning up')\n",
        "\n",
        "if __name__ == '__main__'\n",
        "unittest.main()"
      ],
      "metadata": {
        "id": "d8Xq2CQxgfee"
      },
      "execution_count": null,
      "outputs": []
    },
    {
      "cell_type": "markdown",
      "source": [
        "#Exercise Testing"
      ],
      "metadata": {
        "id": "jiFiRNmQzdKv"
      }
    },
    {
      "cell_type": "code",
      "source": [
        "import random\n",
        "\n",
        "def run_guess(guess, answer):\n",
        "    if 0 < guess < 11:\n",
        "        if guess == answer:\n",
        "           print('you are a genius!')\n",
        "           return\n",
        "    else:\n",
        "        print('hey bozo, I said 1 ~ 10')\n",
        "\n",
        "answer = random.randint(1,10)\n",
        "\n",
        "if __name__ == '__main__':\n",
        "  answer = random.randint(1,10)\n",
        "  while True:\n",
        "    try:\n",
        "      guess = int(input('guess a number 1~10: '))\n",
        "      if(run_guess(guess, answer)):\n",
        "        break\n",
        "    except ValueError:\n",
        "      print('please enter a number')\n",
        "      continue"
      ],
      "metadata": {
        "id": "fQXb3pGg9wbH"
      },
      "execution_count": null,
      "outputs": []
    },
    {
      "cell_type": "code",
      "source": [
        "import unittest\n",
        "import script\n",
        "\n",
        "class TestGame(unittest.TestCase):\n",
        "  def test_input(self):\n",
        "    answer = 5\n",
        "    guest = 5\n",
        "    result = script.run_guess(answer, guest)\n",
        "    self.assertTrue(result)\n",
        "\n",
        "  def test_input_wrong_guess(self):\n",
        "    result = script.run_guess(5, 0)\n",
        "    self.assertTrue(result)\n",
        "\n",
        "  if __name__ == '__main__':\n",
        "    unittest.main()"
      ],
      "metadata": {
        "id": "e2khtDqq_cYY"
      },
      "execution_count": null,
      "outputs": []
    }
  ]
}