{
  "nbformat": 4,
  "nbformat_minor": 0,
  "metadata": {
    "colab": {
      "provenance": []
    },
    "kernelspec": {
      "name": "python3",
      "display_name": "Python 3"
    },
    "language_info": {
      "name": "python"
    }
  },
  "cells": [
    {
      "cell_type": "markdown",
      "source": [
        "#Regular Expression"
      ],
      "metadata": {
        "id": "VHSNdv-I5Xs8"
      }
    },
    {
      "cell_type": "code",
      "execution_count": null,
      "metadata": {
        "colab": {
          "base_uri": "https://localhost:8080/"
        },
        "id": "U-JBnvZK5KIr",
        "outputId": "78c70fd5-beef-499c-e16d-ef07fe278628"
      },
      "outputs": [
        {
          "output_type": "stream",
          "name": "stdout",
          "text": [
            "(17, 21)\n"
          ]
        }
      ],
      "source": [
        "import re # re ~> regular expression\n",
        "String = 'search inside of this text please!'\n",
        "\n",
        "a = re.search('this', String)\n",
        "print(a.span())"
      ]
    },
    {
      "cell_type": "code",
      "source": [
        "print(a.start(), a.end())\n"
      ],
      "metadata": {
        "colab": {
          "base_uri": "https://localhost:8080/"
        },
        "id": "_7VMSWpu6HyB",
        "outputId": "ec749b8c-6915-4f60-ff3c-9140967f4017"
      },
      "execution_count": null,
      "outputs": [
        {
          "output_type": "stream",
          "name": "stdout",
          "text": [
            "17 21\n"
          ]
        }
      ]
    },
    {
      "cell_type": "code",
      "source": [
        "print(a.group())"
      ],
      "metadata": {
        "colab": {
          "base_uri": "https://localhost:8080/"
        },
        "id": "8hxb6JMy6Rtb",
        "outputId": "aa04191f-94ca-4ff3-e306-f9e172ec4c5f"
      },
      "execution_count": null,
      "outputs": [
        {
          "output_type": "stream",
          "name": "stdout",
          "text": [
            "this\n"
          ]
        }
      ]
    },
    {
      "cell_type": "code",
      "source": [
        "pattern = re.compile('this')\n",
        "String = 'search inside of this text please!'\n",
        "a = pattern.search(String)\n",
        "print(a)"
      ],
      "metadata": {
        "colab": {
          "base_uri": "https://localhost:8080/"
        },
        "id": "wxaVxydC6jPG",
        "outputId": "2406f520-c453-4766-dadc-3a785c49a885"
      },
      "execution_count": null,
      "outputs": [
        {
          "output_type": "stream",
          "name": "stdout",
          "text": [
            "this\n"
          ]
        }
      ]
    },
    {
      "cell_type": "code",
      "source": [
        "pattern = re.compile('this')\n",
        "String = 'search inside of this text please!'\n",
        "b = pattern.findall(String)\n",
        "print(b)"
      ],
      "metadata": {
        "colab": {
          "base_uri": "https://localhost:8080/"
        },
        "id": "JCcWzWEI7A9i",
        "outputId": "f974f957-18ce-413a-814e-41ccd5dadc8b"
      },
      "execution_count": null,
      "outputs": [
        {
          "output_type": "stream",
          "name": "stdout",
          "text": [
            "['this']\n"
          ]
        }
      ]
    },
    {
      "cell_type": "code",
      "source": [
        "pattern = re.compile('search this inside of this text please! Kim')\n",
        "String = 'search inside of this text please!'\n",
        "c = pattern.fullmatch(String)\n",
        "print(c)"
      ],
      "metadata": {
        "colab": {
          "base_uri": "https://localhost:8080/"
        },
        "id": "NLdxcDOE92xX",
        "outputId": "8dde35b5-7b41-49ed-8e40-ec743197ded0"
      },
      "execution_count": null,
      "outputs": [
        {
          "output_type": "stream",
          "name": "stdout",
          "text": [
            "None\n"
          ]
        }
      ]
    },
    {
      "cell_type": "code",
      "source": [
        "pattern = re.compile('search this inside of this text please! Kim')\n",
        "String = 'search inside of this text please!'\n",
        "d = pattern.fullmatch(String)\n",
        "print(d)"
      ],
      "metadata": {
        "id": "u-y9v50Q-uSL"
      },
      "execution_count": null,
      "outputs": []
    },
    {
      "cell_type": "code",
      "source": [
        "pattern = re.compile('search this inside of this text please!')\n",
        "String = 'search inside of this text please! Kim'\n",
        "e = pattern.match(String)\n",
        "print(e)\n"
      ],
      "metadata": {
        "colab": {
          "base_uri": "https://localhost:8080/"
        },
        "id": "bspNJhoKj5Lj",
        "outputId": "506d6dd2-ebdc-4a24-b739-50f7d2eb3fb7"
      },
      "execution_count": null,
      "outputs": [
        {
          "output_type": "stream",
          "name": "stdout",
          "text": [
            "None\n"
          ]
        }
      ]
    },
    {
      "cell_type": "markdown",
      "source": [
        "#Regular Expression 2\n",
        "\n"
      ],
      "metadata": {
        "id": "HwpNWKRqm-3q"
      }
    },
    {
      "cell_type": "code",
      "source": [
        "#for special character: regex10.com\n",
        "import re\n",
        "# r  ~`> raw string or pure string \"No formats\"\n",
        "pattern = re.compile(r\"([a-zA-Z]).([a])\") # r ~> raw string\n",
        "string = 'search this inside of this text please! Kim'\n",
        "\n",
        "a = pattern.search(string)\n",
        "b = pattern.findall(string)\n",
        "c = pattern.fullmatch(string)\n",
        "d = pattern.match(string)\n",
        "print(a.group())\n",
        "\n",
        "\n"
      ],
      "metadata": {
        "colab": {
          "base_uri": "https://localhost:8080/"
        },
        "id": "R88wchcanCTn",
        "outputId": "e7d05dd8-8620-4faa-a35d-ea1a1ca4ed0a"
      },
      "execution_count": null,
      "outputs": [
        {
          "output_type": "stream",
          "name": "stdout",
          "text": [
            "sea\n"
          ]
        }
      ]
    },
    {
      "cell_type": "markdown",
      "source": [
        "#Regular Expression3"
      ],
      "metadata": {
        "id": "JOzQqQzlWRFs"
      }
    },
    {
      "cell_type": "code",
      "source": [
        "#https://emailregex.com\n",
        "import re\n",
        "# r  ~`> raw string or pure string \"No formats\"\n",
        "pattern = re.compile(r\"(^[a-zA-Z0-9_.+-]+@[a-zA-Z0-9]+\\.[a-zA-Z0-9-.]+$)\") # r ~> raw string\n",
        "string = 'b@b.com'\n",
        "\n",
        "a = pattern.search(string)\n",
        "print(a)\n",
        "\n"
      ],
      "metadata": {
        "colab": {
          "base_uri": "https://localhost:8080/"
        },
        "id": "0laNUgewtBEl",
        "outputId": "cf1af33f-b938-463b-fd87-f331e5f81fe8"
      },
      "execution_count": null,
      "outputs": [
        {
          "output_type": "stream",
          "name": "stdout",
          "text": [
            "<re.Match object; span=(0, 7), match='b@b.com'>\n"
          ]
        }
      ]
    },
    {
      "cell_type": "markdown",
      "source": [
        "#Password Validation"
      ],
      "metadata": {
        "id": "SmajwczVZ5u8"
      }
    },
    {
      "cell_type": "code",
      "source": [
        "# At least 8 char long\n",
        "# contain any sort letters, numbers $%#@\n",
        "#has to end with a number\n",
        "import re\n",
        "# r  ~`> raw string or pure string \"No formats\"\n",
        "pattern = re.compile(r\"(^[a-zA-Z0-9_.+-]+@[a-zA-Z0-9]+\\.[a-zA-Z0-9-.]+$)\") # r ~> raw string\n",
        "string = 'b@b.com'\n",
        "pattern2 = re.complie(r\"[A-Za-z0-9$%#@]{8,}\\d\")\n",
        "password = 'hdjkahskdha5534%$9'\n",
        "check = pattern2.fullmatch(password)\n",
        "print(check)"
      ],
      "metadata": {
        "id": "5W58bEzQZ8ay"
      },
      "execution_count": null,
      "outputs": []
    },
    {
      "cell_type": "markdown",
      "source": [
        "Testing in Python"
      ],
      "metadata": {
        "id": "wGS46ZS1dR5E"
      }
    },
    {
      "cell_type": "code",
      "source": [],
      "metadata": {
        "id": "eFLsO5cWdUVW"
      },
      "execution_count": null,
      "outputs": []
    }
  ]
}