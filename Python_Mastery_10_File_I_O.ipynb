{
  "nbformat": 4,
  "nbformat_minor": 0,
  "metadata": {
    "colab": {
      "provenance": []
    },
    "kernelspec": {
      "name": "python3",
      "display_name": "Python 3"
    },
    "language_info": {
      "name": "python"
    }
  },
  "cells": [
    {
      "cell_type": "markdown",
      "source": [
        "#Working With Files In Python"
      ],
      "metadata": {
        "id": "QHPOv3MVkq53"
      }
    },
    {
      "cell_type": "code",
      "execution_count": 3,
      "metadata": {
        "colab": {
          "base_uri": "https://localhost:8080/"
        },
        "id": "6gF58ROpHnhY",
        "outputId": "2900139d-78aa-4e2b-9ef2-d90d1d65d4be"
      },
      "outputs": [
        {
          "output_type": "stream",
          "name": "stdout",
          "text": [
            "Hello World\n"
          ]
        }
      ],
      "source": [
        "my_file = open('Test.txt')\n",
        "print(my_file.read())"
      ]
    },
    {
      "cell_type": "code",
      "source": [
        "my_file = open('Test.txt')\n",
        "print(my_file.read())\n",
        "my_file.seek(0)"
      ],
      "metadata": {
        "colab": {
          "base_uri": "https://localhost:8080/"
        },
        "id": "bK25UBA7Kfda",
        "outputId": "8253e8ee-778f-440e-edd8-3b0dc067dc13"
      },
      "execution_count": 4,
      "outputs": [
        {
          "output_type": "stream",
          "name": "stdout",
          "text": [
            "Hello World\n"
          ]
        },
        {
          "output_type": "execute_result",
          "data": {
            "text/plain": [
              "0"
            ]
          },
          "metadata": {},
          "execution_count": 4
        }
      ]
    },
    {
      "cell_type": "code",
      "source": [
        "my_file = open('Test.txt')\n",
        "print(my_file.readline())\n",
        "print(my_file.readline())"
      ],
      "metadata": {
        "colab": {
          "base_uri": "https://localhost:8080/"
        },
        "id": "wWWnFFoGKsO0",
        "outputId": "68439059-f2b3-413d-8173-55352bc2b8db"
      },
      "execution_count": 5,
      "outputs": [
        {
          "output_type": "stream",
          "name": "stdout",
          "text": [
            "Hello World\n",
            "\n",
            ":p\n",
            "\n"
          ]
        }
      ]
    },
    {
      "cell_type": "code",
      "source": [
        "my_file = open('Test.txt')\n",
        "print(my_file.readlines())"
      ],
      "metadata": {
        "colab": {
          "base_uri": "https://localhost:8080/"
        },
        "id": "WVPMbYaGK2Lm",
        "outputId": "5f8328f2-31f3-4081-8d3e-e0feed22409a"
      },
      "execution_count": 6,
      "outputs": [
        {
          "output_type": "stream",
          "name": "stdout",
          "text": [
            "['Hello World\\n', ':p\\n', 'Whats uppppp\\n']\n"
          ]
        }
      ]
    },
    {
      "cell_type": "code",
      "source": [
        "my_file.close()"
      ],
      "metadata": {
        "id": "FvVY0e9NLHyc"
      },
      "execution_count": 7,
      "outputs": []
    },
    {
      "cell_type": "markdown",
      "source": [
        "#Read, Write, Append"
      ],
      "metadata": {
        "id": "JMdwO-XvlyyT"
      }
    },
    {
      "cell_type": "code",
      "source": [
        "with open('Test.txt') as my_file:\n",
        "  print(my_file.readlines())\n",
        "\n",
        "my_file.close()"
      ],
      "metadata": {
        "colab": {
          "base_uri": "https://localhost:8080/"
        },
        "id": "oR03Q8KFXLSG",
        "outputId": "26595ced-2749-40a4-fcc1-386d2dae3b0d"
      },
      "execution_count": 10,
      "outputs": [
        {
          "output_type": "stream",
          "name": "stdout",
          "text": [
            "['Hello World\\n', ':p\\n', 'Whats uppppp\\n']\n"
          ]
        }
      ]
    },
    {
      "cell_type": "code",
      "source": [
        "#default function mode 'r' ~ read\n",
        "with open('Test.txt', mode = 'r') as my_file:\n",
        "  print(my_file.readlines())\n",
        "\n",
        "my_file.close()"
      ],
      "metadata": {
        "colab": {
          "base_uri": "https://localhost:8080/"
        },
        "id": "HovnlsV-Mhg7",
        "outputId": "3cbfca03-a659-4271-f1e8-b039b3337c6f"
      },
      "execution_count": 11,
      "outputs": [
        {
          "output_type": "stream",
          "name": "stdout",
          "text": [
            "['Hello World\\n', ':p\\n', 'Whats uppppp\\n']\n"
          ]
        }
      ]
    },
    {
      "cell_type": "code",
      "source": [
        "#default function mode 'r+' ~ read & write\n",
        "with open('Test.txt', mode = 'r+') as my_file:\n",
        "  text = my_file.write('het its/me!')\n",
        "  print(text)\n",
        "\n",
        "my_file.close()"
      ],
      "metadata": {
        "colab": {
          "base_uri": "https://localhost:8080/"
        },
        "id": "eC9iGlYXYMfO",
        "outputId": "ad55fca0-e1f2-4d95-8de3-0a33d20f8285"
      },
      "execution_count": 13,
      "outputs": [
        {
          "output_type": "stream",
          "name": "stdout",
          "text": [
            "11\n"
          ]
        }
      ]
    },
    {
      "cell_type": "code",
      "source": [
        "#default function mode 'a' ~ append\n",
        "with open('Test.txt', mode = 'a') as my_file:\n",
        "  text = my_file.write('yow')\n",
        "  print(text)\n"
      ],
      "metadata": {
        "colab": {
          "base_uri": "https://localhost:8080/"
        },
        "id": "M8T95BfGY1li",
        "outputId": "36f1f6c5-aeeb-4332-e9e5-bfda40b1ff2c"
      },
      "execution_count": 25,
      "outputs": [
        {
          "output_type": "stream",
          "name": "stdout",
          "text": [
            "3\n"
          ]
        }
      ]
    },
    {
      "cell_type": "code",
      "source": [
        "my_file = open('Test.txt')\n",
        "print(my_file.readlines())"
      ],
      "metadata": {
        "colab": {
          "base_uri": "https://localhost:8080/"
        },
        "id": "O3GA3qqcg4KS",
        "outputId": "8264fd15-6722-404e-f3e2-6a775521c8cc"
      },
      "execution_count": 26,
      "outputs": [
        {
          "output_type": "stream",
          "name": "stdout",
          "text": [
            "['wheeeeyow']\n"
          ]
        }
      ]
    },
    {
      "cell_type": "code",
      "source": [
        "#default function mode 'w' ~ overwrite the whole text / create a new file\n",
        "with open('Test.txt', mode = 'w') as my_file:\n",
        "  text = my_file.write('wheeee')\n",
        "  print(text)"
      ],
      "metadata": {
        "colab": {
          "base_uri": "https://localhost:8080/"
        },
        "id": "6hjaX9I3gPhW",
        "outputId": "dab44abd-035d-46aa-c34c-cbe5b19f6de8"
      },
      "execution_count": 21,
      "outputs": [
        {
          "output_type": "stream",
          "name": "stdout",
          "text": [
            "6\n"
          ]
        }
      ]
    },
    {
      "cell_type": "code",
      "source": [
        "my_file = open('Test.txt')\n",
        "print(my_file.readlines())"
      ],
      "metadata": {
        "colab": {
          "base_uri": "https://localhost:8080/"
        },
        "id": "LLrHSb8tgcAJ",
        "outputId": "9aa75ff7-3bbb-402b-93a5-5bfd73e96ca4"
      },
      "execution_count": 23,
      "outputs": [
        {
          "output_type": "stream",
          "name": "stdout",
          "text": [
            "['wheeee']\n"
          ]
        }
      ]
    },
    {
      "cell_type": "code",
      "source": [
        "#default function mode 'w' ~ overwrite the whole text / create a new file\n",
        "with open('wakoko.txt', mode = 'w') as my_file:\n",
        "  text = my_file.write('wakoko')\n",
        "  print(text)"
      ],
      "metadata": {
        "colab": {
          "base_uri": "https://localhost:8080/"
        },
        "id": "SQzE5-iWg_jQ",
        "outputId": "4ee299dc-946d-4b7a-9e50-7bd437219624"
      },
      "execution_count": 27,
      "outputs": [
        {
          "output_type": "stream",
          "name": "stdout",
          "text": [
            "6\n"
          ]
        }
      ]
    },
    {
      "cell_type": "markdown",
      "source": [
        "pathlib - object oriented filesystems paths"
      ],
      "metadata": {
        "id": "URf8rKMvj9EN"
      }
    },
    {
      "cell_type": "markdown",
      "source": [
        "#File IO Errors"
      ],
      "metadata": {
        "id": "8G0jj6WFmIza"
      }
    },
    {
      "cell_type": "code",
      "source": [
        "try:\n",
        "  with open('wakoko.txt', mode = 'r') as my_file:\n",
        "    print(my_file)\n",
        "except FileNotFoundError as err:\n",
        "  print('file does not exist')\n",
        "  raise err\n",
        "except IOError as err:\n",
        "  print('IO error')\n",
        "  raise err\n"
      ],
      "metadata": {
        "colab": {
          "base_uri": "https://localhost:8080/"
        },
        "id": "8kmfRQPDhno4",
        "outputId": "9f6d5e17-6be3-4312-c687-300dcb20dd96"
      },
      "execution_count": 30,
      "outputs": [
        {
          "output_type": "stream",
          "name": "stdout",
          "text": [
            "<_io.TextIOWrapper name='wakoko.txt' mode='r' encoding='UTF-8'>\n"
          ]
        }
      ]
    },
    {
      "cell_type": "markdown",
      "source": [
        "#Excercise Translator"
      ],
      "metadata": {
        "id": "dKkxYX3Nng_-"
      }
    },
    {
      "cell_type": "code",
      "source": [
        "try:\n",
        "    with open('./content/Test.txt', mode='r') as my_file:\n",
        "      print(my_file.read())\n",
        "except FileNotFoundError as e:\n",
        "  print('check your file path silly!')"
      ],
      "metadata": {
        "colab": {
          "base_uri": "https://localhost:8080/"
        },
        "id": "Z7FzSLprnb7H",
        "outputId": "569a2620-6878-49c8-eb5e-9fb472a2ffd9"
      },
      "execution_count": 31,
      "outputs": [
        {
          "output_type": "stream",
          "name": "stdout",
          "text": [
            "check your file path silly!\n"
          ]
        }
      ]
    },
    {
      "cell_type": "code",
      "source": [
        "pip install translate"
      ],
      "metadata": {
        "colab": {
          "base_uri": "https://localhost:8080/"
        },
        "id": "81p821Ku2SHS",
        "outputId": "3c409b4e-a7e1-415f-e132-54eea3451b2d"
      },
      "execution_count": 33,
      "outputs": [
        {
          "output_type": "stream",
          "name": "stdout",
          "text": [
            "Collecting translate\n",
            "  Downloading translate-3.6.1-py2.py3-none-any.whl (12 kB)\n",
            "Requirement already satisfied: click in /usr/local/lib/python3.10/dist-packages (from translate) (8.1.7)\n",
            "Requirement already satisfied: lxml in /usr/local/lib/python3.10/dist-packages (from translate) (4.9.4)\n",
            "Requirement already satisfied: requests in /usr/local/lib/python3.10/dist-packages (from translate) (2.31.0)\n",
            "Collecting libretranslatepy==2.1.1 (from translate)\n",
            "  Downloading libretranslatepy-2.1.1-py3-none-any.whl (3.2 kB)\n",
            "Requirement already satisfied: charset-normalizer<4,>=2 in /usr/local/lib/python3.10/dist-packages (from requests->translate) (3.3.2)\n",
            "Requirement already satisfied: idna<4,>=2.5 in /usr/local/lib/python3.10/dist-packages (from requests->translate) (3.6)\n",
            "Requirement already satisfied: urllib3<3,>=1.21.1 in /usr/local/lib/python3.10/dist-packages (from requests->translate) (2.0.7)\n",
            "Requirement already satisfied: certifi>=2017.4.17 in /usr/local/lib/python3.10/dist-packages (from requests->translate) (2023.11.17)\n",
            "Installing collected packages: libretranslatepy, translate\n",
            "Successfully installed libretranslatepy-2.1.1 translate-3.6.1\n"
          ]
        }
      ]
    },
    {
      "cell_type": "code",
      "source": [
        "from translate import Translator\n",
        "\n",
        "translator = Translator(to_lang=\"ja\")\n",
        "try:\n",
        "  with open('Test.txt', mode='r') as my_file:\n",
        "      text = my_file.read()\n",
        "      translation = translator.translate(text)\n",
        "      print(translation)\n",
        "      with open('Test-ja.txt', mode = 'w') as my_file2:\n",
        "        my_file2.write(translation)\n",
        "except FileNotFoundError as e:\n",
        "  print('check your file path silly!')"
      ],
      "metadata": {
        "colab": {
          "base_uri": "https://localhost:8080/"
        },
        "id": "EfCuEjgixrfD",
        "outputId": "a516a278-0748-4740-f0c7-661cd4363db2"
      },
      "execution_count": 40,
      "outputs": [
        {
          "output_type": "stream",
          "name": "stdout",
          "text": [
            "私の名前はどこからともなくキムです\n"
          ]
        }
      ]
    }
  ]
}