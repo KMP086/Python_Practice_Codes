{
  "nbformat": 4,
  "nbformat_minor": 0,
  "metadata": {
    "colab": {
      "provenance": []
    },
    "kernelspec": {
      "name": "python3",
      "display_name": "Python 3"
    },
    "language_info": {
      "name": "python"
    }
  },
  "cells": [
    {
      "cell_type": "markdown",
      "source": [
        "##Python usually use interpreter\n",
        "###############################################\n",
        "#Python create by Guido in 1991 version 2 or\n",
        "\n",
        "*   List item\n",
        "*   List item\n",
        "\n",
        "python 2\n",
        "#2008 python 3 was updated\n",
        "###############################################"
      ],
      "metadata": {
        "id": "YOQcKvxJ0dMv"
      }
    },
    {
      "cell_type": "markdown",
      "source": [
        "#Print & Input"
      ],
      "metadata": {
        "id": "BzbtQcp2a2gg"
      }
    },
    {
      "cell_type": "code",
      "source": [
        "print(\"Lets Start!!!\")\n",
        "name = input('What is your name? ')\n",
        "print(\"heellloooo: \" + name)"
      ],
      "metadata": {
        "colab": {
          "base_uri": "https://localhost:8080/"
        },
        "id": "u9vdr9Jo0W1R",
        "outputId": "2845a3c1-d923-4004-dde2-92e9ed548e7a"
      },
      "execution_count": null,
      "outputs": [
        {
          "output_type": "stream",
          "name": "stdout",
          "text": [
            "Lets Start!!!\n",
            "What is your name?  kim\n",
            "heellloooo:  kim\n"
          ]
        }
      ]
    },
    {
      "cell_type": "markdown",
      "source": [
        "#Data Types\n",
        "\n",
        "#int, float, bool, str, list, tuple, set, dict, set"
      ],
      "metadata": {
        "id": "bveNMGfBa7iP"
      }
    },
    {
      "cell_type": "code",
      "source": [
        "#Fundamental Data Types:\n",
        "int\n",
        "float\n",
        "bool\n",
        "str\n",
        "list\n",
        "tuple\n",
        "set\n",
        "dict\n",
        "set\n",
        "\n",
        "#Classes -> custom types\n",
        "\n",
        "#Specialized Data Types -> Extentions to the standard data type\n",
        "\n",
        "None\n",
        "complex #another 3rd type of int and float"
      ],
      "metadata": {
        "colab": {
          "base_uri": "https://localhost:8080/"
        },
        "id": "k9q1qvfc0xvn",
        "outputId": "98e3184d-cd9e-4ec9-9f7f-e68beb883422"
      },
      "execution_count": null,
      "outputs": [
        {
          "output_type": "execute_result",
          "data": {
            "text/plain": [
              "complex"
            ]
          },
          "metadata": {},
          "execution_count": 4
        }
      ]
    },
    {
      "cell_type": "markdown",
      "source": [
        "#Integer  & Float"
      ],
      "metadata": {
        "id": "bAm_n8oSbPxo"
      }
    },
    {
      "cell_type": "code",
      "source": [
        "#Int  & Float\n",
        "#Integers\n",
        "print(2 + 4)\n",
        "print(2 - 4)\n",
        "print(2 * 4)\n",
        "print(2 / 4)"
      ],
      "metadata": {
        "colab": {
          "base_uri": "https://localhost:8080/"
        },
        "id": "vOjZ_ehY1PD3",
        "outputId": "cb8221ef-fe81-43c8-b64c-31582931ce3d"
      },
      "execution_count": null,
      "outputs": [
        {
          "output_type": "stream",
          "name": "stdout",
          "text": [
            "6\n",
            "-2\n",
            "8\n",
            "0.5\n"
          ]
        }
      ]
    },
    {
      "cell_type": "markdown",
      "source": [
        "#Type"
      ],
      "metadata": {
        "id": "JKf61EQ6bUMh"
      }
    },
    {
      "cell_type": "code",
      "source": [
        "#type\n",
        "print(type(2 + 4))\n",
        "print(type(2 - 4))\n",
        "print(type(2 * 4))\n",
        "print(type(2 / 4))\n",
        "print(type(0))"
      ],
      "metadata": {
        "colab": {
          "base_uri": "https://localhost:8080/"
        },
        "id": "PpwaONRl1QtH",
        "outputId": "7d4b3ae3-51cd-47de-e77d-90eec6b82135"
      },
      "execution_count": null,
      "outputs": [
        {
          "output_type": "stream",
          "name": "stdout",
          "text": [
            "<class 'int'>\n",
            "<class 'int'>\n",
            "<class 'int'>\n",
            "<class 'float'>\n",
            "<class 'int'>\n"
          ]
        }
      ]
    },
    {
      "cell_type": "markdown",
      "source": [
        "#Float"
      ],
      "metadata": {
        "id": "7vglYyeGbXlo"
      }
    },
    {
      "cell_type": "code",
      "source": [
        "#float Consume more memory\n",
        "print(type(0.0001))"
      ],
      "metadata": {
        "colab": {
          "base_uri": "https://localhost:8080/"
        },
        "id": "A3W0J6dj1S2v",
        "outputId": "3792f9f0-d866-4c50-865a-4cf979692621"
      },
      "execution_count": null,
      "outputs": [
        {
          "output_type": "stream",
          "name": "stdout",
          "text": [
            "<class 'float'>\n"
          ]
        }
      ]
    },
    {
      "cell_type": "markdown",
      "source": [
        "#Power of or double multiply"
      ],
      "metadata": {
        "id": "QLOOsBSObdKh"
      }
    },
    {
      "cell_type": "code",
      "source": [
        "#double multiply ~ power of\n",
        "print(2**3)"
      ],
      "metadata": {
        "colab": {
          "base_uri": "https://localhost:8080/"
        },
        "id": "wfQGG4at1VH2",
        "outputId": "b8df73cf-85e5-49ad-89a3-844122f1ec53"
      },
      "execution_count": null,
      "outputs": [
        {
          "output_type": "stream",
          "name": "stdout",
          "text": [
            "8\n"
          ]
        }
      ]
    },
    {
      "cell_type": "markdown",
      "source": [
        "#Double Divide"
      ],
      "metadata": {
        "id": "Ohb8VtNXboff"
      }
    },
    {
      "cell_type": "code",
      "source": [
        "#double divide\n",
        "print(5//4)"
      ],
      "metadata": {
        "colab": {
          "base_uri": "https://localhost:8080/"
        },
        "id": "6cKJR-051WQ2",
        "outputId": "a78068d0-790d-4e26-eccd-9d82534a2e34"
      },
      "execution_count": null,
      "outputs": [
        {
          "output_type": "stream",
          "name": "stdout",
          "text": [
            "1\n"
          ]
        }
      ]
    },
    {
      "cell_type": "markdown",
      "source": [
        "#Modulo"
      ],
      "metadata": {
        "id": "f19I3v5ybr_h"
      }
    },
    {
      "cell_type": "code",
      "source": [
        "#modulo ~ the remainder of the division\n",
        "print(5 % 4)"
      ],
      "metadata": {
        "colab": {
          "base_uri": "https://localhost:8080/"
        },
        "id": "w3_4Q2EU2Pdg",
        "outputId": "db4dd919-cdd2-4445-8c5e-264636f543a6"
      },
      "execution_count": null,
      "outputs": [
        {
          "output_type": "stream",
          "name": "stdout",
          "text": [
            "1\n"
          ]
        }
      ]
    },
    {
      "cell_type": "markdown",
      "source": [
        "#Math Functions"
      ],
      "metadata": {
        "id": "5J-8OmDrbucI"
      }
    },
    {
      "cell_type": "code",
      "source": [
        "#math functions\n",
        "print(round(3.9))"
      ],
      "metadata": {
        "colab": {
          "base_uri": "https://localhost:8080/"
        },
        "id": "mlkuphPQ2RT_",
        "outputId": "f95f6890-0458-435b-c6ad-0983366b59dc"
      },
      "execution_count": null,
      "outputs": [
        {
          "output_type": "stream",
          "name": "stdout",
          "text": [
            "4\n"
          ]
        }
      ]
    },
    {
      "cell_type": "code",
      "source": [
        "#abs function or absolute\n",
        "print(abs(-20))"
      ],
      "metadata": {
        "colab": {
          "base_uri": "https://localhost:8080/"
        },
        "id": "teyBB_WH2Txe",
        "outputId": "36c50adf-0f7c-4954-98a9-7261f5a8fa4a"
      },
      "execution_count": null,
      "outputs": [
        {
          "output_type": "stream",
          "name": "stdout",
          "text": [
            "20\n"
          ]
        }
      ]
    },
    {
      "cell_type": "code",
      "source": [
        "#operator precedence###########################################\n",
        "print(20 - 3 * 4)\n",
        "\n",
        "# precedence arrangement\n",
        "# ()\n",
        "# **\n",
        "\n",
        "print((20 - 3) +  2 ** 2)\n",
        "# * /\n",
        "# + -"
      ],
      "metadata": {
        "colab": {
          "base_uri": "https://localhost:8080/"
        },
        "id": "2hk4tVJF2WYf",
        "outputId": "db0939d2-7e35-4787-c3b7-ac785d4082ee"
      },
      "execution_count": null,
      "outputs": [
        {
          "output_type": "stream",
          "name": "stdout",
          "text": [
            "8\n",
            "21\n"
          ]
        }
      ]
    },
    {
      "cell_type": "code",
      "source": [
        "#binary number\n",
        "print(bin(5)) #actual binary was 101\n",
        "#convert back to int\n",
        "print(int('0b101', 2)) #ans 5"
      ],
      "metadata": {
        "colab": {
          "base_uri": "https://localhost:8080/"
        },
        "id": "GxH1LD8W2g3e",
        "outputId": "89920030-ec38-428e-e3f8-30c93d573459"
      },
      "execution_count": null,
      "outputs": [
        {
          "output_type": "stream",
          "name": "stdout",
          "text": [
            "0b101\n",
            "5\n"
          ]
        }
      ]
    },
    {
      "cell_type": "markdown",
      "source": [
        "#Variables naming\n",
        "######################################\n",
        "#Convensions\n",
        "  snake_case\n",
        "  \n",
        "  start with lowercase or underscore\n",
        "  \n",
        "  letters, numbers, underscore  \n",
        "  case, sensitive\n",
        "\n",
        "  Don't overwrite keywords~example  print  \n",
        "########################################"
      ],
      "metadata": {
        "id": "c9MNYVr72nhd"
      }
    },
    {
      "cell_type": "markdown",
      "source": [
        "#Variable"
      ],
      "metadata": {
        "id": "ClP7LGUXbKrZ"
      }
    },
    {
      "cell_type": "code",
      "source": [
        "#Variables\n",
        "user_iq = 190\n",
        "print(user_iq)"
      ],
      "metadata": {
        "colab": {
          "base_uri": "https://localhost:8080/"
        },
        "id": "8kH5YupH3P12",
        "outputId": "4fdbdde4-117a-45e9-8429-972a979951f5"
      },
      "execution_count": null,
      "outputs": [
        {
          "output_type": "stream",
          "name": "stdout",
          "text": [
            "190\n"
          ]
        }
      ]
    },
    {
      "cell_type": "markdown",
      "source": [
        "#Constants"
      ],
      "metadata": {
        "id": "eudwv5cab16I"
      }
    },
    {
      "cell_type": "code",
      "source": [
        "#constants\n",
        "#all in capital\n",
        "PI=3.14"
      ],
      "metadata": {
        "id": "0BQ9pzRj3SaX"
      },
      "execution_count": null,
      "outputs": []
    },
    {
      "cell_type": "markdown",
      "source": [
        "#Dunder Variable"
      ],
      "metadata": {
        "id": "Afho31Ntb5wI"
      }
    },
    {
      "cell_type": "code",
      "source": [
        "#dunder variable\n",
        "#__cached__ #has function with it\n",
        "\n",
        "a,b,c = 1,2,3\n",
        "print(a)\n",
        "print(b)\n",
        "print(c)"
      ],
      "metadata": {
        "colab": {
          "base_uri": "https://localhost:8080/"
        },
        "id": "00PPZhq23MCt",
        "outputId": "a2ff175e-84cb-4aa8-eec6-0f0186b057f2"
      },
      "execution_count": null,
      "outputs": [
        {
          "output_type": "stream",
          "name": "stdout",
          "text": [
            "1\n",
            "2\n",
            "3\n"
          ]
        }
      ]
    },
    {
      "cell_type": "markdown",
      "source": [
        "#Expression vs Statement"
      ],
      "metadata": {
        "id": "CvXVTsZ2cCO4"
      }
    },
    {
      "cell_type": "code",
      "source": [
        "#Expression vs Statement############################################\n",
        "iq =100\n",
        "user_age = iq / 5 #expression iq / 5\n",
        "#statement user_age = , iq =100\n",
        "#augmented assignment operator\n",
        "some_value = 5\n",
        "#some_value = 5 + 2\n",
        "some_value += 5 #augmented assignment operator equivalent also to 7\n",
        "some_value = some_value * 2\n",
        "#augmented assignment operator needed a value!\n",
        "print(some_value)"
      ],
      "metadata": {
        "colab": {
          "base_uri": "https://localhost:8080/"
        },
        "id": "24IhnnDW5wTl",
        "outputId": "618dd6a2-77e9-4c2a-dcc2-ec5276a96f8f"
      },
      "execution_count": null,
      "outputs": [
        {
          "output_type": "stream",
          "name": "stdout",
          "text": [
            "20\n"
          ]
        }
      ]
    },
    {
      "cell_type": "markdown",
      "source": [
        "#Strings"
      ],
      "metadata": {
        "id": "JKMf2g3ocFGn"
      }
    },
    {
      "cell_type": "code",
      "source": [
        "#Strings#########################################################\n",
        "str\n",
        "\"hello world\"\n",
        "print(type(\"hello world\"))\n",
        "user_name = 'supercoder'\n",
        "password = 'supersecret'\n",
        "\n",
        "long_string = '''\n",
        "Cool\n",
        "!  !\n",
        " ==\n",
        "'''\n",
        "\n",
        "print(long_string)\n",
        "first_name = 'Nicolas'\n",
        "last_name = 'Cage'\n",
        "\n",
        "full_name = first_name + ' ' + last_name\n",
        "\n",
        "print(full_name)\n",
        "\n",
        "#string concatenation\n",
        "print('hello ' + 'cat')\n",
        "print('hello ' + str(5)) #type casting"
      ],
      "metadata": {
        "colab": {
          "base_uri": "https://localhost:8080/"
        },
        "id": "BaFQrgAw50Bt",
        "outputId": "de2e89b4-3c56-49dc-9373-b2b1efccdf07"
      },
      "execution_count": null,
      "outputs": [
        {
          "output_type": "stream",
          "name": "stdout",
          "text": [
            "<class 'str'>\n",
            "\n",
            "Cool\n",
            "!  !\n",
            " ==\n",
            "\n",
            "Nicolas Cage\n",
            "hello cat\n",
            "hello 5\n"
          ]
        }
      ]
    },
    {
      "cell_type": "markdown",
      "source": [
        "#Type Casting"
      ],
      "metadata": {
        "id": "uJc1HWOhcJTn"
      }
    },
    {
      "cell_type": "code",
      "source": [
        "#type casting################################################\n",
        "print(str(100))\n",
        "print(type(str(100)))\n",
        "print(type(int(str(100))))\n",
        "\n",
        "#test\n",
        "a= str(100)\n",
        "b= int(a)\n",
        "c= type(b)\n",
        "print(c)\n",
        "#type conversion"
      ],
      "metadata": {
        "colab": {
          "base_uri": "https://localhost:8080/"
        },
        "id": "VA-6vQ4d6Dse",
        "outputId": "b87c113f-4ee1-4c0b-fca4-d2957bbbb624"
      },
      "execution_count": null,
      "outputs": [
        {
          "output_type": "stream",
          "name": "stdout",
          "text": [
            "100\n",
            "<class 'str'>\n",
            "<class 'int'>\n",
            "<class 'int'>\n"
          ]
        }
      ]
    },
    {
      "cell_type": "markdown",
      "source": [
        "#Escape Sequence"
      ],
      "metadata": {
        "id": "vZ2U0dQ7cNUY"
      }
    },
    {
      "cell_type": "code",
      "source": [
        "#Escape Sequence#############################################\n",
        "#weather = 'It's sunny' error\n",
        "#weather = \"It's\" \"kind of\" sunny\" error\n",
        "#\\' or \\\" it will declare the next character was a string\n",
        "weather = \"It\\'s \\\"kind of sunny\"\n",
        "weather = \"\\n\" #new line\n",
        "weather = \"\\t\" #tab\n",
        "\n",
        "weather = \"\\t It\\'s kind of \\n sunny\"\n",
        "weather = \"\\t It\\'s kind of \\n sunny\"\n",
        "print(weather)"
      ],
      "metadata": {
        "colab": {
          "base_uri": "https://localhost:8080/"
        },
        "id": "Aim7N79E6GnF",
        "outputId": "cea974c2-024d-49b2-ce18-c1e3329540e7"
      },
      "execution_count": null,
      "outputs": [
        {
          "output_type": "stream",
          "name": "stdout",
          "text": [
            "\t It's kind of \n",
            " sunny\n"
          ]
        }
      ]
    },
    {
      "cell_type": "markdown",
      "source": [
        "#Formatted strings"
      ],
      "metadata": {
        "id": "9bJ908EhcP_R"
      }
    },
    {
      "cell_type": "code",
      "source": [
        "#Formatted strings#############################################\n",
        "name = 'johnny'\n",
        "age =55\n",
        "print('hi ' + name + '. Your are ' + str(age) + ' years old' )\n",
        "\n",
        "#f is the formatted string (best)\n",
        "print(f\"Hi {name}. Your are {age} years old\")\n",
        "\n",
        "#fill in\n",
        "print(\"Hi {}. Your are {} years old\".format('Johnny','55'))\n",
        "print(\"Hi {}. Your are {} years old\".format(name,age))\n",
        "print(\"Hi {1}. Your are {0} years old\".format(name,age))\n",
        "print(\"Hi {new_name}. Your are {new_age} years old\".format(new_name=name,new_age=age))"
      ],
      "metadata": {
        "colab": {
          "base_uri": "https://localhost:8080/"
        },
        "id": "W-fN3RQc6IW2",
        "outputId": "5eead47c-d721-4b64-dc3e-1caf2f923deb"
      },
      "execution_count": null,
      "outputs": [
        {
          "output_type": "stream",
          "name": "stdout",
          "text": [
            "hi johnny. Your are 55 years old\n",
            "Hi johnny. Your are 55 years old\n",
            "Hi Johnny. Your are 55 years old\n",
            "Hi johnny. Your are 55 years old\n",
            "Hi 55. Your are johnny years old\n",
            "Hi johnny. Your are 55 years old\n"
          ]
        }
      ]
    },
    {
      "cell_type": "markdown",
      "source": [
        "#Character Location or Index & [start:stop:stepover]"
      ],
      "metadata": {
        "id": "DKbwg7aScVTR"
      }
    },
    {
      "cell_type": "code",
      "source": [
        "#charcter location or index #####################################\n",
        "#'me me me'\n",
        "# 01234567 #index\n",
        "\n",
        "selfish = 'abcdefgh'\n",
        "        #  01234567\n",
        "print(selfish[0])\n",
        "print(selfish[7])\n",
        "print(selfish)\n",
        "\n",
        "#[start:stop]\n",
        "print(selfish[0:2])\n",
        "\n",
        "#[start:stop:stepover]\n",
        "#stepover skip by 2\n",
        "print(selfish[0:8:2])\n",
        "\n",
        "#default\n",
        "print(selfish[1:])\n",
        "print(selfish[:5])\n",
        "print(selfish[::2])\n",
        "\n",
        "#negative and reverse\n",
        "print(selfish[-2]) #negative index start at the end\n",
        "print(selfish[::-1]) # reverse order\n",
        "print(selfish[::-2]) # reverse order skip by 2"
      ],
      "metadata": {
        "colab": {
          "base_uri": "https://localhost:8080/"
        },
        "id": "UT6W0HQw6LK7",
        "outputId": "554f1573-b8ff-4aee-ff76-486b170ea327"
      },
      "execution_count": null,
      "outputs": [
        {
          "output_type": "stream",
          "name": "stdout",
          "text": [
            "a\n",
            "h\n",
            "abcdefgh\n",
            "ab\n",
            "aceg\n",
            "bcdefgh\n",
            "abcde\n",
            "aceg\n",
            "g\n",
            "hgfedcba\n",
            "hfdb\n"
          ]
        }
      ]
    },
    {
      "cell_type": "markdown",
      "source": [
        "#Immutability"
      ],
      "metadata": {
        "id": "dal5VNq1cgG4"
      }
    },
    {
      "cell_type": "code",
      "source": [
        "#Immutability##################################################################\n",
        "selfish = '12345678'\n",
        "#selfish[0] = '8' error it is immune\n",
        "#cant re assign the string\n",
        "#or create something new\n",
        "selfish = selfish + '9'"
      ],
      "metadata": {
        "id": "vgvSnojZ6OfF"
      },
      "execution_count": null,
      "outputs": []
    },
    {
      "cell_type": "markdown",
      "source": [
        "#String Methods"
      ],
      "metadata": {
        "id": "fqFhJOz0ci5_"
      }
    },
    {
      "cell_type": "code",
      "source": [
        "#string methods###########################################################################\n",
        "#print, len and etc\n",
        "#length character index###################################################################\n",
        "greet = 'hiiiiiiii'\n",
        "print(len(greet))\n",
        "print(greet[0:len(greet)])\n",
        "\n",
        "quote = 'to be or not to be'\n",
        "print(quote.upper()) # all caps\n",
        "print(quote.capitalize()) # beging char capitallized\n",
        "print(quote.find('be')) #search the index in string\n",
        "print(quote.replace('be', 'me')) #replace all occurences\n",
        "\n",
        "print(quote) # string is not immunable # no changes happen\n",
        "#creating a string\n",
        "quote2 = quote.replace('be', 'me')"
      ],
      "metadata": {
        "colab": {
          "base_uri": "https://localhost:8080/"
        },
        "id": "MbmYcFFX6Qht",
        "outputId": "d538b201-7f99-4f24-be0b-03a356c04e15"
      },
      "execution_count": null,
      "outputs": [
        {
          "output_type": "stream",
          "name": "stdout",
          "text": [
            "9\n",
            "hiiiiiiii\n",
            "TO BE OR NOT TO BE\n",
            "To be or not to be\n",
            "3\n",
            "to me or not to me\n",
            "to be or not to be\n"
          ]
        }
      ]
    },
    {
      "cell_type": "markdown",
      "source": [
        "#Booleans"
      ],
      "metadata": {
        "id": "1Ap_YhtqcrrB"
      }
    },
    {
      "cell_type": "code",
      "source": [
        "#booleans###################################################################################\n",
        "name = \"kim\"\n",
        "is_cool = False\n",
        "\n",
        "is_cool = True\n",
        "\n",
        "print(bool(1))\n",
        "print(bool(0))"
      ],
      "metadata": {
        "colab": {
          "base_uri": "https://localhost:8080/"
        },
        "id": "gQtYxSWH6TDV",
        "outputId": "b15df3f1-56b8-4f10-b71d-91028963513e"
      },
      "execution_count": null,
      "outputs": [
        {
          "output_type": "stream",
          "name": "stdout",
          "text": [
            "True\n",
            "False\n"
          ]
        }
      ]
    },
    {
      "cell_type": "markdown",
      "source": [
        "#Conversion Practice"
      ],
      "metadata": {
        "id": "l7H-EjZ6cvo3"
      }
    },
    {
      "cell_type": "code",
      "source": [
        "#conversion practice#####################################################################################\n",
        "from datetime import datetime\n",
        "birth_year = input(\"what year are you born?\")\n",
        "age =  datetime.now().year  - int(birth_year)\n",
        "print(f\"My age was {age}\")\n"
      ],
      "metadata": {
        "colab": {
          "base_uri": "https://localhost:8080/"
        },
        "id": "Az7tOgov6VZN",
        "outputId": "2f0e30e9-0a5a-42cb-ead7-66f017d27ee7"
      },
      "execution_count": null,
      "outputs": [
        {
          "output_type": "stream",
          "name": "stdout",
          "text": [
            "what year are you born?1986\n",
            "My age was 37\n"
          ]
        }
      ]
    },
    {
      "cell_type": "markdown",
      "source": [
        "##Developer Fundamental\n",
        "\n",
        "#Commenting>> Help others to understan your code"
      ],
      "metadata": {
        "id": "frbhFVyfSCAv"
      }
    },
    {
      "cell_type": "code",
      "execution_count": null,
      "metadata": {
        "id": "hkijWmbsGP-o",
        "colab": {
          "base_uri": "https://localhost:8080/"
        },
        "outputId": "a2a466a3-15ba-4905-efca-9e602a438cbc"
      },
      "outputs": [
        {
          "output_type": "stream",
          "name": "stdout",
          "text": [
            "Enter your user name: kimpambid\n",
            "Enter your user password: 123465\n",
            "kimpambid your password ****** is 6 letter long\n"
          ]
        }
      ],
      "source": [
        "user_name = input(\"Enter your user name: \")\n",
        "password = input(\"Enter your user password: \")\n",
        "\n",
        "hidden_password = '*' * len(str(password))\n",
        "print(f\"{str(user_name)} your password {hidden_password} is {len(str(password))} letter long\")\n"
      ]
    },
    {
      "cell_type": "markdown",
      "source": [
        "##List are 'like' array"
      ],
      "metadata": {
        "id": "sw6cI5fEZC5Y"
      }
    },
    {
      "cell_type": "code",
      "source": [
        "li = [1,2,3,4,5]\n",
        "li2 = ['a','b', 'c']\n",
        "li3 = [1,2,'a', True]\n"
      ],
      "metadata": {
        "id": "4LzFXSxbY7YO"
      },
      "execution_count": null,
      "outputs": []
    },
    {
      "cell_type": "markdown",
      "source": [
        "##Data Structure\n"
      ],
      "metadata": {
        "id": "NZwtp3lsZeG8"
      }
    },
    {
      "cell_type": "code",
      "source": [
        "amazon_cart = ['notebooks', 'sunglasses']\n",
        "print(amazon_cart[1])"
      ],
      "metadata": {
        "colab": {
          "base_uri": "https://localhost:8080/"
        },
        "id": "xPaUVvwdZibJ",
        "outputId": "a5ad696c-0d7d-4650-da83-b3663341bd41"
      },
      "execution_count": null,
      "outputs": [
        {
          "output_type": "stream",
          "name": "stdout",
          "text": [
            "sunglasses\n"
          ]
        }
      ]
    },
    {
      "cell_type": "markdown",
      "source": [
        "##List Slicing"
      ],
      "metadata": {
        "id": "htDDzE5UaYsH"
      }
    },
    {
      "cell_type": "code",
      "source": [
        "amazon_cart = ['notebooks',\n",
        "               'sunglasses',\n",
        "               'toys',\n",
        "               'grapes']\n",
        "print(amazon_cart[0:2])\n",
        "print(amazon_cart[0::2])"
      ],
      "metadata": {
        "colab": {
          "base_uri": "https://localhost:8080/"
        },
        "id": "IW0s99nmafn-",
        "outputId": "9ff8cb8b-77fc-4cb6-fc90-a263b7cb9bd9"
      },
      "execution_count": null,
      "outputs": [
        {
          "output_type": "stream",
          "name": "stdout",
          "text": [
            "['notebooks', 'sunglasses']\n",
            "['notebooks', 'toys']\n"
          ]
        }
      ]
    },
    {
      "cell_type": "code",
      "source": [
        "#List are changeble\n",
        "amazon_cart[0] = 'Laptop'\n",
        "print(amazon_cart)"
      ],
      "metadata": {
        "colab": {
          "base_uri": "https://localhost:8080/"
        },
        "id": "W-l2v5sJbLmq",
        "outputId": "ca69aa54-dad6-4c13-9c84-ee3b2db0819e"
      },
      "execution_count": null,
      "outputs": [
        {
          "output_type": "stream",
          "name": "stdout",
          "text": [
            "['Laptop', 'sunglasses', 'toys', 'grapes']\n"
          ]
        }
      ]
    },
    {
      "cell_type": "code",
      "source": [
        "amazon_cart[0:3]"
      ],
      "metadata": {
        "colab": {
          "base_uri": "https://localhost:8080/"
        },
        "id": "3OTSU4shbcgE",
        "outputId": "25aacacc-6bf4-4de8-d01e-5133e343efff"
      },
      "execution_count": null,
      "outputs": [
        {
          "output_type": "execute_result",
          "data": {
            "text/plain": [
              "['Laptop', 'sunglasses', 'toys']"
            ]
          },
          "metadata": {},
          "execution_count": 33
        }
      ]
    },
    {
      "cell_type": "code",
      "source": [
        "new_cart = amazon_cart #equivalent changes will be applied but not copy\n",
        "new_cart[0] = 'gum'\n",
        "print(new_cart)\n",
        "print(amazon_cart)"
      ],
      "metadata": {
        "colab": {
          "base_uri": "https://localhost:8080/"
        },
        "id": "VbByEww9btcu",
        "outputId": "ff30ca6e-24f1-4cbc-bd35-739c19a54342"
      },
      "execution_count": null,
      "outputs": [
        {
          "output_type": "stream",
          "name": "stdout",
          "text": [
            "['gum', 'sunglasses', 'toys', 'grapes']\n",
            "['gum', 'sunglasses', 'toys', 'grapes']\n"
          ]
        }
      ]
    },
    {
      "cell_type": "markdown",
      "source": [
        "# Copy List"
      ],
      "metadata": {
        "id": "CMxuJjK2c3i3"
      }
    },
    {
      "cell_type": "code",
      "source": [
        "#copying other list\n",
        "new_cart = amazon_cart[:] #copy\n",
        "new_cart[0] = 'mouse'\n",
        "print(new_cart)\n",
        "print(amazon_cart)\n"
      ],
      "metadata": {
        "colab": {
          "base_uri": "https://localhost:8080/"
        },
        "id": "M0kxMFekcQ-R",
        "outputId": "485c1414-7fb6-4d57-ab62-3c4d0001d734"
      },
      "execution_count": null,
      "outputs": [
        {
          "output_type": "stream",
          "name": "stdout",
          "text": [
            "['mouse', 'sunglasses', 'toys', 'grapes']\n",
            "['gum', 'sunglasses', 'toys', 'grapes']\n"
          ]
        }
      ]
    },
    {
      "cell_type": "markdown",
      "source": [
        "##Matrix is an array with  a array inside of it"
      ],
      "metadata": {
        "id": "7H4lHr0KcqUN"
      }
    },
    {
      "cell_type": "code",
      "source": [
        "#two dimensional\n",
        "matrix =[\n",
        "         [1,5,1],\n",
        "         [0,1,0],\n",
        "         [1,0,1]\n",
        "         ]"
      ],
      "metadata": {
        "id": "Oh4d5kodcwCY"
      },
      "execution_count": null,
      "outputs": []
    },
    {
      "cell_type": "code",
      "source": [
        "matrix[0][1]"
      ],
      "metadata": {
        "colab": {
          "base_uri": "https://localhost:8080/"
        },
        "id": "6Dx39Zuxp0sr",
        "outputId": "890bb196-b082-424a-9852-977ffa5ddc21"
      },
      "execution_count": null,
      "outputs": [
        {
          "output_type": "execute_result",
          "data": {
            "text/plain": [
              "5"
            ]
          },
          "metadata": {},
          "execution_count": 37
        }
      ]
    },
    {
      "cell_type": "markdown",
      "source": [
        "##List Methods"
      ],
      "metadata": {
        "id": "TdjdTWJOqND9"
      }
    },
    {
      "cell_type": "code",
      "source": [
        "basket = [1,2,3,4,5]\n",
        "len(basket)"
      ],
      "metadata": {
        "colab": {
          "base_uri": "https://localhost:8080/"
        },
        "id": "rNO8ZOJzqSz6",
        "outputId": "5f6a4839-b643-452e-923f-4411ed93b89c"
      },
      "execution_count": null,
      "outputs": [
        {
          "output_type": "execute_result",
          "data": {
            "text/plain": [
              "5"
            ]
          },
          "metadata": {},
          "execution_count": 48
        }
      ]
    },
    {
      "cell_type": "markdown",
      "source": [
        "#Adding or append the list"
      ],
      "metadata": {
        "id": "d3_xUT3nc8_g"
      }
    },
    {
      "cell_type": "code",
      "source": [
        "#adding\n",
        "basket.append(100)\n",
        "new_list = basket  #Changes at the end of the list\n",
        "print(basket)\n",
        "print(new_list)\n"
      ],
      "metadata": {
        "colab": {
          "base_uri": "https://localhost:8080/"
        },
        "id": "vsSYRAEsq0Je",
        "outputId": "71780a25-8139-41a8-9cea-106741db9d64"
      },
      "execution_count": null,
      "outputs": [
        {
          "output_type": "stream",
          "name": "stdout",
          "text": [
            "[1, 2, 3, 4, 5, 100]\n",
            "[1, 2, 3, 4, 5, 100]\n"
          ]
        }
      ]
    },
    {
      "cell_type": "markdown",
      "source": [
        "#Insert as per index of the list"
      ],
      "metadata": {
        "id": "pidVFZbodDTq"
      }
    },
    {
      "cell_type": "code",
      "source": [
        "#insert modify the list\n",
        "basket.insert(4,100)\n",
        "print(basket)"
      ],
      "metadata": {
        "colab": {
          "base_uri": "https://localhost:8080/"
        },
        "id": "bJVZ_kUm62DT",
        "outputId": "b846bc45-c873-4844-9539-804f08a8fb53"
      },
      "execution_count": null,
      "outputs": [
        {
          "output_type": "stream",
          "name": "stdout",
          "text": [
            "[1, 2, 3, 4, 100, 5, 100]\n"
          ]
        }
      ]
    },
    {
      "cell_type": "code",
      "source": [
        "basket = [1,2,3,4,5]\n",
        "new_list = basket.insert(5,200)\n",
        "new_list = basket\n",
        "print(basket)\n",
        "print(new_list)\n"
      ],
      "metadata": {
        "colab": {
          "base_uri": "https://localhost:8080/"
        },
        "id": "VIW0SKKa7W3u",
        "outputId": "655aaad4-7798-4b36-b69c-acdbf02d4ade"
      },
      "execution_count": null,
      "outputs": [
        {
          "output_type": "stream",
          "name": "stdout",
          "text": [
            "[1, 2, 3, 4, 5, 200]\n",
            "[1, 2, 3, 4, 5, 200]\n"
          ]
        }
      ]
    },
    {
      "cell_type": "markdown",
      "source": [
        "#Extend data on the List"
      ],
      "metadata": {
        "id": "aUhakPP_dKeQ"
      }
    },
    {
      "cell_type": "code",
      "source": [
        "#extend\n",
        "basket = [1,2,3,4,5]\n",
        "new_list = basket.extend([100])\n",
        "new_list = basket\n",
        "print(basket)\n",
        "print(new_list)"
      ],
      "metadata": {
        "colab": {
          "base_uri": "https://localhost:8080/"
        },
        "id": "qanwKWR78lPs",
        "outputId": "a25a9127-6e9f-47ef-e775-625011293c20"
      },
      "execution_count": null,
      "outputs": [
        {
          "output_type": "stream",
          "name": "stdout",
          "text": [
            "[1, 2, 3, 4, 5, 100]\n",
            "[1, 2, 3, 4, 5, 100]\n"
          ]
        }
      ]
    },
    {
      "cell_type": "markdown",
      "source": [
        "#Removing data on the list\n",
        "#as per index or last data as default"
      ],
      "metadata": {
        "id": "AhMeInjpdQHf"
      }
    },
    {
      "cell_type": "code",
      "source": [
        "#removing\n",
        "basket = [1,2,3,4,5]\n",
        "basket.pop() #delete the end of the list\n",
        "print(basket)"
      ],
      "metadata": {
        "colab": {
          "base_uri": "https://localhost:8080/"
        },
        "id": "Zy9kzI9-8wgz",
        "outputId": "5d25e677-bf23-446c-a77a-e46bc2d06e0d"
      },
      "execution_count": null,
      "outputs": [
        {
          "output_type": "stream",
          "name": "stdout",
          "text": [
            "[1, 2, 3]\n"
          ]
        }
      ]
    },
    {
      "cell_type": "code",
      "source": [
        "basket = [1,2,3,4,5]\n",
        "basket.pop(0) #delete in the index whiich is thye index\n",
        "print(basket)"
      ],
      "metadata": {
        "colab": {
          "base_uri": "https://localhost:8080/"
        },
        "id": "43vZnFMC9Dv8",
        "outputId": "0e5ee15c-7540-4df1-8934-ccb1de583be6"
      },
      "execution_count": null,
      "outputs": [
        {
          "output_type": "stream",
          "name": "stdout",
          "text": [
            "[2, 3]\n"
          ]
        }
      ]
    },
    {
      "cell_type": "markdown",
      "source": [
        "#Remove data on the list\n",
        "#as per value"
      ],
      "metadata": {
        "id": "r0qVxPcTdWv_"
      }
    },
    {
      "cell_type": "code",
      "source": [
        "#remove\n",
        "basket = [1,2,3,4,5]\n",
        "basket.remove(3)\n",
        "print(basket)"
      ],
      "metadata": {
        "colab": {
          "base_uri": "https://localhost:8080/"
        },
        "id": "LL45D3Ky9O-d",
        "outputId": "526c11d5-916a-435e-ac83-63640772fee7"
      },
      "execution_count": null,
      "outputs": [
        {
          "output_type": "stream",
          "name": "stdout",
          "text": [
            "[1, 2, 4, 5]\n"
          ]
        }
      ]
    },
    {
      "cell_type": "markdown",
      "source": [
        "#Clear List"
      ],
      "metadata": {
        "id": "gUkXuuBAdsXI"
      }
    },
    {
      "cell_type": "code",
      "source": [
        "#clear\n",
        "basket = [1,2,3,4,5]\n",
        "basket.clear() #clear all\n",
        "print(basket)"
      ],
      "metadata": {
        "colab": {
          "base_uri": "https://localhost:8080/"
        },
        "id": "KwhF8uYO9duj",
        "outputId": "2077ff0a-a5e7-4388-c6f9-2d3e16e9e668"
      },
      "execution_count": null,
      "outputs": [
        {
          "output_type": "stream",
          "name": "stdout",
          "text": [
            "[]\n"
          ]
        }
      ]
    },
    {
      "cell_type": "markdown",
      "source": [
        "#Index\n",
        "#display by index"
      ],
      "metadata": {
        "id": "PQC7H9lVeRAQ"
      }
    },
    {
      "cell_type": "code",
      "source": [
        "#index\n",
        "basket = [1,2,3,4,5]\n",
        "print(basket.index(2)) #display by index"
      ],
      "metadata": {
        "colab": {
          "base_uri": "https://localhost:8080/"
        },
        "id": "MrYKTQJc90wL",
        "outputId": "2cd65b00-c39a-48ab-9d64-b09ce8465b28"
      },
      "execution_count": null,
      "outputs": [
        {
          "output_type": "stream",
          "name": "stdout",
          "text": [
            "1\n"
          ]
        }
      ]
    },
    {
      "cell_type": "code",
      "source": [
        "#index\n",
        "basket = ['a','b','c','d','e']\n",
        "print(basket.index('c')) #display by index"
      ],
      "metadata": {
        "colab": {
          "base_uri": "https://localhost:8080/"
        },
        "id": "Q2iH1Upu-ECj",
        "outputId": "f0ea3eda-9805-4a2e-ba0b-40bd4dd320db"
      },
      "execution_count": null,
      "outputs": [
        {
          "output_type": "stream",
          "name": "stdout",
          "text": [
            "2\n"
          ]
        }
      ]
    },
    {
      "cell_type": "code",
      "source": [
        "basket = ['a','b','c','d','e']\n",
        "print(basket.index('c',0,4)) #display by index"
      ],
      "metadata": {
        "colab": {
          "base_uri": "https://localhost:8080/"
        },
        "id": "5pNpWjFz-VOD",
        "outputId": "75d22f18-618e-454d-c5f6-1ed9ca5a8c4d"
      },
      "execution_count": null,
      "outputs": [
        {
          "output_type": "stream",
          "name": "stdout",
          "text": [
            "2\n"
          ]
        }
      ]
    },
    {
      "cell_type": "markdown",
      "source": [
        "#Python Keywords"
      ],
      "metadata": {
        "id": "XLBFvFU2eYyw"
      }
    },
    {
      "cell_type": "markdown",
      "source": [
        "#in"
      ],
      "metadata": {
        "id": "FLk_nUzteatW"
      }
    },
    {
      "cell_type": "code",
      "source": [
        "#python keyword\n",
        "# in\n",
        "basket = ['a','b','c','d','e']\n",
        "print('d' in basket)\n",
        "print('i' in basket)\n"
      ],
      "metadata": {
        "colab": {
          "base_uri": "https://localhost:8080/"
        },
        "id": "6mINK38o-d1s",
        "outputId": "f6b2909f-39a7-43a4-8a31-b2926f5a293b"
      },
      "execution_count": null,
      "outputs": [
        {
          "output_type": "stream",
          "name": "stdout",
          "text": [
            "True\n",
            "False\n"
          ]
        }
      ]
    },
    {
      "cell_type": "markdown",
      "source": [
        "# count"
      ],
      "metadata": {
        "id": "xDY4G1mPeqYX"
      }
    },
    {
      "cell_type": "code",
      "source": [
        "# count\n",
        "basket = ['a','b','c','d','e','d']\n",
        "print(basket.count('d'))"
      ],
      "metadata": {
        "colab": {
          "base_uri": "https://localhost:8080/"
        },
        "id": "2gYGW7b9-3tM",
        "outputId": "6d1227f2-d03d-4f72-b601-f7706b52e44d"
      },
      "execution_count": null,
      "outputs": [
        {
          "output_type": "stream",
          "name": "stdout",
          "text": [
            "2\n"
          ]
        }
      ]
    },
    {
      "cell_type": "markdown",
      "source": [
        "# sort"
      ],
      "metadata": {
        "id": "5lu8-4Ijespw"
      }
    },
    {
      "cell_type": "code",
      "source": [
        "# sort\n",
        "basket = ['x','a','b','c','d','e','d','e']\n",
        "basket.sort()\n",
        "print(basket) # for printing only"
      ],
      "metadata": {
        "id": "Nqu-9cfhETLc",
        "colab": {
          "base_uri": "https://localhost:8080/"
        },
        "outputId": "bf3bc047-6c37-4cea-9edd-3f0f8aea207b"
      },
      "execution_count": 80,
      "outputs": [
        {
          "output_type": "stream",
          "name": "stdout",
          "text": [
            "['a', 'b', 'c', 'd', 'd', 'e', 'e', 'x']\n"
          ]
        }
      ]
    },
    {
      "cell_type": "markdown",
      "source": [
        "# sorted"
      ],
      "metadata": {
        "id": "cZ8GgZz8evpv"
      }
    },
    {
      "cell_type": "code",
      "source": [
        "# sorted\n",
        "basket = ['x','a','b','c','d','e','d','e']\n",
        "print(sorted(basket)) #sort list in a function or new/copy list"
      ],
      "metadata": {
        "colab": {
          "base_uri": "https://localhost:8080/"
        },
        "id": "QAHizpueSlNz",
        "outputId": "f4522da0-c327-4dc0-93e7-a8332edcf083"
      },
      "execution_count": 82,
      "outputs": [
        {
          "output_type": "stream",
          "name": "stdout",
          "text": [
            "['a', 'b', 'c', 'd', 'd', 'e', 'e', 'x']\n"
          ]
        }
      ]
    },
    {
      "cell_type": "code",
      "source": [
        "new_basket= basket[:] #copying basket\n",
        "new_basket.sort()\n",
        "print(new_basket)\n"
      ],
      "metadata": {
        "colab": {
          "base_uri": "https://localhost:8080/"
        },
        "id": "z69TU3vLS_85",
        "outputId": "df770e65-8b3d-4dfb-e597-092e39d4728d"
      },
      "execution_count": 83,
      "outputs": [
        {
          "output_type": "stream",
          "name": "stdout",
          "text": [
            "['a', 'b', 'c', 'd', 'd', 'e', 'e', 'x']\n"
          ]
        }
      ]
    },
    {
      "cell_type": "markdown",
      "source": [
        "# .copy()"
      ],
      "metadata": {
        "id": "IKb_ewz8ex5w"
      }
    },
    {
      "cell_type": "code",
      "source": [
        "# .copy()\n",
        "new_basket= basket.copy()\n",
        "new_basket.sort()\n",
        "print(new_basket)\n"
      ],
      "metadata": {
        "colab": {
          "base_uri": "https://localhost:8080/"
        },
        "id": "-0F-Vj0RTXvF",
        "outputId": "97840b43-be40-4134-ddd7-114e7120ca84"
      },
      "execution_count": 86,
      "outputs": [
        {
          "output_type": "stream",
          "name": "stdout",
          "text": [
            "['a', 'b', 'c', 'd', 'd', 'e', 'e', 'x']\n"
          ]
        }
      ]
    },
    {
      "cell_type": "markdown",
      "source": [
        "# .reverse()"
      ],
      "metadata": {
        "id": "rIOPpL5de2fv"
      }
    },
    {
      "cell_type": "code",
      "source": [
        "# .reverse()\n",
        "basket = ['x','a','b','c','d','e','d','e']\n",
        "basket.reverse() #swithing all the indexes in reverse\n",
        "print(basket)\n"
      ],
      "metadata": {
        "colab": {
          "base_uri": "https://localhost:8080/"
        },
        "id": "E1sdXXEnTpIC",
        "outputId": "533fe3df-1e5f-485d-adf8-60f62f9c34ec"
      },
      "execution_count": 87,
      "outputs": [
        {
          "output_type": "stream",
          "name": "stdout",
          "text": [
            "['e', 'd', 'e', 'd', 'c', 'b', 'a', 'x']\n"
          ]
        }
      ]
    },
    {
      "cell_type": "code",
      "source": [
        "# .reverse()\n",
        "basket = ['x','a','b','c','d','e','d','e']\n",
        "basket.sort()\n",
        "basket.reverse() #swithing all the indexes in reverse\n",
        "print(basket)"
      ],
      "metadata": {
        "colab": {
          "base_uri": "https://localhost:8080/"
        },
        "id": "jl4zQXLSUAwR",
        "outputId": "9b00ead3-d3f1-4790-bb2c-5fd0967676e7"
      },
      "execution_count": 88,
      "outputs": [
        {
          "output_type": "stream",
          "name": "stdout",
          "text": [
            "['x', 'e', 'e', 'd', 'd', 'c', 'b', 'a']\n"
          ]
        }
      ]
    },
    {
      "cell_type": "markdown",
      "source": [
        "# list slicing on reverse"
      ],
      "metadata": {
        "id": "RVQtsWAie5eJ"
      }
    },
    {
      "cell_type": "code",
      "source": [
        "# list slicing on reverse\n",
        "basket = ['x','a','b','c','d','e','d','e']\n",
        "basket.sort()\n",
        "basket.reverse()\n",
        "print(basket)\n",
        "basket[::-1] #[start : end  :stopover]"
      ],
      "metadata": {
        "colab": {
          "base_uri": "https://localhost:8080/"
        },
        "id": "TZ8wMj8ZUNRq",
        "outputId": "dce594d5-6676-406e-8386-96ce826bc440"
      },
      "execution_count": 91,
      "outputs": [
        {
          "output_type": "stream",
          "name": "stdout",
          "text": [
            "['x', 'e', 'e', 'd', 'd', 'c', 'b', 'a']\n"
          ]
        },
        {
          "output_type": "execute_result",
          "data": {
            "text/plain": [
              "['a', 'b', 'c', 'd', 'd', 'e', 'e', 'x']"
            ]
          },
          "metadata": {},
          "execution_count": 91
        }
      ]
    },
    {
      "cell_type": "markdown",
      "source": [
        "# range"
      ],
      "metadata": {
        "id": "hF4CeOJfe-bO"
      }
    },
    {
      "cell_type": "code",
      "source": [
        "# range\n",
        "print(range(1,100))"
      ],
      "metadata": {
        "colab": {
          "base_uri": "https://localhost:8080/"
        },
        "id": "TRxrl83FVD_z",
        "outputId": "28f445f2-271c-4078-b996-575227e19b7e"
      },
      "execution_count": 92,
      "outputs": [
        {
          "output_type": "stream",
          "name": "stdout",
          "text": [
            "range(1, 100)\n"
          ]
        }
      ]
    },
    {
      "cell_type": "code",
      "source": [
        "print(list(range(1,100)))"
      ],
      "metadata": {
        "colab": {
          "base_uri": "https://localhost:8080/"
        },
        "id": "vcIlHje5VP36",
        "outputId": "c21cf209-0bbf-47b5-8a9d-886d3a12a2c1"
      },
      "execution_count": 93,
      "outputs": [
        {
          "output_type": "stream",
          "name": "stdout",
          "text": [
            "[1, 2, 3, 4, 5, 6, 7, 8, 9, 10, 11, 12, 13, 14, 15, 16, 17, 18, 19, 20, 21, 22, 23, 24, 25, 26, 27, 28, 29, 30, 31, 32, 33, 34, 35, 36, 37, 38, 39, 40, 41, 42, 43, 44, 45, 46, 47, 48, 49, 50, 51, 52, 53, 54, 55, 56, 57, 58, 59, 60, 61, 62, 63, 64, 65, 66, 67, 68, 69, 70, 71, 72, 73, 74, 75, 76, 77, 78, 79, 80, 81, 82, 83, 84, 85, 86, 87, 88, 89, 90, 91, 92, 93, 94, 95, 96, 97, 98, 99]\n"
          ]
        }
      ]
    },
    {
      "cell_type": "markdown",
      "source": [
        "# .join()"
      ],
      "metadata": {
        "id": "htcWXvOZfAqP"
      }
    },
    {
      "cell_type": "code",
      "source": [
        "# .join()\n",
        "sentence = ' '\n",
        "new_sentence = sentence.join(['hi', 'whats', 'up'])\n",
        "print(new_sentence)"
      ],
      "metadata": {
        "colab": {
          "base_uri": "https://localhost:8080/"
        },
        "id": "g5-jUYDBVY6q",
        "outputId": "ff170541-c763-4d8e-8d4b-704b78fd6844"
      },
      "execution_count": 96,
      "outputs": [
        {
          "output_type": "stream",
          "name": "stdout",
          "text": [
            "hi whats up\n"
          ]
        }
      ]
    },
    {
      "cell_type": "code",
      "source": [
        "new_sentence = ' '.join(['hi', 'whats', 'up'])\n",
        "print(new_sentence)"
      ],
      "metadata": {
        "colab": {
          "base_uri": "https://localhost:8080/"
        },
        "id": "P4SquERVV9yb",
        "outputId": "9c5a2997-371d-4ba8-9299-a0fbb173ca6c"
      },
      "execution_count": 97,
      "outputs": [
        {
          "output_type": "stream",
          "name": "stdout",
          "text": [
            "hi whats up\n"
          ]
        }
      ]
    },
    {
      "cell_type": "markdown",
      "source": [
        "# List Unpacking"
      ],
      "metadata": {
        "id": "aLhCSgV-fCpn"
      }
    },
    {
      "cell_type": "code",
      "source": [
        "#list unpacking\n",
        "#list distribution\n",
        "a,b,c= [1, 2, 3]\n",
        "print(a)\n",
        "print(b)\n",
        "print(c)\n",
        "\n",
        "#list unpacking\n",
        "a,b,c,*other, d = [1, 2, 3,4,5,6,7,8,9]\n",
        "print(a)\n",
        "print(b)\n",
        "print(c)\n",
        "print(other) # display the undeclared\n",
        "print(d)\n"
      ],
      "metadata": {
        "colab": {
          "base_uri": "https://localhost:8080/"
        },
        "id": "psschk_jWGxy",
        "outputId": "2219fd37-fd77-490a-e83c-2715a802ba4e"
      },
      "execution_count": 100,
      "outputs": [
        {
          "output_type": "stream",
          "name": "stdout",
          "text": [
            "1\n",
            "2\n",
            "3\n",
            "1\n",
            "2\n",
            "3\n",
            "[4, 5, 6, 7, 8]\n",
            "9\n"
          ]
        }
      ]
    },
    {
      "cell_type": "markdown",
      "source": [
        "# None & Null"
      ],
      "metadata": {
        "id": "KRGDxIlngpQ4"
      }
    },
    {
      "cell_type": "code",
      "source": [
        "# None & Null\n",
        "#absence of a value\n",
        "weapon = None\n",
        "print(weapon)\n"
      ],
      "metadata": {
        "colab": {
          "base_uri": "https://localhost:8080/"
        },
        "id": "qElidv2ZW2ai",
        "outputId": "06cf34e7-4c54-42b8-ce52-0253c2390bd3"
      },
      "execution_count": 102,
      "outputs": [
        {
          "output_type": "stream",
          "name": "stdout",
          "text": [
            "None\n"
          ]
        }
      ]
    },
    {
      "cell_type": "markdown",
      "source": [
        "#Dictionary"
      ],
      "metadata": {
        "id": "u2-t_X3IgrVP"
      }
    },
    {
      "cell_type": "code",
      "source": [
        "#Dictionary\n",
        "#data type and data structure\n",
        "#dict\n",
        "#string display its value result\n",
        "#no index arrangement or place in different spot of memory\n",
        "dictionary = {\n",
        "    'a':1,\n",
        "    'b':2\n",
        "}\n",
        "\n",
        "print(dictionary['b'])\n",
        "print(dictionary) #unorder key value"
      ],
      "metadata": {
        "colab": {
          "base_uri": "https://localhost:8080/"
        },
        "id": "LqjoivkoXRzz",
        "outputId": "9028b038-909e-44d9-fd27-80e6ae22a07a"
      },
      "execution_count": 107,
      "outputs": [
        {
          "output_type": "stream",
          "name": "stdout",
          "text": [
            "2\n",
            "{'a': 1, 'b': 2}\n"
          ]
        }
      ]
    },
    {
      "cell_type": "code",
      "source": [
        "dictionary = {\n",
        "    'a':[1,2,3],\n",
        "    'b':'hello',\n",
        "    'x':True\n",
        "}\n",
        "print(dictionary['a'])\n",
        "\n",
        "#array\n",
        "my_list = [{\n",
        "    'a':[1,2,3],\n",
        "    'b':'hello',\n",
        "    'x':True\n",
        "},{\n",
        "    'a':[4,5,6],\n",
        "    'b':'bye',\n",
        "    'x':False\n",
        "}\n",
        "           ]\n",
        "\n",
        "print(my_list [0])"
      ],
      "metadata": {
        "colab": {
          "base_uri": "https://localhost:8080/"
        },
        "id": "n9V_nhTHX9Fb",
        "outputId": "73827c0a-375a-4169-bdec-952948adaa29"
      },
      "execution_count": 113,
      "outputs": [
        {
          "output_type": "stream",
          "name": "stdout",
          "text": [
            "[1, 2, 3]\n",
            "{'a': [1, 2, 3], 'b': 'hello', 'x': True}\n"
          ]
        }
      ]
    },
    {
      "cell_type": "markdown",
      "source": [
        "#Undertanding Data Structure"
      ],
      "metadata": {
        "id": "7ZRhTmrYab7p"
      }
    },
    {
      "cell_type": "code",
      "source": [
        "dictionary = {\n",
        "    'Weapon':[1,2,3],\n",
        "    'Greeting':'hello',\n",
        "    'Is_Magic':True\n",
        "}\n",
        "dictionary['Weapon']"
      ],
      "metadata": {
        "colab": {
          "base_uri": "https://localhost:8080/"
        },
        "id": "gz1oEU_TaY3B",
        "outputId": "1f2d92d5-14f1-4823-e792-7d261652ae64"
      },
      "execution_count": 115,
      "outputs": [
        {
          "output_type": "execute_result",
          "data": {
            "text/plain": [
              "[1, 2, 3]"
            ]
          },
          "metadata": {},
          "execution_count": 115
        }
      ]
    },
    {
      "cell_type": "markdown",
      "source": [
        "#Dictionary key"
      ],
      "metadata": {
        "id": "2i5R2TJniuDv"
      }
    },
    {
      "cell_type": "code",
      "source": [
        "#Dictionary key must be a string Immunable or discreptive\n",
        "#has to be unique\n",
        "dictionary = {\n",
        "    '123':[1,2,3],\n",
        "    '123':'hello',\n",
        "}\n",
        "dictionary['123']"
      ],
      "metadata": {
        "colab": {
          "base_uri": "https://localhost:8080/",
          "height": 35
        },
        "id": "UFZe_DzPitVX",
        "outputId": "53a76a7a-8106-4091-f7bf-b5bedd9006fd"
      },
      "execution_count": 117,
      "outputs": [
        {
          "output_type": "execute_result",
          "data": {
            "text/plain": [
              "'hello'"
            ],
            "application/vnd.google.colaboratory.intrinsic+json": {
              "type": "string"
            }
          },
          "metadata": {},
          "execution_count": 117
        }
      ]
    },
    {
      "cell_type": "markdown",
      "source": [
        "##Dictionary Method"
      ],
      "metadata": {
        "id": "A2qCjDXYjgQI"
      }
    },
    {
      "cell_type": "code",
      "source": [
        "user = {\n",
        "    'basket':[1,2,3],\n",
        "    'greet':'hello',\n",
        "}\n",
        "user['basket']"
      ],
      "metadata": {
        "colab": {
          "base_uri": "https://localhost:8080/"
        },
        "id": "NkSt39UZjfmA",
        "outputId": "8dc8a584-7bc5-4d14-f33c-3f357c42d674"
      },
      "execution_count": 118,
      "outputs": [
        {
          "output_type": "execute_result",
          "data": {
            "text/plain": [
              "[1, 2, 3]"
            ]
          },
          "metadata": {},
          "execution_count": 118
        }
      ]
    },
    {
      "cell_type": "markdown",
      "source": [
        "# .get method"
      ],
      "metadata": {
        "id": "gpYEZlQKj2l3"
      }
    },
    {
      "cell_type": "code",
      "source": [
        "user = {\n",
        "    'basket':[1,2,3],\n",
        "    'greet':'hello',\n",
        "}\n",
        "\n",
        "#prevent error since 'age' doesnt exist the default value will display\n",
        "user.get('age',55)"
      ],
      "metadata": {
        "colab": {
          "base_uri": "https://localhost:8080/"
        },
        "id": "eNzLZZ34j2BX",
        "outputId": "d311413c-0a41-4e05-9df8-d7a49b787b7d"
      },
      "execution_count": 122,
      "outputs": [
        {
          "output_type": "stream",
          "name": "stdout",
          "text": [
            "55\n"
          ]
        }
      ]
    },
    {
      "cell_type": "markdown",
      "source": [
        "#dict"
      ],
      "metadata": {
        "id": "kPgwFq1ikb8W"
      }
    },
    {
      "cell_type": "code",
      "source": [
        "user2 = dict(name= 'JohnJohn',\n",
        "             age='55')\n",
        "print(user2)\n",
        "\n",
        "\n"
      ],
      "metadata": {
        "colab": {
          "base_uri": "https://localhost:8080/"
        },
        "id": "wOryKFUOjzsI",
        "outputId": "2982eb12-3221-476b-a892-56a025e106c6"
      },
      "execution_count": 125,
      "outputs": [
        {
          "output_type": "stream",
          "name": "stdout",
          "text": [
            "{'name': 'JohnJohn', 'age': '55'}\n"
          ]
        }
      ]
    },
    {
      "cell_type": "markdown",
      "source": [
        "##Dictionary Method2"
      ],
      "metadata": {
        "id": "G7Lj18osk_bp"
      }
    },
    {
      "cell_type": "markdown",
      "source": [
        "# in"
      ],
      "metadata": {
        "id": "RJvMGOe2lpYl"
      }
    },
    {
      "cell_type": "code",
      "source": [
        "user = {\n",
        "    'basket':[1,2,3],\n",
        "    'greet':'hello',\n",
        "}\n",
        "\n",
        "print('basket' in user)\n",
        "print('size' in user)"
      ],
      "metadata": {
        "colab": {
          "base_uri": "https://localhost:8080/"
        },
        "id": "dpsdzT_clEmo",
        "outputId": "b384e351-848f-457b-d878-721d721ca671"
      },
      "execution_count": 126,
      "outputs": [
        {
          "output_type": "stream",
          "name": "stdout",
          "text": [
            "True\n",
            "False\n"
          ]
        }
      ]
    },
    {
      "cell_type": "markdown",
      "source": [
        "# .keys()"
      ],
      "metadata": {
        "id": "jzAvg9DKl8i-"
      }
    },
    {
      "cell_type": "code",
      "source": [
        "user = {\n",
        "    'basket':[1,2,3],\n",
        "    'greet':'hello',\n",
        "    'age': 20\n",
        "}\n",
        "print('age' in user.keys())"
      ],
      "metadata": {
        "colab": {
          "base_uri": "https://localhost:8080/"
        },
        "id": "-M-rDswal68n",
        "outputId": "8fdb5f79-1b4e-4dc5-a47a-6f6458f508bf"
      },
      "execution_count": 127,
      "outputs": [
        {
          "output_type": "stream",
          "name": "stdout",
          "text": [
            "True\n"
          ]
        }
      ]
    },
    {
      "cell_type": "markdown",
      "source": [
        "#.values"
      ],
      "metadata": {
        "id": "fA9A7iz1mO2R"
      }
    },
    {
      "cell_type": "code",
      "source": [
        "user = {\n",
        "    'basket':[1,2,3],\n",
        "    'greet':'hello',\n",
        "    'age': 20\n",
        "}\n",
        "print('hello' in user.values())"
      ],
      "metadata": {
        "colab": {
          "base_uri": "https://localhost:8080/"
        },
        "id": "m_LlMKVfmVH5",
        "outputId": "4dbe5153-46c7-4f9f-b8d4-c3c465dc47c4"
      },
      "execution_count": 129,
      "outputs": [
        {
          "output_type": "stream",
          "name": "stdout",
          "text": [
            "True\n"
          ]
        }
      ]
    },
    {
      "cell_type": "markdown",
      "source": [
        "#.items()"
      ],
      "metadata": {
        "id": "oTzuM9OLmf79"
      }
    },
    {
      "cell_type": "code",
      "source": [
        "user = {\n",
        "    'basket':[1,2,3],\n",
        "    'greet':'hello',\n",
        "    'age': 20\n",
        "}\n",
        "print(user.items())\n",
        "#tuple"
      ],
      "metadata": {
        "colab": {
          "base_uri": "https://localhost:8080/"
        },
        "id": "hNesjzIfmfFq",
        "outputId": "80606202-a2b7-4b50-adf4-d3f03a78baa1"
      },
      "execution_count": 130,
      "outputs": [
        {
          "output_type": "stream",
          "name": "stdout",
          "text": [
            "dict_items([('basket', [1, 2, 3]), ('greet', 'hello'), ('age', 20)])\n"
          ]
        }
      ]
    },
    {
      "cell_type": "markdown",
      "source": [
        "#.clear()"
      ],
      "metadata": {
        "id": "iTQ_m0zimvMH"
      }
    },
    {
      "cell_type": "code",
      "source": [
        "user = {\n",
        "    'basket':[1,2,3],\n",
        "    'greet':'hello',\n",
        "    'age': 20\n",
        "}\n",
        "print(user.clear())\n"
      ],
      "metadata": {
        "colab": {
          "base_uri": "https://localhost:8080/"
        },
        "id": "9D-kSU6Km0EW",
        "outputId": "0950ef8d-be50-4653-c56f-8cfcdbd76ef3"
      },
      "execution_count": 131,
      "outputs": [
        {
          "output_type": "stream",
          "name": "stdout",
          "text": [
            "None\n"
          ]
        }
      ]
    },
    {
      "cell_type": "markdown",
      "source": [
        "#.copy()"
      ],
      "metadata": {
        "id": "jgAr2KrAmzP0"
      }
    },
    {
      "cell_type": "code",
      "source": [
        "user = {\n",
        "    'basket':[1,2,3],\n",
        "    'greet':'hello',\n",
        "    'age': 20\n",
        "}\n",
        "user2 = user.copy()\n",
        "print(user)\n",
        "print(user2)"
      ],
      "metadata": {
        "colab": {
          "base_uri": "https://localhost:8080/"
        },
        "id": "aQkZwjCQm4-w",
        "outputId": "823ea004-c4e0-476e-8da9-5162aa8e1fad"
      },
      "execution_count": 132,
      "outputs": [
        {
          "output_type": "stream",
          "name": "stdout",
          "text": [
            "{'basket': [1, 2, 3], 'greet': 'hello', 'age': 20}\n",
            "{'basket': [1, 2, 3], 'greet': 'hello', 'age': 20}\n"
          ]
        }
      ]
    },
    {
      "cell_type": "markdown",
      "source": [
        "#.pop()"
      ],
      "metadata": {
        "id": "sxBNhiJRnR_B"
      }
    },
    {
      "cell_type": "code",
      "source": [
        "user = {\n",
        "    'basket':[1,2,3],\n",
        "    'greet':'hello',\n",
        "    'age': 20\n",
        "}\n",
        "#remove was displayed\n",
        "print(user.pop('age'))\n",
        "print(user)"
      ],
      "metadata": {
        "colab": {
          "base_uri": "https://localhost:8080/"
        },
        "id": "scXEkUP3nUHx",
        "outputId": "18803448-9a45-40e6-f363-4b5339c61440"
      },
      "execution_count": 134,
      "outputs": [
        {
          "output_type": "stream",
          "name": "stdout",
          "text": [
            "20\n",
            "{'basket': [1, 2, 3], 'greet': 'hello'}\n"
          ]
        }
      ]
    },
    {
      "cell_type": "markdown",
      "source": [
        "#.popitem()"
      ],
      "metadata": {
        "id": "xOOlUb9lnkKP"
      }
    },
    {
      "cell_type": "code",
      "source": [
        "user = {\n",
        "    'basket':[1,2,3],\n",
        "    'greet':'hello',\n",
        "    'age': 20\n",
        "}\n",
        "#remove randomly\n",
        "print(user.popitem())\n",
        "print(user)"
      ],
      "metadata": {
        "colab": {
          "base_uri": "https://localhost:8080/"
        },
        "id": "21hxEeBfnmsw",
        "outputId": "32230e7c-06eb-4a29-bd04-68f00a036541"
      },
      "execution_count": 136,
      "outputs": [
        {
          "output_type": "stream",
          "name": "stdout",
          "text": [
            "('age', 20)\n",
            "{'basket': [1, 2, 3], 'greet': 'hello'}\n"
          ]
        }
      ]
    },
    {
      "cell_type": "markdown",
      "source": [
        "#.update()"
      ],
      "metadata": {
        "id": "8r_2M17anzE_"
      }
    },
    {
      "cell_type": "code",
      "source": [
        "user = {\n",
        "    'basket':[1,2,3],\n",
        "    'greet':'hello',\n",
        "    'age': 20\n",
        "}\n",
        "#update the dictionary\n",
        "print(user.update({'age':55}))\n",
        "print(user.update({'ages':35}))\n",
        "\n",
        "print(user)"
      ],
      "metadata": {
        "colab": {
          "base_uri": "https://localhost:8080/"
        },
        "id": "fuzKCxsEn0xo",
        "outputId": "a496bffb-19b3-4fe2-dbca-6fb77992623f"
      },
      "execution_count": 137,
      "outputs": [
        {
          "output_type": "stream",
          "name": "stdout",
          "text": [
            "None\n",
            "None\n",
            "{'basket': [1, 2, 3], 'greet': 'hello', 'age': 55, 'ages': 35}\n"
          ]
        }
      ]
    },
    {
      "cell_type": "markdown",
      "source": [
        "##Tuple\n",
        "#list that cant be modified\n",
        "#or Immutable list"
      ],
      "metadata": {
        "id": "IoFSEJwBoFjn"
      }
    },
    {
      "cell_type": "code",
      "source": [
        "my_tuple = (1,2,3,4,5)\n",
        "#my_tuple[1] = 'z' #error cant be sorted or change, It is immutable\n",
        "print(my_tuple[1])\n",
        "print(5 in my_tuple)\n",
        "\n",
        "#more faster than list"
      ],
      "metadata": {
        "colab": {
          "base_uri": "https://localhost:8080/"
        },
        "id": "5o0IhVf2oP4X",
        "outputId": "8ac60e38-3762-4259-daa5-4f533bc5b0d0"
      },
      "execution_count": 140,
      "outputs": [
        {
          "output_type": "stream",
          "name": "stdout",
          "text": [
            "2\n",
            "True\n"
          ]
        }
      ]
    },
    {
      "cell_type": "code",
      "source": [
        "user = {\n",
        "    (1,2):[1,2,3], # tuple\n",
        "    'greet':'hello',\n",
        "    'age': 20\n",
        "}\n",
        "print(user.items())\n",
        "print(user[(1,2)])"
      ],
      "metadata": {
        "colab": {
          "base_uri": "https://localhost:8080/"
        },
        "id": "m3cU0ijIqaXG",
        "outputId": "b5266a61-40d4-4eb1-911f-fc5325cee19a"
      },
      "execution_count": 142,
      "outputs": [
        {
          "output_type": "stream",
          "name": "stdout",
          "text": [
            "dict_items([((1, 2), [1, 2, 3]), ('greet', 'hello'), ('age', 20)])\n",
            "[1, 2, 3]\n"
          ]
        }
      ]
    },
    {
      "cell_type": "code",
      "source": [
        "#Tuple\n",
        "my_tuple = (1,2,3,4,5)\n",
        "new_tuple = my_tuple[1:4]\n",
        "print(new_tuple)"
      ],
      "metadata": {
        "colab": {
          "base_uri": "https://localhost:8080/"
        },
        "id": "p_2EMh1crBvv",
        "outputId": "291efb6c-f86f-4fa2-e0e9-cd7f2195b7a6"
      },
      "execution_count": 146,
      "outputs": [
        {
          "output_type": "stream",
          "name": "stdout",
          "text": [
            "(2, 3, 4)\n"
          ]
        }
      ]
    },
    {
      "cell_type": "code",
      "source": [
        "x,y,z,*other = (1,2,3,4,5)\n",
        "print(other)"
      ],
      "metadata": {
        "colab": {
          "base_uri": "https://localhost:8080/"
        },
        "id": "-BelVo1frvl3",
        "outputId": "95066c86-802d-491b-84eb-c913064e1fb1"
      },
      "execution_count": 147,
      "outputs": [
        {
          "output_type": "stream",
          "name": "stdout",
          "text": [
            "[4, 5]\n"
          ]
        }
      ]
    },
    {
      "cell_type": "markdown",
      "source": [
        "#Tuple Method\n",
        "\n",
        "a.count\n",
        "\n",
        "b.index"
      ],
      "metadata": {
        "id": "QvDeVtror9v9"
      }
    },
    {
      "cell_type": "markdown",
      "source": [
        "#.count()\n",
        "as per value"
      ],
      "metadata": {
        "id": "6ercHzD3sSkt"
      }
    },
    {
      "cell_type": "code",
      "source": [
        "my_tuple = (1,2,3,4,5)\n",
        "print(my_tuple.count(5))"
      ],
      "metadata": {
        "colab": {
          "base_uri": "https://localhost:8080/"
        },
        "id": "NVtdYAPxsEOM",
        "outputId": "89d7112b-2444-4d16-edbb-98270edb7ae8"
      },
      "execution_count": 150,
      "outputs": [
        {
          "output_type": "stream",
          "name": "stdout",
          "text": [
            "1\n"
          ]
        }
      ]
    },
    {
      "cell_type": "markdown",
      "source": [
        "#.index()"
      ],
      "metadata": {
        "id": "uevp5eaCsY84"
      }
    },
    {
      "cell_type": "code",
      "source": [
        "my_tuple = (1,2,3,4,5)\n",
        "print(my_tuple.index(5))"
      ],
      "metadata": {
        "colab": {
          "base_uri": "https://localhost:8080/"
        },
        "id": "hRjv-8H8sXfQ",
        "outputId": "12fde5fb-81ca-4dfc-9dcd-65fd46f70ca8"
      },
      "execution_count": 151,
      "outputs": [
        {
          "output_type": "stream",
          "name": "stdout",
          "text": [
            "4\n"
          ]
        }
      ]
    },
    {
      "cell_type": "code",
      "source": [
        "my_tuple = (1,2,3,4,5)\n",
        "print(len(my_tuple))"
      ],
      "metadata": {
        "colab": {
          "base_uri": "https://localhost:8080/"
        },
        "id": "Sy_I6jSUsiB2",
        "outputId": "d8567b62-80e9-48c0-dc70-d4b7edb15ed0"
      },
      "execution_count": 152,
      "outputs": [
        {
          "output_type": "stream",
          "name": "stdout",
          "text": [
            "5\n"
          ]
        }
      ]
    },
    {
      "cell_type": "markdown",
      "source": [
        "##Set"
      ],
      "metadata": {
        "id": "-5jc9e46srT0"
      }
    },
    {
      "cell_type": "code",
      "source": [
        "#unodered unique items\n",
        "my_set = {1,2,3,4,5} #set\n",
        "print(my_set)"
      ],
      "metadata": {
        "colab": {
          "base_uri": "https://localhost:8080/"
        },
        "id": "HKAvW98DsqeX",
        "outputId": "43d97567-5b23-46c5-fb12-f142647d713c"
      },
      "execution_count": 153,
      "outputs": [
        {
          "output_type": "stream",
          "name": "stdout",
          "text": [
            "{1, 2, 3, 4, 5}\n"
          ]
        }
      ]
    },
    {
      "cell_type": "code",
      "source": [
        "my_set = {1,2,3,4,5,5} #set\n",
        "print(my_set) # display only unique"
      ],
      "metadata": {
        "colab": {
          "base_uri": "https://localhost:8080/"
        },
        "id": "ideR_bgXuvO2",
        "outputId": "17a8c8a8-8def-4aa1-cd89-dd46bd945a96"
      },
      "execution_count": 154,
      "outputs": [
        {
          "output_type": "stream",
          "name": "stdout",
          "text": [
            "{1, 2, 3, 4, 5}\n"
          ]
        }
      ]
    },
    {
      "cell_type": "code",
      "source": [
        "my_set = {1,2,3,4,5}\n",
        "my_set.add(100)\n",
        "my_set.add(2)\n",
        "print(my_set)"
      ],
      "metadata": {
        "colab": {
          "base_uri": "https://localhost:8080/"
        },
        "id": "RCWtj8Jnu0H9",
        "outputId": "fd259a5d-b313-4242-fdd2-3c3a9e6c39bf"
      },
      "execution_count": 155,
      "outputs": [
        {
          "output_type": "stream",
          "name": "stdout",
          "text": [
            "{1, 2, 3, 4, 5, 100}\n"
          ]
        }
      ]
    },
    {
      "cell_type": "markdown",
      "source": [
        "#convert list to set"
      ],
      "metadata": {
        "id": "IMvTCQFovxsk"
      }
    },
    {
      "cell_type": "code",
      "source": [
        "my_list = [1,2,3,4,5,6,5]\n",
        "print(set(my_list))\n"
      ],
      "metadata": {
        "colab": {
          "base_uri": "https://localhost:8080/"
        },
        "id": "jj5P5a0UvAyH",
        "outputId": "9449351a-cb37-4d1b-f1a8-bdbc243ba389"
      },
      "execution_count": 156,
      "outputs": [
        {
          "output_type": "stream",
          "name": "stdout",
          "text": [
            "{1, 2, 3, 4, 5, 6}\n"
          ]
        }
      ]
    },
    {
      "cell_type": "code",
      "source": [
        "my_set= {1,2,3,4,5,5}\n",
        "#print(my_set[0]) # doesnt allow index\n",
        "print(1 in my_set)\n",
        "print(len(my_set))"
      ],
      "metadata": {
        "colab": {
          "base_uri": "https://localhost:8080/"
        },
        "id": "rtIIv-5PvWln",
        "outputId": "e7c0f1b3-3a07-4813-eaa1-4a2101b240c1"
      },
      "execution_count": 158,
      "outputs": [
        {
          "output_type": "stream",
          "name": "stdout",
          "text": [
            "True\n"
          ]
        }
      ]
    },
    {
      "cell_type": "markdown",
      "source": [
        "#convert set to list"
      ],
      "metadata": {
        "id": "BKTn6UgXv03M"
      }
    },
    {
      "cell_type": "code",
      "source": [
        "my_set= {1,2,3,4,5,5}\n",
        "print(list( my_set))"
      ],
      "metadata": {
        "id": "aQn-lH2jwIBm"
      },
      "execution_count": null,
      "outputs": []
    },
    {
      "cell_type": "markdown",
      "source": [
        "#.copy()"
      ],
      "metadata": {
        "id": "PPSPlsWuwM-j"
      }
    },
    {
      "cell_type": "code",
      "source": [
        "my_set= {1,2,3,4,5,5}\n",
        "new_set = my_set.copy()\n",
        "print(new_set)"
      ],
      "metadata": {
        "colab": {
          "base_uri": "https://localhost:8080/"
        },
        "id": "NyKNKergvnA_",
        "outputId": "4855678a-dc35-44a5-821e-1066cc20f5da"
      },
      "execution_count": 161,
      "outputs": [
        {
          "output_type": "stream",
          "name": "stdout",
          "text": [
            "{1, 2, 3, 4, 5}\n"
          ]
        }
      ]
    },
    {
      "cell_type": "markdown",
      "source": [
        "#.clear()"
      ],
      "metadata": {
        "id": "GN2wXUdOwRmj"
      }
    },
    {
      "cell_type": "code",
      "source": [
        "my_set= {1,2,3,4,5,5}\n",
        "my_set.clear()\n",
        "print(my_set)"
      ],
      "metadata": {
        "colab": {
          "base_uri": "https://localhost:8080/"
        },
        "id": "_7bP0ZISwWxW",
        "outputId": "7b7dcf8c-9e10-497e-c054-5f93558e4fb7"
      },
      "execution_count": 162,
      "outputs": [
        {
          "output_type": "stream",
          "name": "stdout",
          "text": [
            "set()\n"
          ]
        }
      ]
    },
    {
      "cell_type": "markdown",
      "source": [
        "##Set Part 2\n",
        "\n",
        ".difference()\n",
        "\n",
        ".discard()\n",
        "\n",
        ".difference_update()\n",
        "\n",
        ".intersection()\n",
        "\n",
        ".isdisjoint()\n",
        "\n",
        ".issubset()\n",
        "\n",
        ".issuperset()\n",
        "\n",
        ".union()"
      ],
      "metadata": {
        "id": "CuOG9Rs1wjeE"
      }
    },
    {
      "cell_type": "code",
      "source": [
        "my_set = {1,2,3,4,5}\n",
        "your_set = {4,5,6,7,8,9,10}"
      ],
      "metadata": {
        "id": "lvm_ucoiw8Jn"
      },
      "execution_count": 171,
      "outputs": []
    },
    {
      "cell_type": "markdown",
      "source": [
        "#.difference()"
      ],
      "metadata": {
        "id": "Iai1N9NAxQij"
      }
    },
    {
      "cell_type": "code",
      "source": [
        "print(my_set.difference(your_set)) #remove the duplicate of both sets"
      ],
      "metadata": {
        "colab": {
          "base_uri": "https://localhost:8080/"
        },
        "id": "OF4oVxzkxO_G",
        "outputId": "0fc27c95-020a-47d6-ba0d-5ba856417e4f"
      },
      "execution_count": 164,
      "outputs": [
        {
          "output_type": "stream",
          "name": "stdout",
          "text": [
            "{1, 2, 3}\n"
          ]
        }
      ]
    },
    {
      "cell_type": "markdown",
      "source": [
        "#.discard()"
      ],
      "metadata": {
        "id": "Mzj8H5Dvxec7"
      }
    },
    {
      "cell_type": "code",
      "source": [
        "my_set.discard(5) #remove 5\n",
        "print(my_set)"
      ],
      "metadata": {
        "colab": {
          "base_uri": "https://localhost:8080/"
        },
        "id": "WKJyCLy9xo0u",
        "outputId": "d92dbfb9-3d40-48ee-d37a-c46ffeb015ff"
      },
      "execution_count": 166,
      "outputs": [
        {
          "output_type": "stream",
          "name": "stdout",
          "text": [
            "{1, 2, 3, 4}\n"
          ]
        }
      ]
    },
    {
      "cell_type": "markdown",
      "source": [
        ".difference_update()"
      ],
      "metadata": {
        "id": "6qf8jiCdx84E"
      }
    },
    {
      "cell_type": "code",
      "source": [
        "my_set.difference_update(your_set)\n",
        "print(my_set)"
      ],
      "metadata": {
        "colab": {
          "base_uri": "https://localhost:8080/"
        },
        "id": "JK3oDLpQx72M",
        "outputId": "b0c21ff7-5fba-4e24-e104-70f5c897de6d"
      },
      "execution_count": 168,
      "outputs": [
        {
          "output_type": "stream",
          "name": "stdout",
          "text": [
            "{1, 2, 3}\n"
          ]
        }
      ]
    },
    {
      "cell_type": "markdown",
      "source": [
        "#.intersection()"
      ],
      "metadata": {
        "id": "9TWOoBx7yRmW"
      }
    },
    {
      "cell_type": "code",
      "source": [
        "my_set= {1,2,3,4,5,5}\n",
        "your_set = {4,5,6,7,8,9,10}\n",
        "print(my_set.intersection(your_set)) #display only the duplicate"
      ],
      "metadata": {
        "colab": {
          "base_uri": "https://localhost:8080/"
        },
        "id": "-PVtvEdYybxG",
        "outputId": "8a3b69db-30e1-4683-8c07-82f14b38e566"
      },
      "execution_count": 172,
      "outputs": [
        {
          "output_type": "stream",
          "name": "stdout",
          "text": [
            "{4, 5}\n"
          ]
        }
      ]
    },
    {
      "cell_type": "markdown",
      "source": [
        "#.isdisjoint()\n"
      ],
      "metadata": {
        "id": "7WqNsVITywmQ"
      }
    },
    {
      "cell_type": "code",
      "source": [
        "print(my_set.isdisjoint(your_set)) #\n",
        "\n",
        "my_set = {1,2,3}\n",
        "your_set = {4,5,6,7,8,9,10}\n",
        "\n",
        "print(my_set.isdisjoint(your_set)) # true if nothing in common"
      ],
      "metadata": {
        "colab": {
          "base_uri": "https://localhost:8080/"
        },
        "id": "9R1K2PJDy50E",
        "outputId": "5e24bfc4-cfa4-4874-ab04-31fa80459c59"
      },
      "execution_count": 174,
      "outputs": [
        {
          "output_type": "stream",
          "name": "stdout",
          "text": [
            "False\n",
            "True\n"
          ]
        }
      ]
    },
    {
      "cell_type": "markdown",
      "source": [
        "#.issubset()"
      ],
      "metadata": {
        "id": "w8rLDgbnzJ9w"
      }
    },
    {
      "cell_type": "code",
      "source": [
        "my_set = {4,5}\n",
        "your_set = {4,5,6,7,8,9,10}\n",
        "print(my_set.issubset(your_set)) #its inside of the other set"
      ],
      "metadata": {
        "colab": {
          "base_uri": "https://localhost:8080/"
        },
        "id": "MVWWDWGJzSzP",
        "outputId": "de3a6a71-816c-463e-f21c-86fe1fee3544"
      },
      "execution_count": 178,
      "outputs": [
        {
          "output_type": "stream",
          "name": "stdout",
          "text": [
            "True\n"
          ]
        }
      ]
    },
    {
      "cell_type": "markdown",
      "source": [
        "#.issuperset()\n",
        "\n"
      ],
      "metadata": {
        "id": "NKGq2CuZzY6F"
      }
    },
    {
      "cell_type": "code",
      "source": [
        "my_set = {4,5}\n",
        "your_set = {4,5,6,7,8,9,10}\n",
        "print(my_set.issuperset(your_set))\n",
        "print(your_set.issuperset(my_set))  #many to few\n"
      ],
      "metadata": {
        "colab": {
          "base_uri": "https://localhost:8080/"
        },
        "id": "31dFPh0mz8YM",
        "outputId": "b8cd4093-b023-467c-9fb8-ef34fd6e28cb"
      },
      "execution_count": 181,
      "outputs": [
        {
          "output_type": "stream",
          "name": "stdout",
          "text": [
            "False\n",
            "True\n"
          ]
        }
      ]
    },
    {
      "cell_type": "markdown",
      "source": [
        "#.union()"
      ],
      "metadata": {
        "id": "xw4n6Xjmza5M"
      }
    },
    {
      "cell_type": "code",
      "source": [
        "my_set = {1,2,3,4,5}\n",
        "your_set = {4,5,6,7,8,9,10}\n",
        "print(my_set.union(your_set)) # combines all"
      ],
      "metadata": {
        "colab": {
          "base_uri": "https://localhost:8080/"
        },
        "id": "Rf970OrNzhgF",
        "outputId": "e051a6f0-f93a-496b-fd06-f147eeaf3145"
      },
      "execution_count": 175,
      "outputs": [
        {
          "output_type": "stream",
          "name": "stdout",
          "text": [
            "{1, 2, 3, 4, 5, 6, 7, 8, 9, 10}\n"
          ]
        }
      ]
    },
    {
      "cell_type": "code",
      "source": [
        "my_set = {1,2,3,4,5}\n",
        "your_set = {4,5,6,7,8,9,10}\n",
        "print(my_set | your_set)"
      ],
      "metadata": {
        "colab": {
          "base_uri": "https://localhost:8080/"
        },
        "id": "X3rTmV19zxWD",
        "outputId": "5c4eee78-daae-46ed-ff37-4a9088088bf7"
      },
      "execution_count": 176,
      "outputs": [
        {
          "output_type": "stream",
          "name": "stdout",
          "text": [
            "{1, 2, 3, 4, 5, 6, 7, 8, 9, 10}\n"
          ]
        }
      ]
    }
  ]
}