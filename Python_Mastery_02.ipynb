{
  "nbformat": 4,
  "nbformat_minor": 0,
  "metadata": {
    "colab": {
      "provenance": []
    },
    "kernelspec": {
      "name": "python3",
      "display_name": "Python 3"
    },
    "language_info": {
      "name": "python"
    }
  },
  "cells": [
    {
      "cell_type": "markdown",
      "source": [
        "##Conditional Logic\n",
        "  "
      ],
      "metadata": {
        "id": "O_Egc85f6gLr"
      }
    },
    {
      "cell_type": "code",
      "execution_count": null,
      "metadata": {
        "colab": {
          "base_uri": "https://localhost:8080/"
        },
        "id": "blkW41485YR6",
        "outputId": "27489a9c-30ee-4822-d470-65c9ab7dd633"
      },
      "outputs": [
        {
          "output_type": "stream",
          "name": "stdout",
          "text": [
            "hmm re-check\n",
            "okie\n"
          ]
        }
      ],
      "source": [
        "is_old = False\n",
        "is_licenced = False\n",
        "\n",
        "if is_old:\n",
        "  print(\"you are old enough to drive\")\n",
        "elif is_licenced:\n",
        "  print(\"Valid to drive\")\n",
        "else:\n",
        "  print(\"hmm re-check\")\n",
        "\n",
        "print(\"okie\")"
      ]
    },
    {
      "cell_type": "code",
      "source": [
        "is_old = True\n",
        "is_licenced = True\n",
        "\n",
        "if is_old and is_licenced:\n",
        "  print(\"you are old enough to drive\")\n",
        "else:\n",
        "  print(\"hmm re-check\")\n",
        "\n",
        "print(\"okie\")"
      ],
      "metadata": {
        "colab": {
          "base_uri": "https://localhost:8080/"
        },
        "id": "Rgz64TaaAF9A",
        "outputId": "b7e8a699-7d02-4b01-9e1a-cf686d14a25d"
      },
      "execution_count": null,
      "outputs": [
        {
          "output_type": "stream",
          "name": "stdout",
          "text": [
            "you are old enough to drive\n",
            "okie\n"
          ]
        }
      ]
    },
    {
      "cell_type": "markdown",
      "source": [
        "#Indentation in Python\n",
        "\n",
        "interpreter find the space of each line ofcode\n",
        "space hierarchy"
      ],
      "metadata": {
        "id": "O7f7ACoS_uoK"
      }
    },
    {
      "cell_type": "markdown",
      "source": [
        "#Truthy and Falsy"
      ],
      "metadata": {
        "id": "SG0HLCVzAyOi"
      }
    },
    {
      "cell_type": "code",
      "source": [
        "password = '123'\n",
        "username = 'kim'\n",
        "if password and username:\n",
        "  print(\"good one!\")\n",
        "else:\n",
        "  print(\"hmm re-check\")\n",
        "\n",
        "print(\"okie\")"
      ],
      "metadata": {
        "colab": {
          "base_uri": "https://localhost:8080/"
        },
        "id": "eR_fbScq98xK",
        "outputId": "b49e448f-3e4f-435a-8b7e-da442bdbd7f2"
      },
      "execution_count": null,
      "outputs": [
        {
          "output_type": "stream",
          "name": "stdout",
          "text": [
            "good one!\n",
            "okie\n"
          ]
        }
      ]
    },
    {
      "cell_type": "markdown",
      "source": [
        "#Ternary Operator"
      ],
      "metadata": {
        "id": "asSKdC46En8A"
      }
    },
    {
      "cell_type": "code",
      "source": [
        "#condition_if_true if condition else condition_if_else\n",
        "is_friend = True\n",
        "can_message = \"message allowed\" if is_friend else \"not allowed to message\"\n",
        "print(can_message)"
      ],
      "metadata": {
        "colab": {
          "base_uri": "https://localhost:8080/"
        },
        "id": "uy6KcSg7EyLw",
        "outputId": "b5561d61-4a91-4af7-9363-b003f130f451"
      },
      "execution_count": null,
      "outputs": [
        {
          "output_type": "stream",
          "name": "stdout",
          "text": [
            "message allowed\n"
          ]
        }
      ]
    },
    {
      "cell_type": "markdown",
      "source": [
        "#Short Circuiting"
      ],
      "metadata": {
        "id": "4Tizj1iXFOuh"
      }
    },
    {
      "cell_type": "code",
      "source": [
        "is_friend = True\n",
        "is_user = True\n",
        "\n",
        "if is_friend or is_user:\n",
        "  print(\"best friends\")"
      ],
      "metadata": {
        "colab": {
          "base_uri": "https://localhost:8080/"
        },
        "id": "FoMtN0VeGGcY",
        "outputId": "70ea359e-89d8-4b8b-ff21-8cdaaebb2470"
      },
      "execution_count": null,
      "outputs": [
        {
          "output_type": "stream",
          "name": "stdout",
          "text": [
            "best friends\n"
          ]
        }
      ]
    },
    {
      "cell_type": "markdown",
      "source": [
        "#Logical Operator\n",
        "#>  <  == != and or not\n"
      ],
      "metadata": {
        "id": "sruoujdSGNrP"
      }
    },
    {
      "cell_type": "code",
      "source": [
        "print('a' == 'hello')\n",
        "print(4<5)\n",
        "print(4>5)\n",
        "print('a'>'A') #???\n",
        "print(4 != 5)\n",
        "print(not(1 == 1))\n"
      ],
      "metadata": {
        "colab": {
          "base_uri": "https://localhost:8080/"
        },
        "id": "FAfwQvalGQ3w",
        "outputId": "8e8b8a48-fe25-42a8-c2a3-40f75ea45347"
      },
      "execution_count": null,
      "outputs": [
        {
          "output_type": "stream",
          "name": "stdout",
          "text": [
            "False\n",
            "True\n",
            "False\n",
            "True\n",
            "True\n",
            "False\n"
          ]
        }
      ]
    },
    {
      "cell_type": "markdown",
      "source": [
        "#Excercise Logical Operator"
      ],
      "metadata": {
        "id": "aDMw-RfAGzFI"
      }
    },
    {
      "cell_type": "code",
      "source": [
        "is_magician = False\n",
        "is_expert =  True\n",
        "\n",
        "#check if magician and expert: \"you are a magician\"\n",
        "if is_expert and is_magician:\n",
        "  print(\"you are a magician\")\n",
        "\n",
        "#check if magician but not expert: \"at least you're getting there\"\n",
        "elif not(is_expert) or is_magician:\n",
        "  print(\"at least you're getting there\")\n",
        "\n",
        "#if you're not a magician \"you need magic powers\"\n",
        "elif is_expert or not(is_magician):\n",
        "  print(\"you need magic powers\")\n"
      ],
      "metadata": {
        "colab": {
          "base_uri": "https://localhost:8080/"
        },
        "id": "9PXjlsTTG6sb",
        "outputId": "b38d8a08-4cb6-4f6d-93fc-6d18bce2b737"
      },
      "execution_count": null,
      "outputs": [
        {
          "output_type": "stream",
          "name": "stdout",
          "text": [
            "you need magic powers\n"
          ]
        }
      ]
    },
    {
      "cell_type": "markdown",
      "source": [
        "#is vs =="
      ],
      "metadata": {
        "id": "9bkthIbhN5vP"
      }
    },
    {
      "cell_type": "code",
      "source": [
        "print(True ==1) # 1 is true\n",
        "print('' == 1) #type error\n",
        "print([] == 1) # empty array or list\n",
        "print(10 == 10.0)\n",
        "print([] == [])\n",
        "\n",
        "#== #equality\n"
      ],
      "metadata": {
        "colab": {
          "base_uri": "https://localhost:8080/"
        },
        "id": "_z_19H_wN7--",
        "outputId": "f5a9ba2d-59e0-49e2-86af-db2202e5a5b4"
      },
      "execution_count": null,
      "outputs": [
        {
          "output_type": "stream",
          "name": "stdout",
          "text": [
            "True\n",
            "False\n",
            "False\n",
            "True\n",
            "True\n"
          ]
        }
      ]
    },
    {
      "cell_type": "code",
      "source": [
        "#is check the loaction and memory are the same\n",
        "print(True is True)\n",
        "print('1' is '1')\n",
        "print('1' is 1)\n",
        "print([] is [])\n",
        "print(10 is 10.0)\n",
        "print([1,2,3] is [1,2,3]) #data structure with new location\n",
        "a = [1,2,3]\n",
        "b = [1,2,3]\n",
        "print(a is b)"
      ],
      "metadata": {
        "colab": {
          "base_uri": "https://localhost:8080/"
        },
        "id": "9u0xDassQMcG",
        "outputId": "31ac1cf3-946f-4909-fdf0-165a7219e16f"
      },
      "execution_count": null,
      "outputs": [
        {
          "output_type": "stream",
          "name": "stdout",
          "text": [
            "True\n",
            "True\n",
            "False\n",
            "False\n",
            "False\n",
            "False\n",
            "False\n"
          ]
        },
        {
          "output_type": "stream",
          "name": "stderr",
          "text": [
            "<>:3: SyntaxWarning: \"is\" with a literal. Did you mean \"==\"?\n",
            "<>:4: SyntaxWarning: \"is\" with a literal. Did you mean \"==\"?\n",
            "<>:6: SyntaxWarning: \"is\" with a literal. Did you mean \"==\"?\n",
            "<>:3: SyntaxWarning: \"is\" with a literal. Did you mean \"==\"?\n",
            "<>:4: SyntaxWarning: \"is\" with a literal. Did you mean \"==\"?\n",
            "<>:6: SyntaxWarning: \"is\" with a literal. Did you mean \"==\"?\n",
            "<ipython-input-9-25cbb2fb40cc>:3: SyntaxWarning: \"is\" with a literal. Did you mean \"==\"?\n",
            "  print('1' is '1')\n",
            "<ipython-input-9-25cbb2fb40cc>:4: SyntaxWarning: \"is\" with a literal. Did you mean \"==\"?\n",
            "  print('1' is 1)\n",
            "<ipython-input-9-25cbb2fb40cc>:6: SyntaxWarning: \"is\" with a literal. Did you mean \"==\"?\n",
            "  print(10 is 10.0)\n"
          ]
        }
      ]
    },
    {
      "cell_type": "markdown",
      "source": [
        "#For loops"
      ],
      "metadata": {
        "id": "YedAL3LTN9cX"
      }
    },
    {
      "cell_type": "code",
      "source": [
        "#String\n",
        "for item in 'Zero':  #'Zero' iterable iterate each item\n",
        "  print(item)"
      ],
      "metadata": {
        "colab": {
          "base_uri": "https://localhost:8080/"
        },
        "id": "EG7LwCaNOA2e",
        "outputId": "53e0c1a9-e592-4dc6-f7f1-fa9acc6f7e20"
      },
      "execution_count": null,
      "outputs": [
        {
          "output_type": "stream",
          "name": "stdout",
          "text": [
            "Z\n",
            "e\n",
            "r\n",
            "o\n"
          ]
        }
      ]
    },
    {
      "cell_type": "code",
      "source": [
        "#List\n",
        "for item in [1,2,3,4]:  #[] iterable iterate each item\n",
        "  print(item)"
      ],
      "metadata": {
        "colab": {
          "base_uri": "https://localhost:8080/"
        },
        "id": "fbLV8xeGRrSO",
        "outputId": "277a8477-4825-4c31-df5f-033839d6cb95"
      },
      "execution_count": null,
      "outputs": [
        {
          "output_type": "stream",
          "name": "stdout",
          "text": [
            "1\n",
            "2\n",
            "3\n",
            "4\n"
          ]
        }
      ]
    },
    {
      "cell_type": "code",
      "source": [
        "#Set\n",
        "for item in {1,2,3,4}:  #{} iterable iterate each item\n",
        "  print(item)\n"
      ],
      "metadata": {
        "colab": {
          "base_uri": "https://localhost:8080/"
        },
        "id": "iXmP_mTUR2MX",
        "outputId": "04137566-e86e-424f-88ec-058004f536ca"
      },
      "execution_count": null,
      "outputs": [
        {
          "output_type": "stream",
          "name": "stdout",
          "text": [
            "1\n",
            "2\n",
            "3\n",
            "4\n"
          ]
        }
      ]
    },
    {
      "cell_type": "code",
      "source": [
        "#Tuple\n",
        "for item in (1,2,3,4):  #() iterable iterate each item\n",
        "  print(item)\n",
        "print(item) # throw the last number\n"
      ],
      "metadata": {
        "colab": {
          "base_uri": "https://localhost:8080/"
        },
        "id": "RsVoWyZSR8c_",
        "outputId": "4056c7c3-84b6-43f1-dd82-c1aaee851869"
      },
      "execution_count": null,
      "outputs": [
        {
          "output_type": "stream",
          "name": "stdout",
          "text": [
            "1\n",
            "2\n",
            "3\n",
            "4\n",
            "4\n"
          ]
        }
      ]
    },
    {
      "cell_type": "code",
      "source": [
        "#nested\n",
        "for item in (1,2):  #() iterable iterate each item\n",
        "  for x in ['a', 'b', 'c']:\n",
        "    print(item, x)\n"
      ],
      "metadata": {
        "colab": {
          "base_uri": "https://localhost:8080/"
        },
        "id": "GflSqd83S5E-",
        "outputId": "23c2d9c0-686a-4026-aa68-804758df0bf0"
      },
      "execution_count": null,
      "outputs": [
        {
          "output_type": "stream",
          "name": "stdout",
          "text": [
            "1 a\n",
            "1 b\n",
            "1 c\n",
            "2 a\n",
            "2 b\n",
            "2 c\n"
          ]
        }
      ]
    },
    {
      "cell_type": "markdown",
      "source": [
        "#Iterables\n",
        "  iterable iterate each item\n",
        "  iterable: list, dictionary, tuple, set\n",
        "  #iterated -> one by one check each item in the collection."
      ],
      "metadata": {
        "id": "qO-30NpjOJnG"
      }
    },
    {
      "cell_type": "code",
      "source": [
        "#dictionary\n",
        "users = {\n",
        "    'name': 'Golem',\n",
        "    'age': 5006,\n",
        "    'can_swim': False\n",
        "}"
      ],
      "metadata": {
        "id": "-yPoWKdNONpH"
      },
      "execution_count": null,
      "outputs": []
    },
    {
      "cell_type": "code",
      "source": [
        "#.items()\n",
        "for item in users.items():\n",
        "  print(item)"
      ],
      "metadata": {
        "colab": {
          "base_uri": "https://localhost:8080/"
        },
        "id": "oXIhPCdHUybX",
        "outputId": "ab0d09b1-d572-4df4-8ad0-71ebcff470d4"
      },
      "execution_count": null,
      "outputs": [
        {
          "output_type": "stream",
          "name": "stdout",
          "text": [
            "('name', 'Golem')\n",
            "('age', 5006)\n",
            "('can_swim', False)\n"
          ]
        }
      ]
    },
    {
      "cell_type": "code",
      "source": [
        "for item in users.items():\n",
        "  key, value = item;\n",
        "  print(key, value)"
      ],
      "metadata": {
        "colab": {
          "base_uri": "https://localhost:8080/"
        },
        "id": "I4JjmbGRVHYV",
        "outputId": "25e43d5d-a944-4fc8-f2c2-843917de4912"
      },
      "execution_count": null,
      "outputs": [
        {
          "output_type": "stream",
          "name": "stdout",
          "text": [
            "name Golem\n",
            "age 5006\n",
            "can_swim False\n"
          ]
        }
      ]
    },
    {
      "cell_type": "code",
      "source": [
        "for key, value in users.items():\n",
        "  print(key, value)"
      ],
      "metadata": {
        "colab": {
          "base_uri": "https://localhost:8080/"
        },
        "id": "dKQSKZBEVVsG",
        "outputId": "383e8fbd-eb95-4387-d853-de9d93436d23"
      },
      "execution_count": null,
      "outputs": [
        {
          "output_type": "stream",
          "name": "stdout",
          "text": [
            "name Golem\n",
            "age 5006\n",
            "can_swim False\n"
          ]
        }
      ]
    },
    {
      "cell_type": "code",
      "source": [
        "#.values()\n",
        "for item in users.values():\n",
        "  print(item)"
      ],
      "metadata": {
        "colab": {
          "base_uri": "https://localhost:8080/"
        },
        "id": "W3PTfH9uUjRG",
        "outputId": "f8e9d4a2-3cf6-4258-da9b-15b5bca79584"
      },
      "execution_count": null,
      "outputs": [
        {
          "output_type": "stream",
          "name": "stdout",
          "text": [
            "Golem\n",
            "5006\n",
            "False\n"
          ]
        }
      ]
    },
    {
      "cell_type": "code",
      "source": [
        "#.keys()\n",
        "for item in users.keys():\n",
        "  print(item)"
      ],
      "metadata": {
        "colab": {
          "base_uri": "https://localhost:8080/"
        },
        "id": "sMYwxqwAUple",
        "outputId": "fdc04ab9-bfe0-4ca8-b981-176e577fe728"
      },
      "execution_count": null,
      "outputs": [
        {
          "output_type": "stream",
          "name": "stdout",
          "text": [
            "name\n",
            "age\n",
            "can_swim\n"
          ]
        }
      ]
    },
    {
      "cell_type": "markdown",
      "source": [
        "#Excercise: Tricky Counter"
      ],
      "metadata": {
        "id": "40fk2vUgOOSn"
      }
    },
    {
      "cell_type": "code",
      "source": [
        "#counter\n",
        "my_list = [1,2,3,4,5]\n",
        "\n",
        "counter = 0\n",
        "for item in my_list:\n",
        "  counter = counter + item\n",
        "  print(counter)"
      ],
      "metadata": {
        "colab": {
          "base_uri": "https://localhost:8080/"
        },
        "id": "GViMUM1SOVDn",
        "outputId": "e406f242-20a9-46b2-a876-0690d13468ce"
      },
      "execution_count": null,
      "outputs": [
        {
          "output_type": "stream",
          "name": "stdout",
          "text": [
            "1\n",
            "3\n",
            "6\n",
            "10\n",
            "15\n"
          ]
        }
      ]
    },
    {
      "cell_type": "markdown",
      "source": [
        "#range()"
      ],
      "metadata": {
        "id": "mP6-YtCxOVe_"
      }
    },
    {
      "cell_type": "code",
      "source": [
        "print(range(10))\n",
        "for number in range(0,5):\n",
        "  print(number)"
      ],
      "metadata": {
        "colab": {
          "base_uri": "https://localhost:8080/"
        },
        "id": "B0JxylDBOXzX",
        "outputId": "a44e4e5f-455f-4249-b4ef-99ac1d675f7e"
      },
      "execution_count": null,
      "outputs": [
        {
          "output_type": "stream",
          "name": "stdout",
          "text": [
            "range(0, 10)\n",
            "0\n",
            "1\n",
            "2\n",
            "3\n",
            "4\n"
          ]
        }
      ]
    },
    {
      "cell_type": "code",
      "source": [
        "for number in range(0,10,2): # 2 stopover\n",
        "  print(number)"
      ],
      "metadata": {
        "colab": {
          "base_uri": "https://localhost:8080/"
        },
        "id": "at4sgnq9aKNE",
        "outputId": "4970b3c7-3f29-4d48-8d33-6f9bec04698e"
      },
      "execution_count": null,
      "outputs": [
        {
          "output_type": "stream",
          "name": "stdout",
          "text": [
            "0\n",
            "2\n",
            "4\n",
            "6\n",
            "8\n"
          ]
        }
      ]
    },
    {
      "cell_type": "code",
      "source": [
        "for number in range(10,0,-2): # -2 stopover\n",
        "  print(number)"
      ],
      "metadata": {
        "colab": {
          "base_uri": "https://localhost:8080/"
        },
        "id": "6rxd2PNbaY4E",
        "outputId": "a43b73a6-d443-4bd6-f97c-47fb8f630d72"
      },
      "execution_count": null,
      "outputs": [
        {
          "output_type": "stream",
          "name": "stdout",
          "text": [
            "10\n",
            "8\n",
            "6\n",
            "4\n",
            "2\n"
          ]
        }
      ]
    },
    {
      "cell_type": "code",
      "source": [
        "for number in range(2):\n",
        "  print(list(range(10)))"
      ],
      "metadata": {
        "colab": {
          "base_uri": "https://localhost:8080/"
        },
        "id": "IzxerU0Ea7sd",
        "outputId": "7d400ae4-25cd-4aa5-fa63-2a60deb7e5fc"
      },
      "execution_count": null,
      "outputs": [
        {
          "output_type": "stream",
          "name": "stdout",
          "text": [
            "[0, 1, 2, 3, 4, 5, 6, 7, 8, 9]\n",
            "[0, 1, 2, 3, 4, 5, 6, 7, 8, 9]\n"
          ]
        }
      ]
    },
    {
      "cell_type": "markdown",
      "source": [
        "#enumerate()"
      ],
      "metadata": {
        "id": "IIsE-SvTOaXe"
      }
    },
    {
      "cell_type": "code",
      "source": [
        "for i,char in enumerate('hi-five'): #it throws the index of each item\n",
        "  print(i,char)"
      ],
      "metadata": {
        "colab": {
          "base_uri": "https://localhost:8080/"
        },
        "id": "c0DiQoDPOhEH",
        "outputId": "19020e7a-3918-495e-c4f5-13a74442c2e3"
      },
      "execution_count": null,
      "outputs": [
        {
          "output_type": "stream",
          "name": "stdout",
          "text": [
            "0 h\n",
            "1 i\n",
            "2 -\n",
            "3 f\n",
            "4 i\n",
            "5 v\n",
            "6 e\n"
          ]
        }
      ]
    },
    {
      "cell_type": "code",
      "source": [
        "for i,char in enumerate(list(range(100))):\n",
        "  if char == 50:\n",
        "    print(f\"index of:  {i}\")"
      ],
      "metadata": {
        "colab": {
          "base_uri": "https://localhost:8080/"
        },
        "id": "4S4Y4IIFb3dn",
        "outputId": "28cf8731-b8b5-4ef1-9759-ae007e4c8ca2"
      },
      "execution_count": null,
      "outputs": [
        {
          "output_type": "stream",
          "name": "stdout",
          "text": [
            "index of:  50\n"
          ]
        }
      ]
    },
    {
      "cell_type": "markdown",
      "source": [
        "#While loop"
      ],
      "metadata": {
        "id": "qn16CdP0OhhO"
      }
    },
    {
      "cell_type": "code",
      "source": [
        "i = 0\n",
        "while i < 10:\n",
        "  print(i)\n",
        "  break"
      ],
      "metadata": {
        "colab": {
          "base_uri": "https://localhost:8080/"
        },
        "id": "fT63tkmKOknP",
        "outputId": "6f58398b-29be-4384-ba03-11c8fb4eb21e"
      },
      "execution_count": null,
      "outputs": [
        {
          "output_type": "stream",
          "name": "stdout",
          "text": [
            "0\n"
          ]
        }
      ]
    },
    {
      "cell_type": "code",
      "source": [
        "i = 0\n",
        "while i < 5:\n",
        "  print(i)\n",
        "  #i = i + 1\n",
        "  i+=1\n"
      ],
      "metadata": {
        "colab": {
          "base_uri": "https://localhost:8080/"
        },
        "id": "oUxScavkdNiE",
        "outputId": "5100bf62-f917-48c7-c38c-1f14b8e6c653"
      },
      "execution_count": null,
      "outputs": [
        {
          "output_type": "stream",
          "name": "stdout",
          "text": [
            "0\n",
            "1\n",
            "2\n",
            "3\n",
            "4\n"
          ]
        }
      ]
    },
    {
      "cell_type": "code",
      "source": [
        "i = 0\n",
        "while i < 5:\n",
        "  print(i)\n",
        "  #i = i + 1\n",
        "  i+=1\n",
        "  #break <~~else wont work\n",
        "else:\n",
        "  print(\"done with all the work\")"
      ],
      "metadata": {
        "colab": {
          "base_uri": "https://localhost:8080/"
        },
        "id": "LdoVPsdCdZyG",
        "outputId": "b67eb209-989e-46f9-8e5e-7b820f238092"
      },
      "execution_count": null,
      "outputs": [
        {
          "output_type": "stream",
          "name": "stdout",
          "text": [
            "0\n",
            "1\n",
            "2\n",
            "3\n",
            "4\n",
            "done with all the work\n"
          ]
        }
      ]
    },
    {
      "cell_type": "markdown",
      "source": [
        "#While Loop 2"
      ],
      "metadata": {
        "id": "9MMShIgmOlYH"
      }
    },
    {
      "cell_type": "code",
      "source": [
        "print(\"for loop\")\n",
        "for item in [1,2,3]:\n",
        "  print(item)\n",
        "\n",
        "\n",
        "print(\"while loop\")\n",
        "i = 0\n",
        "while i < len([4,5,6]):\n",
        "  print(i)\n",
        "  i+=1"
      ],
      "metadata": {
        "colab": {
          "base_uri": "https://localhost:8080/"
        },
        "id": "gO15RUP7Ooiv",
        "outputId": "91608658-0482-4e0c-ff0b-4191357b8603"
      },
      "execution_count": null,
      "outputs": [
        {
          "output_type": "stream",
          "name": "stdout",
          "text": [
            "for loop\n",
            "1\n",
            "2\n",
            "3\n",
            "while loop\n",
            "0\n",
            "1\n",
            "2\n"
          ]
        }
      ]
    },
    {
      "cell_type": "code",
      "source": [
        "#while is for conditional logic\n",
        "while True:\n",
        "  response = input(\"say something \")\n",
        "  if (response == 'bye'):\n",
        "    break"
      ],
      "metadata": {
        "colab": {
          "base_uri": "https://localhost:8080/"
        },
        "id": "h3S5QQdteseE",
        "outputId": "bd0ec08e-b3c5-4196-da38-35903fcf72c8"
      },
      "execution_count": null,
      "outputs": [
        {
          "name": "stdout",
          "output_type": "stream",
          "text": [
            "say something bye\n"
          ]
        }
      ]
    },
    {
      "cell_type": "markdown",
      "source": [
        "#break, continue, pass"
      ],
      "metadata": {
        "id": "RZrOmQ_5OpPG"
      }
    },
    {
      "cell_type": "code",
      "source": [
        "#break ~ broke or exits it\n",
        "#continue ~ going back to the top or for loop\n",
        "for item in [1,2,3]:\n",
        "  print(item)\n",
        "  continue  #going back to the for loop\n",
        "  print(item) #by pass"
      ],
      "metadata": {
        "colab": {
          "base_uri": "https://localhost:8080/"
        },
        "id": "ykr2SlRuOulO",
        "outputId": "f18c6113-e257-4658-faf7-9c5df275da89"
      },
      "execution_count": null,
      "outputs": [
        {
          "output_type": "stream",
          "name": "stdout",
          "text": [
            "1\n",
            "2\n",
            "3\n"
          ]
        }
      ]
    },
    {
      "cell_type": "code",
      "source": [
        "#pass it passes to the next line\n",
        "for item in [1,2,3]:\n",
        "  print(item)\n",
        "  pass  #for thinking\n",
        "  print(item)"
      ],
      "metadata": {
        "colab": {
          "base_uri": "https://localhost:8080/"
        },
        "id": "9NmWD5hjgmdT",
        "outputId": "5660c589-fec8-4e1d-8d8b-d99370410bc5"
      },
      "execution_count": null,
      "outputs": [
        {
          "output_type": "stream",
          "name": "stdout",
          "text": [
            "1\n",
            "1\n",
            "2\n",
            "2\n",
            "3\n",
            "3\n"
          ]
        }
      ]
    },
    {
      "cell_type": "code",
      "source": [
        "for item in [1,2,3]:\n",
        "  pass # do nothing"
      ],
      "metadata": {
        "id": "kGYgFUeWg4kb"
      },
      "execution_count": null,
      "outputs": []
    },
    {
      "cell_type": "markdown",
      "source": [
        "#Our First GUI"
      ],
      "metadata": {
        "id": "QDuSkGSnOvQX"
      }
    },
    {
      "cell_type": "code",
      "source": [
        "#Excercise!!!\n",
        "picture = [\n",
        "    [0,0,0,1,0,0,0],\n",
        "    [0,0,1,1,1,0,0],\n",
        "    [0,1,1,1,1,1,0],\n",
        "    [1,1,1,1,1,1,1],\n",
        "    [0,0,0,1,0,0,0],\n",
        "    [0,0,0,1,0,0,0]\n",
        "]"
      ],
      "metadata": {
        "id": "tfH96M2jOzVO"
      },
      "execution_count": null,
      "outputs": []
    },
    {
      "cell_type": "code",
      "source": [
        "for row in picture:\n",
        "  for pxl in row:\n",
        "      if pxl == 1:\n",
        "        print(\"*\",end=\"\") #end õption to change the (\\n)next line\n",
        "      else:\n",
        "        print(\" \",end=\"\")\n",
        "  print(\"\")  #default new line"
      ],
      "metadata": {
        "colab": {
          "base_uri": "https://localhost:8080/"
        },
        "id": "3VBND864hpYL",
        "outputId": "c5c564b3-4df8-40fb-c29e-9c836630475d"
      },
      "execution_count": null,
      "outputs": [
        {
          "output_type": "stream",
          "name": "stdout",
          "text": [
            "   *   \n",
            "  ***  \n",
            " ***** \n",
            "*******\n",
            "   *   \n",
            "   *   \n"
          ]
        }
      ]
    },
    {
      "cell_type": "markdown",
      "source": [
        "#Developer Fundamentals 4\n",
        "  #a. (clean) make your code is clean\n",
        "  #b. (readability) make your code eazy to understand\n",
        "  #c. predicatable\n",
        "  #d. DRY ~don't repeat yourself (use function)\n"
      ],
      "metadata": {
        "id": "60BzpGRUOzuP"
      }
    },
    {
      "cell_type": "code",
      "source": [
        "fill = '*' #for multiple lines\n",
        "empty = ' ' #for multiple lines\n",
        "for row in picture:\n",
        "  for pxl in row:\n",
        "      if pxl: # default is 1\n",
        "        print(fill,end=\"\") #end õption to change the (\\n)next line\n",
        "      else:\n",
        "        print(empty,end=\"\")\n",
        "  print(\"\")  #default new line"
      ],
      "metadata": {
        "colab": {
          "base_uri": "https://localhost:8080/"
        },
        "id": "tFX9zAVPkzws",
        "outputId": "8f9c1c91-1d98-416f-db39-41c72171e075"
      },
      "execution_count": null,
      "outputs": [
        {
          "output_type": "stream",
          "name": "stdout",
          "text": [
            "   *   \n",
            "  ***  \n",
            " ***** \n",
            "*******\n",
            "   *   \n",
            "   *   \n"
          ]
        }
      ]
    },
    {
      "cell_type": "markdown",
      "source": [
        "#Excercise Find Duplicate"
      ],
      "metadata": {
        "id": "xGJpuAn5O78H"
      }
    },
    {
      "cell_type": "code",
      "source": [
        "#Excercise: Check for duplicate in list:\n",
        "some_list = ['a', 'b', 'c', 'b', 'd', 'm', 'n', 'n']\n",
        "\n",
        "duplicates = []\n",
        "for value in some_list:\n",
        "  if some_list.count(value) > 1:\n",
        "    if value not in duplicates:\n",
        "       duplicates.append(value)\n",
        "print(duplicates)\n"
      ],
      "metadata": {
        "colab": {
          "base_uri": "https://localhost:8080/"
        },
        "id": "WVzO49hlO7Tu",
        "outputId": "e34425be-37d2-4827-c4bd-31e1a946244b"
      },
      "execution_count": null,
      "outputs": [
        {
          "output_type": "stream",
          "name": "stdout",
          "text": [
            "['b', 'n']\n"
          ]
        }
      ]
    },
    {
      "cell_type": "markdown",
      "source": [
        "##Functions"
      ],
      "metadata": {
        "id": "KFkeEonqFCN9"
      }
    },
    {
      "cell_type": "code",
      "source": [
        "#DRY ~Dont repeat yourself\n",
        "# def ~ define (functions)\n",
        "def say_hello():\n",
        "  print(\"helloooo\")\n",
        "say_hello()"
      ],
      "metadata": {
        "colab": {
          "base_uri": "https://localhost:8080/"
        },
        "id": "QPXjmrUWFFCO",
        "outputId": "eb5bdb8a-7566-4466-e4a5-5854be161adb"
      },
      "execution_count": null,
      "outputs": [
        {
          "output_type": "stream",
          "name": "stdout",
          "text": [
            "helloooo\n"
          ]
        }
      ]
    },
    {
      "cell_type": "code",
      "source": [
        "def show_tree():\n",
        "  for row in picture:\n",
        "    for pxl in row:\n",
        "        if pxl == 1:\n",
        "          print(\"*\",end=\"\") #end õption to change the (\\n)next line\n",
        "        else:\n",
        "          print(\" \",end=\"\")\n",
        "    print(\"\")  #default new line\n",
        "\n",
        "\n",
        "show_tree()\n",
        "show_tree()\n"
      ],
      "metadata": {
        "colab": {
          "base_uri": "https://localhost:8080/"
        },
        "id": "uPeK5xGbGPyk",
        "outputId": "1d10b75e-d09d-4b9b-f915-19c00821f2e8"
      },
      "execution_count": null,
      "outputs": [
        {
          "output_type": "stream",
          "name": "stdout",
          "text": [
            "   *   \n",
            "  ***  \n",
            " ***** \n",
            "*******\n",
            "   *   \n",
            "   *   \n",
            "   *   \n",
            "  ***  \n",
            " ***** \n",
            "*******\n",
            "   *   \n",
            "   *   \n"
          ]
        }
      ]
    },
    {
      "cell_type": "markdown",
      "source": [
        "##Parameter and Agruments"
      ],
      "metadata": {
        "id": "jDQwa9TlHZgY"
      }
    },
    {
      "cell_type": "code",
      "source": [
        "#parameters\n",
        "def say_hello(name, emoji):\n",
        "  print(f\"hellooo {name} {emoji}\")\n",
        "\n",
        "#arguments\n",
        "say_hello(\"kim\", \":D\") #call #invoke"
      ],
      "metadata": {
        "colab": {
          "base_uri": "https://localhost:8080/"
        },
        "id": "rD_FzYHTHcns",
        "outputId": "784deb7a-bdc7-4e94-cb64-8f60c6cc6cf2"
      },
      "execution_count": null,
      "outputs": [
        {
          "output_type": "stream",
          "name": "stdout",
          "text": [
            "hellooo kim :D\n"
          ]
        }
      ]
    },
    {
      "cell_type": "markdown",
      "source": [
        "##Default Parameters and Key Argruments"
      ],
      "metadata": {
        "id": "rzqR24tDHeIN"
      }
    },
    {
      "cell_type": "code",
      "source": [
        "#parameters\n",
        "def say_hello(name, emoji):\n",
        "  print(f\"hellooo {name} {emoji}\")\n",
        "\n",
        "#position arguments ~ values in proper position\n",
        "say_hello(\"kim\", \":D\") #call #invoke\n",
        "\n",
        "#keyword arguments ~ tell explicitly\n",
        "say_hello(name=\"kim\", emoji=\":D\")\n"
      ],
      "metadata": {
        "colab": {
          "base_uri": "https://localhost:8080/"
        },
        "id": "_3dZKOUtHkoQ",
        "outputId": "f9ec4646-99f0-40c9-bb05-bc0ec93d2ab4"
      },
      "execution_count": null,
      "outputs": [
        {
          "output_type": "stream",
          "name": "stdout",
          "text": [
            "hellooo kim :D\n",
            "hellooo kim :D\n"
          ]
        }
      ]
    },
    {
      "cell_type": "code",
      "source": [
        "#Default parameters ~default prompt up when no parameter ir blank\n",
        "def say_hello(name = 'Dark Vader', emoji = ':P'):\n",
        "  print(f\"hellooo {name} {emoji}\")\n"
      ],
      "metadata": {
        "id": "fE_Xu3mEklFa"
      },
      "execution_count": null,
      "outputs": []
    },
    {
      "cell_type": "markdown",
      "source": [
        "##return"
      ],
      "metadata": {
        "id": "i0x9tKpiHqJp"
      }
    },
    {
      "cell_type": "code",
      "source": [
        "#should do one thing really well\n",
        "#should return soemthing.\n",
        "def sumed(num1, num2):\n",
        "  print(f\"The ans: {num1 + num2}\")\n",
        "  total = num1 + num2\n",
        "  return total # provide value from a modify value\n",
        "\n",
        "sumed(4,5)"
      ],
      "metadata": {
        "colab": {
          "base_uri": "https://localhost:8080/"
        },
        "id": "KEBwTqlzkhdE",
        "outputId": "cb6676da-6e37-41e6-a51d-a57bae720d9d"
      },
      "execution_count": null,
      "outputs": [
        {
          "output_type": "stream",
          "name": "stdout",
          "text": [
            "The ans: 9\n"
          ]
        },
        {
          "output_type": "execute_result",
          "data": {
            "text/plain": [
              "9"
            ]
          },
          "metadata": {},
          "execution_count": 45
        }
      ]
    },
    {
      "cell_type": "code",
      "source": [
        "def sumed(num1, num2):\n",
        "  def another_func(n1, n2):\n",
        "    return num1 + num2\n",
        "  return another_func(num1, num2) #return keyword automatically exit the function\n",
        "total = sumed(10,20)\n",
        "print(total)"
      ],
      "metadata": {
        "colab": {
          "base_uri": "https://localhost:8080/"
        },
        "id": "UlvJZyHvrsHV",
        "outputId": "d2079c33-1086-4a29-b781-0d67c483739e"
      },
      "execution_count": null,
      "outputs": [
        {
          "output_type": "stream",
          "name": "stdout",
          "text": [
            "30\n"
          ]
        }
      ]
    },
    {
      "cell_type": "markdown",
      "source": [
        "##Methods vs Functions"
      ],
      "metadata": {
        "id": "xfx9O-gtHz9U"
      }
    },
    {
      "cell_type": "code",
      "source": [
        "#functions\n",
        "#list()\n",
        "#print()\n",
        "#max()\n",
        "#min()\n",
        "#input()\n",
        "def some_random_stuff():\n",
        "   pass\n",
        "some_random_stuff"
      ],
      "metadata": {
        "id": "SXowO15GH5KP",
        "colab": {
          "base_uri": "https://localhost:8080/"
        },
        "outputId": "aaf56e50-2e77-4d7f-b1cc-6b7d7575cc2f"
      },
      "execution_count": null,
      "outputs": [
        {
          "output_type": "execute_result",
          "data": {
            "text/plain": [
              "<function __main__.some_random_stuff()>"
            ]
          },
          "metadata": {},
          "execution_count": 47
        }
      ]
    },
    {
      "cell_type": "code",
      "source": [
        "#methods\n",
        "#must be own by something\n",
        "#when dot was typed\n",
        "\"hello\".capitalize()"
      ],
      "metadata": {
        "colab": {
          "base_uri": "https://localhost:8080/",
          "height": 35
        },
        "id": "7DUVhQvovSs4",
        "outputId": "d37a482a-c106-4116-f80c-4ea80c1e758d"
      },
      "execution_count": null,
      "outputs": [
        {
          "output_type": "execute_result",
          "data": {
            "text/plain": [
              "'Hello'"
            ],
            "application/vnd.google.colaboratory.intrinsic+json": {
              "type": "string"
            }
          },
          "metadata": {},
          "execution_count": 48
        }
      ]
    },
    {
      "cell_type": "markdown",
      "source": [
        "##Docstrings"
      ],
      "metadata": {
        "id": "4TS5SXKTH8dE"
      }
    },
    {
      "cell_type": "code",
      "source": [
        "def test(a):\n",
        "  #doc string start these are info\n",
        "  '''\n",
        "  Info this function test and prints param a\n",
        "  '''\n",
        "  #doc string end\n",
        "  print(a)\n",
        "test('!!!!')\n",
        "help(test) # show how the function does\n",
        "print(test.__doc__) # show how the function does"
      ],
      "metadata": {
        "id": "u8nTBrwBIAsi",
        "colab": {
          "base_uri": "https://localhost:8080/"
        },
        "outputId": "b0d723a9-fc87-4161-9989-b4769c119638"
      },
      "execution_count": null,
      "outputs": [
        {
          "output_type": "stream",
          "name": "stdout",
          "text": [
            "!!!!\n",
            "Help on function test in module __main__:\n",
            "\n",
            "test(a)\n",
            "    Info this function test and prints param a\n",
            "\n",
            "     \n",
            "  Info this function test and prints param a\n",
            "  \n"
          ]
        }
      ]
    },
    {
      "cell_type": "markdown",
      "source": [
        "##Clean Code"
      ],
      "metadata": {
        "id": "x8EgbE6jgFwe"
      }
    },
    {
      "cell_type": "code",
      "source": [
        "def is_even(num):\n",
        "  if num % 2 == 0:\n",
        "    return True\n",
        "  elif num % 2 != 0:\n",
        "    return False\n",
        "print(is_even(51))"
      ],
      "metadata": {
        "colab": {
          "base_uri": "https://localhost:8080/"
        },
        "id": "pJU9oRSF1xDU",
        "outputId": "dd6db11e-ed40-4f07-e300-93cffcc33b58"
      },
      "execution_count": null,
      "outputs": [
        {
          "output_type": "stream",
          "name": "stdout",
          "text": [
            "False\n"
          ]
        }
      ]
    },
    {
      "cell_type": "code",
      "source": [
        "def is_even(num):\n",
        "  if num % 2 == 0:\n",
        "    return True\n",
        "  return False\n",
        "print(is_even(51))"
      ],
      "metadata": {
        "id": "DmH9FRFpgGJn",
        "colab": {
          "base_uri": "https://localhost:8080/"
        },
        "outputId": "3a50ae0f-820c-42a3-e558-6e507e547049"
      },
      "execution_count": null,
      "outputs": [
        {
          "output_type": "stream",
          "name": "stdout",
          "text": [
            "False\n"
          ]
        }
      ]
    },
    {
      "cell_type": "code",
      "source": [
        "def is_even(num):\n",
        "  return num % 2 == 0\n",
        "\n",
        "print(is_even(51))"
      ],
      "metadata": {
        "colab": {
          "base_uri": "https://localhost:8080/"
        },
        "id": "nHAPWNwV2AtG",
        "outputId": "7495d174-02b4-4884-db9b-136c25bbb215"
      },
      "execution_count": null,
      "outputs": [
        {
          "output_type": "stream",
          "name": "stdout",
          "text": [
            "False\n"
          ]
        }
      ]
    },
    {
      "cell_type": "markdown",
      "source": [
        "##**args and **kwargs\n"
      ],
      "metadata": {
        "id": "_9s3d27FgKCt"
      }
    },
    {
      "cell_type": "code",
      "source": [
        "#*args **kwargs\n",
        "# *arg tuple of argruments\n",
        "def super_func(*args):\n",
        "    print(args)\n",
        "    return sum(args)\n",
        "\n",
        "super_func(1,2,3,4,5)\n"
      ],
      "metadata": {
        "id": "Z6lt8_Y6gdy6",
        "colab": {
          "base_uri": "https://localhost:8080/"
        },
        "outputId": "11715fd3-7de3-45e7-ef33-cb01040274b2"
      },
      "execution_count": null,
      "outputs": [
        {
          "output_type": "stream",
          "name": "stdout",
          "text": [
            "(1, 2, 3, 4, 5)\n"
          ]
        },
        {
          "output_type": "execute_result",
          "data": {
            "text/plain": [
              "15"
            ]
          },
          "metadata": {},
          "execution_count": 54
        }
      ]
    },
    {
      "cell_type": "code",
      "source": [
        "#**kwargs keyword argruments\n",
        "def super_func(*args, **kwargs):\n",
        "    print(args)\n",
        "    total = 0\n",
        "    i = 0\n",
        "    for i in kwargs.values():\n",
        "        total += i\n",
        "    return sum(args) + total\n",
        "\n",
        "super_func(1,2,3,4,5, num1=5,num2=10)\n"
      ],
      "metadata": {
        "colab": {
          "base_uri": "https://localhost:8080/"
        },
        "id": "42BE2VF4IuuG",
        "outputId": "4e09a1a4-583d-431d-8d28-a392c6ed4025"
      },
      "execution_count": null,
      "outputs": [
        {
          "output_type": "stream",
          "name": "stdout",
          "text": [
            "(1, 2, 3, 4, 5)\n"
          ]
        },
        {
          "output_type": "execute_result",
          "data": {
            "text/plain": [
              "30"
            ]
          },
          "metadata": {},
          "execution_count": 64
        }
      ]
    },
    {
      "cell_type": "code",
      "source": [
        "#Rule: params, *args, default parameters, **kwargs\n",
        "def super_func(name,*args, i = 'hi',**kwargs):\n",
        "    print(args)\n",
        "    total = 0\n",
        "    i = 0\n",
        "    for i in kwargs.values():\n",
        "        total += i\n",
        "    return sum(args) + total\n",
        "\n",
        "super_func(\"kim\",1,2,3,4,5, num1=5,num2=10)\n"
      ],
      "metadata": {
        "colab": {
          "base_uri": "https://localhost:8080/"
        },
        "id": "gtoavQtbKoM-",
        "outputId": "63297da3-4d71-4fec-90ca-a4ffa881dfbe"
      },
      "execution_count": null,
      "outputs": [
        {
          "output_type": "stream",
          "name": "stdout",
          "text": [
            "(1, 2, 3, 4, 5)\n"
          ]
        },
        {
          "output_type": "execute_result",
          "data": {
            "text/plain": [
              "30"
            ]
          },
          "metadata": {},
          "execution_count": 65
        }
      ]
    },
    {
      "cell_type": "markdown",
      "source": [
        "##Exercise: Functions"
      ],
      "metadata": {
        "id": "eIpQvCgWgk2i"
      }
    },
    {
      "cell_type": "code",
      "source": [
        "def highest_even(li):\n",
        "  i = 0\n",
        "  ev = []\n",
        "  for i in li:\n",
        "    if(i % 2) == 0:\n",
        "      ev.append(i)\n",
        "  return(max(ev))\n",
        "\n",
        "  #ev.reverse()\n",
        "  #return (ev[0])\n",
        "\n",
        "print(highest_even([10,2,3,4,8,11]))\n",
        "\n"
      ],
      "metadata": {
        "id": "h0p_o8sWgkXZ",
        "colab": {
          "base_uri": "https://localhost:8080/"
        },
        "outputId": "93372937-98db-419d-bb85-d930339fe38d"
      },
      "execution_count": null,
      "outputs": [
        {
          "output_type": "stream",
          "name": "stdout",
          "text": [
            "10\n"
          ]
        }
      ]
    },
    {
      "cell_type": "markdown",
      "source": [
        "##Walrus Operator\n",
        ":="
      ],
      "metadata": {
        "id": "s1q2aZgugvIu"
      }
    },
    {
      "cell_type": "code",
      "source": [
        "# := that assigns values to variable as part of a larger expression.\n",
        "a = \"helloooooooooooooooooooooooooooooooooooooooooo\"\n",
        "if ((n:= len(a)) > 10):\n",
        "  print(f\"too long {n} elements\")\n",
        "\n"
      ],
      "metadata": {
        "id": "lUvIOGkVg1ty",
        "colab": {
          "base_uri": "https://localhost:8080/"
        },
        "outputId": "544a9259-1b8c-4057-df81-51f7bb3e8930"
      },
      "execution_count": null,
      "outputs": [
        {
          "output_type": "stream",
          "name": "stdout",
          "text": [
            "too long 46 elements\n"
          ]
        }
      ]
    },
    {
      "cell_type": "code",
      "source": [
        "while((n:=len(a)) > 1):\n",
        "    print(n)\n",
        "    a = a[:-1]\n",
        "\n",
        "print(a)"
      ],
      "metadata": {
        "colab": {
          "base_uri": "https://localhost:8080/"
        },
        "id": "hE8tjt3ytTOv",
        "outputId": "0664284c-29a1-4d4a-d723-0647002753e3"
      },
      "execution_count": null,
      "outputs": [
        {
          "output_type": "stream",
          "name": "stdout",
          "text": [
            "h\n"
          ]
        }
      ]
    },
    {
      "cell_type": "markdown",
      "source": [
        "#Scope"
      ],
      "metadata": {
        "id": "tCqiki3Xg25-"
      }
    },
    {
      "cell_type": "code",
      "source": [
        "# scope - what variables do I have access to?\n",
        "def some_func():\n",
        "  total =100\n",
        "#print(total) #total is not in scope\n",
        "\n",
        "\n"
      ],
      "metadata": {
        "id": "IPe7-y63hEsE"
      },
      "execution_count": null,
      "outputs": []
    },
    {
      "cell_type": "code",
      "source": [
        "if True:\n",
        "  x =10\n",
        "\n",
        "def some_func():\n",
        "  total =100\n",
        "\n",
        "print(x)\n"
      ],
      "metadata": {
        "colab": {
          "base_uri": "https://localhost:8080/"
        },
        "id": "X99oDOSkyiiA",
        "outputId": "3732e437-6a25-40bb-f1b1-fe6b0a3c452d"
      },
      "execution_count": null,
      "outputs": [
        {
          "output_type": "stream",
          "name": "stdout",
          "text": [
            "10\n"
          ]
        }
      ]
    },
    {
      "cell_type": "markdown",
      "source": [
        "##Scope Rules\n",
        "  #1 - start with local.\n",
        "  #2 - Parent local.\n",
        "  #3 - Global.\n",
        "  #4 - built in python functions."
      ],
      "metadata": {
        "id": "qnKs_sQBhGn-"
      }
    },
    {
      "cell_type": "code",
      "source": [
        "a = 1               #3 Global\n",
        "def parent():\n",
        "  a = 10            #2 parent local scope\n",
        "  def confusion():\n",
        "      a = 5         #1 start with local scope\n",
        "      return a\n",
        "  return confusion()\n",
        "\n",
        "print(a)\n",
        "print(parent())"
      ],
      "metadata": {
        "colab": {
          "base_uri": "https://localhost:8080/"
        },
        "id": "yVYeYXp_y6-6",
        "outputId": "80e18d27-38c8-4e69-fc67-65f8a3360799"
      },
      "execution_count": null,
      "outputs": [
        {
          "output_type": "stream",
          "name": "stdout",
          "text": [
            "1\n",
            "5\n"
          ]
        }
      ]
    },
    {
      "cell_type": "markdown",
      "source": [
        "#global Keywords"
      ],
      "metadata": {
        "id": "vuXESKz9y8JG"
      }
    },
    {
      "cell_type": "code",
      "source": [
        "total = 0  # using this with the global keyword\n",
        "\n",
        "def count():\n",
        "    global total\n",
        "    total +=1\n",
        "    return total\n",
        "\n",
        "\n",
        "count()\n",
        "count()\n",
        "print(count())"
      ],
      "metadata": {
        "colab": {
          "base_uri": "https://localhost:8080/"
        },
        "id": "LyH03nRhzAo1",
        "outputId": "d889440f-531a-4812-e2f3-4621fe408dfd"
      },
      "execution_count": null,
      "outputs": [
        {
          "output_type": "stream",
          "name": "stdout",
          "text": [
            "3\n"
          ]
        }
      ]
    },
    {
      "cell_type": "code",
      "source": [
        "#better way\n",
        "total = 0\n",
        "def count(total):\n",
        "    total +=1\n",
        "    return total\n",
        "\n",
        "\n",
        "print(count(count(count(total))))"
      ],
      "metadata": {
        "colab": {
          "base_uri": "https://localhost:8080/"
        },
        "id": "BtCm551X6Djm",
        "outputId": "d5d93886-599a-4980-9e61-6229f2c81df5"
      },
      "execution_count": null,
      "outputs": [
        {
          "output_type": "stream",
          "name": "stdout",
          "text": [
            "3\n"
          ]
        }
      ]
    },
    {
      "cell_type": "markdown",
      "source": [
        "#nonlocal Keyword"
      ],
      "metadata": {
        "id": "OmiGLbPyzCQ7"
      }
    },
    {
      "cell_type": "code",
      "source": [
        "def outer():\n",
        "  x = \"local\"\n",
        "  def inner():\n",
        "     nonlocal x     #refer to parent local\n",
        "     x = \"nonlocal\"\n",
        "     print(\"inner:\", x)\n",
        "\n",
        "  inner()\n",
        "  print(\"outer:\", x)\n",
        "\n",
        "outer()\n"
      ],
      "metadata": {
        "colab": {
          "base_uri": "https://localhost:8080/"
        },
        "id": "JrYTwU-40O26",
        "outputId": "82d45c82-4842-45ef-f017-c1be6794fc8f"
      },
      "execution_count": null,
      "outputs": [
        {
          "output_type": "stream",
          "name": "stdout",
          "text": [
            "inner: nonlocal\n",
            "outer: nonlocal\n"
          ]
        }
      ]
    }
  ]
}