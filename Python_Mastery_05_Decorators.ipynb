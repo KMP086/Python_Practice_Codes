{
  "nbformat": 4,
  "nbformat_minor": 0,
  "metadata": {
    "colab": {
      "provenance": []
    },
    "kernelspec": {
      "name": "python3",
      "display_name": "Python 3"
    },
    "language_info": {
      "name": "python"
    }
  },
  "cells": [
    {
      "cell_type": "markdown",
      "source": [
        "#Decorators\n",
        "1.   function act as variables\n",
        "2.   decorator super charge our function\n",
        "\n",
        "\n"
      ],
      "metadata": {
        "id": "q8app_KCfIcM"
      }
    },
    {
      "cell_type": "code",
      "execution_count": null,
      "metadata": {
        "colab": {
          "base_uri": "https://localhost:8080/"
        },
        "id": "qGH-v0ReereZ",
        "outputId": "f2babbfc-b64f-42bd-8d70-b93513a82060"
      },
      "outputs": [
        {
          "output_type": "stream",
          "name": "stdout",
          "text": [
            "<classmethod(<staticmethod(<function hello at 0x7bf193bb3eb0>)>)>\n"
          ]
        }
      ],
      "source": [
        "@classmethod\n",
        "@staticmethod\n",
        "\n",
        "def hello():\n",
        "  print(\"helloooooooooooo\")\n",
        "greet = hello\n",
        "#del hello # will error the print\n",
        "print(greet)"
      ]
    },
    {
      "cell_type": "code",
      "source": [
        "def hello(func):\n",
        "  func()\n",
        "def greet():\n",
        "  print(\"Still here!\")\n",
        "\n",
        "a = hello(greet)\n",
        "print(a)"
      ],
      "metadata": {
        "colab": {
          "base_uri": "https://localhost:8080/"
        },
        "id": "WVxoKSV-g5Nr",
        "outputId": "153e17a4-3aa4-43a4-fd10-db683b4a7615"
      },
      "execution_count": null,
      "outputs": [
        {
          "output_type": "stream",
          "name": "stdout",
          "text": [
            "Still here!\n",
            "None\n"
          ]
        }
      ]
    },
    {
      "cell_type": "markdown",
      "source": [
        "#Higher Order of Function"
      ],
      "metadata": {
        "id": "dD2KXTKUhwK7"
      }
    },
    {
      "cell_type": "code",
      "source": [
        "#High Order Function HOC\n",
        "#accept function as a parameter\n",
        "# or return a function as parameter\n",
        "def greet(func):\n",
        "  func()\n",
        "#reduce() # HOC\n",
        "#filter() # HOC\n",
        "\n",
        "def greet2():\n",
        "  def func():\n",
        "    return 5\n",
        "  return func\n",
        "\n"
      ],
      "metadata": {
        "id": "mi-fl6zQk3my"
      },
      "execution_count": null,
      "outputs": []
    },
    {
      "cell_type": "markdown",
      "source": [
        "#Decorators 2\n",
        "It wraps the function or super boost"
      ],
      "metadata": {
        "id": "1Xq1T5Qck9KF"
      }
    },
    {
      "cell_type": "code",
      "source": [
        "#Decorator\n",
        "def hello():\n",
        "  print(\"helloooo\")\n",
        "\n",
        "def my_decorator(func):\n",
        "  def wrap_func():\n",
        "    print(\"*********\")\n",
        "    func()\n",
        "    print(\"*********\")\n",
        "  return wrap_func\n",
        "\n",
        "@my_decorator #can be declare on top\n",
        "def hello(): # help to super boost a function\n",
        "  print(\"helloooo\")\n",
        "\n",
        "hello()\n"
      ],
      "metadata": {
        "colab": {
          "base_uri": "https://localhost:8080/"
        },
        "id": "2FMMtv4Qha8w",
        "outputId": "2370c367-f4ce-415e-95fb-67cdeb5c55bb"
      },
      "execution_count": null,
      "outputs": [
        {
          "output_type": "stream",
          "name": "stdout",
          "text": [
            "*********\n",
            "helloooo\n",
            "*********\n"
          ]
        }
      ]
    },
    {
      "cell_type": "code",
      "source": [
        "@my_decorator\n",
        "def bye(): # help to super boost a function\n",
        "  print(\"byeee\")\n",
        "\n",
        "bye()\n"
      ],
      "metadata": {
        "colab": {
          "base_uri": "https://localhost:8080/"
        },
        "id": "FvXJOBdtoXrD",
        "outputId": "d352e6ec-6e12-4023-cd31-6e6e0eeb8f08"
      },
      "execution_count": null,
      "outputs": [
        {
          "output_type": "stream",
          "name": "stdout",
          "text": [
            "*********\n",
            "byeee\n",
            "*********\n"
          ]
        }
      ]
    },
    {
      "cell_type": "code",
      "source": [
        "hello2 = my_decorator(hello) #same as this\n",
        "hello2()"
      ],
      "metadata": {
        "colab": {
          "base_uri": "https://localhost:8080/"
        },
        "id": "9a5E38cwo158",
        "outputId": "7e1ff9ed-3a44-4516-cdd9-f9cdf617405d"
      },
      "execution_count": null,
      "outputs": [
        {
          "output_type": "stream",
          "name": "stdout",
          "text": [
            "*********\n",
            "*********\n",
            "byeee\n",
            "*********\n",
            "*********\n"
          ]
        }
      ]
    },
    {
      "cell_type": "code",
      "source": [
        "my_decorator(hello)()"
      ],
      "metadata": {
        "colab": {
          "base_uri": "https://localhost:8080/"
        },
        "id": "W47ccBpGpiUx",
        "outputId": "b7962a95-8d96-4277-b316-2c608541e4c4"
      },
      "execution_count": null,
      "outputs": [
        {
          "output_type": "stream",
          "name": "stdout",
          "text": [
            "*********\n",
            "*********\n",
            "byeee\n",
            "*********\n",
            "*********\n"
          ]
        }
      ]
    },
    {
      "cell_type": "markdown",
      "source": [
        "#Decorator 3"
      ],
      "metadata": {
        "id": "zFxTgEY0p1gs"
      }
    },
    {
      "cell_type": "code",
      "source": [
        "def my_decorator(func):\n",
        "  def wrap_func(x):\n",
        "    print(\"************\")\n",
        "    func(x)\n",
        "    print(\"************\")\n",
        "  return wrap_func\n",
        "\n",
        "@my_decorator # should be above of the def\n",
        "def hello(greeting):\n",
        "    print(greeting)\n",
        "\n",
        "\n",
        "hello(\"hiiii\")\n"
      ],
      "metadata": {
        "colab": {
          "base_uri": "https://localhost:8080/"
        },
        "id": "HWeQ4XcUp41H",
        "outputId": "703c8b90-f0fb-4e81-f080-ea7ed072ae5d"
      },
      "execution_count": null,
      "outputs": [
        {
          "output_type": "stream",
          "name": "stdout",
          "text": [
            "hiiii\n"
          ]
        }
      ]
    },
    {
      "cell_type": "code",
      "source": [
        "def my_decorator(func):\n",
        "  def wrap_func(x, y):\n",
        "    print(\"************\")\n",
        "    func(x, y)\n",
        "    print(\"************\")\n",
        "  return wrap_func\n",
        "\n",
        "@my_decorator # should be above of the def\n",
        "def hello(greeting, emoji):\n",
        "    print(greeting, emoji)\n",
        "\n",
        "a = my_decorator(hello)\n",
        "a(\"hiii\", \":|\")"
      ],
      "metadata": {
        "colab": {
          "base_uri": "https://localhost:8080/"
        },
        "id": "mtn2ZKZEq2_I",
        "outputId": "4000c8a9-efb9-40bb-c034-1e091f32723d"
      },
      "execution_count": null,
      "outputs": [
        {
          "output_type": "stream",
          "name": "stdout",
          "text": [
            "************\n",
            "************\n",
            "hiii :|\n",
            "************\n",
            "************\n"
          ]
        }
      ]
    },
    {
      "cell_type": "code",
      "source": [
        "#Decorator Pattern######################################################\n",
        "def my_decorator(func):\n",
        "  def wrap_func(*args, **kwargs):  #*args -> argrument\n",
        "    print(\"************\")\n",
        "    func(*args, **kwargs) #**kwargs -> keyword argrument\n",
        "    print(\"************\")\n",
        "  return wrap_func\n",
        "######################################################################\n",
        "@my_decorator # should be above of the def\n",
        "def hello(greeting, emoji = \":(\"):  # can add agrument when we apply kwarg or arg\n",
        "    print(greeting, emoji)\n",
        "\n",
        "hello(\"hiii\")"
      ],
      "metadata": {
        "colab": {
          "base_uri": "https://localhost:8080/"
        },
        "id": "YKz9FXvltJcl",
        "outputId": "b27e0384-17f7-4369-c096-1dc95c5349f7"
      },
      "execution_count": null,
      "outputs": [
        {
          "output_type": "stream",
          "name": "stdout",
          "text": [
            "************\n",
            "hiii :(\n",
            "************\n"
          ]
        }
      ]
    },
    {
      "cell_type": "markdown",
      "source": [
        "#Why do we need decorator"
      ],
      "metadata": {
        "id": "z303KSCeVHdH"
      }
    },
    {
      "cell_type": "code",
      "source": [
        "from time import time\n",
        "def performance(fn):\n",
        "  def wrapper(*args, **kawrgs):\n",
        "    time1 = time()\n",
        "    results= fn(*args, **kawrgs)\n",
        "    time2 =time()\n",
        "    print(f\"It took {time2 - time1} ms\")\n",
        "    return results\n",
        "  return wrapper\n",
        "@performance #decorator\n",
        "def long_time():\n",
        "  for i in range(100000):\n",
        "    i*5\n",
        "\n",
        "long_time()"
      ],
      "metadata": {
        "colab": {
          "base_uri": "https://localhost:8080/"
        },
        "id": "v9tNOQgpS7yw",
        "outputId": "fe993f2f-ee4a-4e2f-b71f-07543c0da8b9"
      },
      "execution_count": 6,
      "outputs": [
        {
          "output_type": "stream",
          "name": "stdout",
          "text": [
            "It took 0.014144420623779297 ms\n"
          ]
        }
      ]
    }
  ]
}