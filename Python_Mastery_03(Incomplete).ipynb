{
  "nbformat": 4,
  "nbformat_minor": 0,
  "metadata": {
    "colab": {
      "provenance": []
    },
    "kernelspec": {
      "name": "python3",
      "display_name": "Python 3"
    },
    "language_info": {
      "name": "python"
    }
  },
  "cells": [
    {
      "cell_type": "markdown",
      "source": [
        "#Open Terminal Command Line\n",
        "1. ls -> List folder Command (dir on windows)\n",
        "2. cd -> Change directory\n",
        "3. cd.. -> one directory up\n",
        "4. clear -> clear all directory or fresh slate\n",
        "5. cd / -> change to root directory\n",
        "6. cd -> change to user directory  \n",
        "7. open .  -> Open folder\n",
        "8. mkdir -> create folder\n",
        "9. touch -> create file\n",
        "10. open -a -> open application  \n",
        "11. mv -> move file\n",
        "12. rm -> application remove or delete\n",
        "13. rm -r -> folder name remove\n",
        "14. pwd -> present working directory\n",
        "#scenario\n",
        "* cd desktop/test\n",
        "* ls\n",
        "* open .\n",
        "* mkdir webapp\n",
        "* touch  index.html\n",
        "* open -a \"Sublime Text\" index.html\n",
        "* mv index.html about.html\n",
        "\n"
      ],
      "metadata": {
        "id": "yDKYFQADgxy3"
      }
    },
    {
      "cell_type": "markdown",
      "source": [
        "#run the python code in cmd\n",
        "1.   pwd -> present directory\n",
        "#if the file is in the pwd then\n",
        "2.   python3 filename.py\n",
        "\n",
        "\n"
      ],
      "metadata": {
        "id": "AWXi6OUFn-ml"
      }
    },
    {
      "cell_type": "markdown",
      "source": [
        "#Code formating\n",
        "\n",
        "*PEP -> Python Enchancement Proposals (Style Guide)\n",
        "pip install pep8\n"
      ],
      "metadata": {
        "id": "Qee-s8ukueq1"
      }
    }
  ]
}