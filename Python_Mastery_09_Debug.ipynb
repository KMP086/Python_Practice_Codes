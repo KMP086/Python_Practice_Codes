{
  "nbformat": 4,
  "nbformat_minor": 0,
  "metadata": {
    "colab": {
      "provenance": []
    },
    "kernelspec": {
      "name": "python3",
      "display_name": "Python 3"
    },
    "language_info": {
      "name": "python"
    }
  },
  "cells": [
    {
      "cell_type": "markdown",
      "source": [
        "#How to Debug Code"
      ],
      "metadata": {
        "id": "o2JblbeDYNEu"
      }
    },
    {
      "cell_type": "code",
      "execution_count": null,
      "metadata": {
        "id": "IfVXtZnrX0Dm"
      },
      "outputs": [],
      "source": [
        "#debugging\n",
        "#lingting\n",
        "num + 4  #~ the red line show the erro immediatly\n",
        "#ide /editor\n",
        "  #~use ide\n",
        "#read error\n",
        " #~produce error like: 'name' + 4\n",
        "#pdb\n",
        "  #~python developer\n",
        "\n",
        "def add(num1, num2):\n",
        "    return num1 + num2\n",
        "\n",
        "add(4,'hhkhads')\n"
      ]
    },
    {
      "cell_type": "code",
      "source": [
        "import pdb\n",
        "\n",
        "def add(num1, num2):\n",
        "  pdb.set_trace()\n",
        "  return num1 + num2\n",
        "  t = 4*5\n",
        "  return num1 + num2\n",
        "\n",
        "add(4,'sadkjsahd')\n",
        "#document: https://docs.python.org/3/library/pdb.html"
      ],
      "metadata": {
        "id": "ofhbatp-YUS4"
      },
      "execution_count": null,
      "outputs": []
    },
    {
      "cell_type": "code",
      "source": [
        "def add(num1, num2):\n",
        "  return num1 + num2\n",
        "  return num1 + num2\n",
        "\n",
        "add(4,5)\n"
      ],
      "metadata": {
        "id": "AnLPAssdYl7G"
      },
      "execution_count": null,
      "outputs": []
    },
    {
      "cell_type": "code",
      "source": [],
      "metadata": {
        "id": "yECM2J-nYgUL"
      },
      "execution_count": null,
      "outputs": []
    }
  ]
}