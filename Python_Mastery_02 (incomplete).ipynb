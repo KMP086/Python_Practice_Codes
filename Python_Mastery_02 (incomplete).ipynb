{
  "nbformat": 4,
  "nbformat_minor": 0,
  "metadata": {
    "colab": {
      "provenance": []
    },
    "kernelspec": {
      "name": "python3",
      "display_name": "Python 3"
    },
    "language_info": {
      "name": "python"
    }
  },
  "cells": [
    {
      "cell_type": "markdown",
      "source": [
        "##Conditional Logic\n",
        "  "
      ],
      "metadata": {
        "id": "O_Egc85f6gLr"
      }
    },
    {
      "cell_type": "code",
      "execution_count": 12,
      "metadata": {
        "colab": {
          "base_uri": "https://localhost:8080/"
        },
        "id": "blkW41485YR6",
        "outputId": "50d769eb-6e00-4dfc-bbfa-666106114043"
      },
      "outputs": [
        {
          "output_type": "stream",
          "name": "stdout",
          "text": [
            "hmm re-check\n",
            "okie\n"
          ]
        }
      ],
      "source": [
        "is_old = False\n",
        "is_licenced = False\n",
        "\n",
        "if is_old:\n",
        "  print(\"you are old enough to drive\")\n",
        "elif is_licenced:\n",
        "  print(\"Valid to drive\")\n",
        "else:\n",
        "  print(\"hmm re-check\")\n",
        "\n",
        "print(\"okie\")"
      ]
    },
    {
      "cell_type": "code",
      "source": [
        "is_old = True\n",
        "is_licenced = True\n",
        "\n",
        "if is_old and is_licenced:\n",
        "  print(\"you are old enough to drive\")\n",
        "else:\n",
        "  print(\"hmm re-check\")\n",
        "\n",
        "print(\"okie\")"
      ],
      "metadata": {
        "colab": {
          "base_uri": "https://localhost:8080/"
        },
        "id": "Rgz64TaaAF9A",
        "outputId": "7c40c3b9-3457-4de7-ef88-b8963ddb1fbb"
      },
      "execution_count": 15,
      "outputs": [
        {
          "output_type": "stream",
          "name": "stdout",
          "text": [
            "you are old enough to drive\n",
            "okie\n"
          ]
        }
      ]
    },
    {
      "cell_type": "markdown",
      "source": [
        "#Indentation in Python\n",
        "\n",
        "interpreter find the space of each line ofcode\n",
        "space hierarchy"
      ],
      "metadata": {
        "id": "O7f7ACoS_uoK"
      }
    },
    {
      "cell_type": "markdown",
      "source": [
        "#Truthy and Falsy"
      ],
      "metadata": {
        "id": "SG0HLCVzAyOi"
      }
    },
    {
      "cell_type": "code",
      "source": [
        "password = '123'\n",
        "username = 'kim'\n",
        "if password and username:\n",
        "  print(\"good one!\")\n",
        "else:\n",
        "  print(\"hmm re-check\")\n",
        "\n",
        "print(\"okie\")"
      ],
      "metadata": {
        "colab": {
          "base_uri": "https://localhost:8080/"
        },
        "id": "eR_fbScq98xK",
        "outputId": "91d35051-cd96-46f2-d0f0-963316badaee"
      },
      "execution_count": 18,
      "outputs": [
        {
          "output_type": "stream",
          "name": "stdout",
          "text": [
            "good one!\n",
            "okie\n"
          ]
        }
      ]
    },
    {
      "cell_type": "markdown",
      "source": [
        "#Ternary Operator"
      ],
      "metadata": {
        "id": "asSKdC46En8A"
      }
    },
    {
      "cell_type": "code",
      "source": [
        "#condition_if_true if condition else condition_if_else\n",
        "is_friend = True\n",
        "can_message = \"message allowed\" if is_friend else \"not allowed to message\"\n",
        "print(can_message)"
      ],
      "metadata": {
        "colab": {
          "base_uri": "https://localhost:8080/"
        },
        "id": "uy6KcSg7EyLw",
        "outputId": "5ca9c764-04cf-43e7-cc07-54e7ab60230f"
      },
      "execution_count": 20,
      "outputs": [
        {
          "output_type": "stream",
          "name": "stdout",
          "text": [
            "message allowed\n"
          ]
        }
      ]
    },
    {
      "cell_type": "markdown",
      "source": [
        "#Short Circuiting"
      ],
      "metadata": {
        "id": "4Tizj1iXFOuh"
      }
    },
    {
      "cell_type": "code",
      "source": [
        "is_friend = True\n",
        "is_user = True\n",
        "\n",
        "if is_friend or is_user:\n",
        "  print(\"best friends\")"
      ],
      "metadata": {
        "colab": {
          "base_uri": "https://localhost:8080/"
        },
        "id": "FoMtN0VeGGcY",
        "outputId": "9aec27fa-cac3-4ca8-f95f-a9dd58d16b54"
      },
      "execution_count": 22,
      "outputs": [
        {
          "output_type": "stream",
          "name": "stdout",
          "text": [
            "True\n",
            "best friends\n"
          ]
        }
      ]
    },
    {
      "cell_type": "markdown",
      "source": [
        "#Logical Operator\n",
        "#>  <  == != and or not\n"
      ],
      "metadata": {
        "id": "sruoujdSGNrP"
      }
    },
    {
      "cell_type": "code",
      "source": [
        "print('a' == 'hello')\n",
        "print(4<5)\n",
        "print(4>5)\n",
        "print('a'>'A') #???\n",
        "print(4 != 5)\n",
        "print(not(1 == 1))\n"
      ],
      "metadata": {
        "colab": {
          "base_uri": "https://localhost:8080/"
        },
        "id": "FAfwQvalGQ3w",
        "outputId": "3b2b44a1-2999-4719-f397-5665400bc6ea"
      },
      "execution_count": 29,
      "outputs": [
        {
          "output_type": "stream",
          "name": "stdout",
          "text": [
            "False\n",
            "True\n",
            "False\n",
            "True\n",
            "True\n",
            "False\n"
          ]
        }
      ]
    },
    {
      "cell_type": "markdown",
      "source": [
        "#Excercise Logical Operator"
      ],
      "metadata": {
        "id": "aDMw-RfAGzFI"
      }
    },
    {
      "cell_type": "code",
      "source": [
        "is_magician = False\n",
        "is_expert =  True\n",
        "\n",
        "#check if magician and expert: \"you are a magician\"\n",
        "if is_expert and is_magician:\n",
        "  print(\"you are a magician\")\n",
        "\n",
        "#check if magician but not expert: \"at least you're getting there\"\n",
        "elif not(is_expert) or is_magician:\n",
        "  print(\"at least you're getting there\")\n",
        "\n",
        "#if you're not a magician \"you need magic powers\"\n",
        "elif is_expert or not(is_magician):\n",
        "  print(\"you need magic powers\")\n"
      ],
      "metadata": {
        "colab": {
          "base_uri": "https://localhost:8080/"
        },
        "id": "9PXjlsTTG6sb",
        "outputId": "bb1c1311-f21f-4f55-f597-a75c9a9408b5"
      },
      "execution_count": 32,
      "outputs": [
        {
          "output_type": "stream",
          "name": "stdout",
          "text": [
            "you need magic powers\n"
          ]
        }
      ]
    },
    {
      "cell_type": "markdown",
      "source": [
        "#is vs =="
      ],
      "metadata": {
        "id": "9bkthIbhN5vP"
      }
    },
    {
      "cell_type": "code",
      "source": [
        "print(True ==1) # 1 is true\n",
        "print('' == 1) #type error\n",
        "print([] == 1) # empty array or list\n",
        "print(10 == 10.0)\n",
        "print([] == [])\n",
        "\n",
        "#== #equality\n"
      ],
      "metadata": {
        "colab": {
          "base_uri": "https://localhost:8080/"
        },
        "id": "_z_19H_wN7--",
        "outputId": "ec253ac4-49e1-474a-95ee-a2ceb0084057"
      },
      "execution_count": 33,
      "outputs": [
        {
          "output_type": "stream",
          "name": "stdout",
          "text": [
            "True\n",
            "False\n",
            "False\n",
            "True\n",
            "True\n"
          ]
        }
      ]
    },
    {
      "cell_type": "code",
      "source": [
        "#is check the loaction and memory are the same\n",
        "print(True is True)\n",
        "print('1' is '1')\n",
        "print('1' is 1)\n",
        "print([] is [])\n",
        "print(10 is 10.0)\n",
        "print([1,2,3] is [1,2,3]) #data structure with new location\n",
        "a = [1,2,3]\n",
        "b = [1,2,3]\n",
        "print(a is b)"
      ],
      "metadata": {
        "colab": {
          "base_uri": "https://localhost:8080/"
        },
        "id": "9u0xDassQMcG",
        "outputId": "c9a8d873-7438-467e-f6c1-5c3f519e99f9"
      },
      "execution_count": 41,
      "outputs": [
        {
          "output_type": "stream",
          "name": "stdout",
          "text": [
            "True\n",
            "True\n",
            "False\n",
            "False\n",
            "False\n",
            "False\n",
            "False\n"
          ]
        },
        {
          "output_type": "stream",
          "name": "stderr",
          "text": [
            "<>:3: SyntaxWarning: \"is\" with a literal. Did you mean \"==\"?\n",
            "<>:4: SyntaxWarning: \"is\" with a literal. Did you mean \"==\"?\n",
            "<>:6: SyntaxWarning: \"is\" with a literal. Did you mean \"==\"?\n",
            "<>:3: SyntaxWarning: \"is\" with a literal. Did you mean \"==\"?\n",
            "<>:4: SyntaxWarning: \"is\" with a literal. Did you mean \"==\"?\n",
            "<>:6: SyntaxWarning: \"is\" with a literal. Did you mean \"==\"?\n",
            "<ipython-input-41-5f292c8724b5>:3: SyntaxWarning: \"is\" with a literal. Did you mean \"==\"?\n",
            "  print('1' is '1')\n",
            "<ipython-input-41-5f292c8724b5>:4: SyntaxWarning: \"is\" with a literal. Did you mean \"==\"?\n",
            "  print('1' is 1)\n",
            "<ipython-input-41-5f292c8724b5>:6: SyntaxWarning: \"is\" with a literal. Did you mean \"==\"?\n",
            "  print(10 is 10.0)\n"
          ]
        }
      ]
    },
    {
      "cell_type": "markdown",
      "source": [
        "#For loops"
      ],
      "metadata": {
        "id": "YedAL3LTN9cX"
      }
    },
    {
      "cell_type": "code",
      "source": [
        "#String\n",
        "for item in 'Zero':  #'Zero' iterable iterate each item\n",
        "  print(item)"
      ],
      "metadata": {
        "colab": {
          "base_uri": "https://localhost:8080/"
        },
        "id": "EG7LwCaNOA2e",
        "outputId": "0e795ab1-20de-4737-a671-b0b42613ed43"
      },
      "execution_count": 47,
      "outputs": [
        {
          "output_type": "stream",
          "name": "stdout",
          "text": [
            "Z\n",
            "e\n",
            "r\n",
            "o\n"
          ]
        }
      ]
    },
    {
      "cell_type": "code",
      "source": [
        "#List\n",
        "for item in [1,2,3,4]:  #[] iterable iterate each item\n",
        "  print(item)"
      ],
      "metadata": {
        "colab": {
          "base_uri": "https://localhost:8080/"
        },
        "id": "fbLV8xeGRrSO",
        "outputId": "25628f0f-f94d-4e3a-c0f4-64a55c63b024"
      },
      "execution_count": 48,
      "outputs": [
        {
          "output_type": "stream",
          "name": "stdout",
          "text": [
            "1\n",
            "2\n",
            "3\n",
            "4\n"
          ]
        }
      ]
    },
    {
      "cell_type": "code",
      "source": [
        "#Set\n",
        "for item in {1,2,3,4}:  #{} iterable iterate each item\n",
        "  print(item)\n"
      ],
      "metadata": {
        "colab": {
          "base_uri": "https://localhost:8080/"
        },
        "id": "iXmP_mTUR2MX",
        "outputId": "b6b41fcd-0200-4289-fb82-7cd931dc59f2"
      },
      "execution_count": 49,
      "outputs": [
        {
          "output_type": "stream",
          "name": "stdout",
          "text": [
            "1\n",
            "2\n",
            "3\n",
            "4\n"
          ]
        }
      ]
    },
    {
      "cell_type": "code",
      "source": [
        "#Tuple\n",
        "for item in (1,2,3,4):  #() iterable iterate each item\n",
        "  print(item)\n",
        "print(item) # throw the last number\n"
      ],
      "metadata": {
        "colab": {
          "base_uri": "https://localhost:8080/"
        },
        "id": "RsVoWyZSR8c_",
        "outputId": "d72a2ed4-bd5c-4ca2-8e91-2a89a70f07fe"
      },
      "execution_count": 51,
      "outputs": [
        {
          "output_type": "stream",
          "name": "stdout",
          "text": [
            "1\n",
            "2\n",
            "3\n",
            "4\n",
            "4\n"
          ]
        }
      ]
    },
    {
      "cell_type": "code",
      "source": [
        "#nested\n",
        "for item in (1,2):  #() iterable iterate each item\n",
        "  for x in ['a', 'b', 'c']:\n",
        "    print(item, x)\n"
      ],
      "metadata": {
        "colab": {
          "base_uri": "https://localhost:8080/"
        },
        "id": "GflSqd83S5E-",
        "outputId": "e25ffea7-3c9d-4229-9e3e-38950ea1011d"
      },
      "execution_count": 54,
      "outputs": [
        {
          "output_type": "stream",
          "name": "stdout",
          "text": [
            "1 a\n",
            "1 b\n",
            "1 c\n",
            "2 a\n",
            "2 b\n",
            "2 c\n"
          ]
        }
      ]
    },
    {
      "cell_type": "markdown",
      "source": [
        "#Iterables\n",
        "  iterable iterate each item\n",
        "  iterable: list, dictionary, tuple, set\n",
        "  #iterated -> one by one check each item in the collection."
      ],
      "metadata": {
        "id": "qO-30NpjOJnG"
      }
    },
    {
      "cell_type": "code",
      "source": [
        "#dictionary\n",
        "users = {\n",
        "    'name': 'Golem',\n",
        "    'age': 5006,\n",
        "    'can_swim': False\n",
        "}"
      ],
      "metadata": {
        "id": "-yPoWKdNONpH"
      },
      "execution_count": 58,
      "outputs": []
    },
    {
      "cell_type": "code",
      "source": [
        "#.items()\n",
        "for item in users.items():\n",
        "  print(item)"
      ],
      "metadata": {
        "colab": {
          "base_uri": "https://localhost:8080/"
        },
        "id": "oXIhPCdHUybX",
        "outputId": "b1fee938-6638-4659-e765-6ce9eafed8d5"
      },
      "execution_count": 60,
      "outputs": [
        {
          "output_type": "stream",
          "name": "stdout",
          "text": [
            "('name', 'Golem')\n",
            "('age', 5006)\n",
            "('can_swim', False)\n"
          ]
        }
      ]
    },
    {
      "cell_type": "code",
      "source": [
        "for item in users.items():\n",
        "  key, value = item;\n",
        "  print(key, value)"
      ],
      "metadata": {
        "colab": {
          "base_uri": "https://localhost:8080/"
        },
        "id": "I4JjmbGRVHYV",
        "outputId": "4ab6a5a0-4c20-472f-d8a6-21397a580f3b"
      },
      "execution_count": 62,
      "outputs": [
        {
          "output_type": "stream",
          "name": "stdout",
          "text": [
            "name Golem\n",
            "age 5006\n",
            "can_swim False\n"
          ]
        }
      ]
    },
    {
      "cell_type": "code",
      "source": [
        "for key, value in users.items():\n",
        "  print(key, value)"
      ],
      "metadata": {
        "colab": {
          "base_uri": "https://localhost:8080/"
        },
        "id": "dKQSKZBEVVsG",
        "outputId": "9667efd8-ec31-45d2-f6ef-e89dc3a67922"
      },
      "execution_count": 63,
      "outputs": [
        {
          "output_type": "stream",
          "name": "stdout",
          "text": [
            "name Golem\n",
            "age 5006\n",
            "can_swim False\n"
          ]
        }
      ]
    },
    {
      "cell_type": "code",
      "source": [
        "#.values()\n",
        "for item in users.values():\n",
        "  print(item)"
      ],
      "metadata": {
        "colab": {
          "base_uri": "https://localhost:8080/"
        },
        "id": "W3PTfH9uUjRG",
        "outputId": "15b1fdfd-8657-4529-f980-fdbc53720ca2"
      },
      "execution_count": 56,
      "outputs": [
        {
          "output_type": "stream",
          "name": "stdout",
          "text": [
            "Golem\n",
            "5006\n",
            "False\n"
          ]
        }
      ]
    },
    {
      "cell_type": "code",
      "source": [
        "#.keys()\n",
        "for item in users.keys():\n",
        "  print(item)"
      ],
      "metadata": {
        "colab": {
          "base_uri": "https://localhost:8080/"
        },
        "id": "sMYwxqwAUple",
        "outputId": "16f0ae89-d79d-4b86-d726-7d501b832f27"
      },
      "execution_count": 59,
      "outputs": [
        {
          "output_type": "stream",
          "name": "stdout",
          "text": [
            "name\n",
            "age\n",
            "can_swim\n"
          ]
        }
      ]
    },
    {
      "cell_type": "markdown",
      "source": [
        "#Excercise: Tricky Counter"
      ],
      "metadata": {
        "id": "40fk2vUgOOSn"
      }
    },
    {
      "cell_type": "code",
      "source": [
        "#counter\n",
        "my_list = [1,2,3,4,5]\n",
        "\n",
        "counter = 0\n",
        "for item in my_list:\n",
        "  counter = counter + item\n",
        "  print(counter)"
      ],
      "metadata": {
        "colab": {
          "base_uri": "https://localhost:8080/"
        },
        "id": "GViMUM1SOVDn",
        "outputId": "9fe3efa0-a25d-4031-b60e-9b4461c26966"
      },
      "execution_count": 67,
      "outputs": [
        {
          "output_type": "stream",
          "name": "stdout",
          "text": [
            "1\n",
            "3\n",
            "6\n",
            "10\n",
            "15\n"
          ]
        }
      ]
    },
    {
      "cell_type": "markdown",
      "source": [
        "#range()"
      ],
      "metadata": {
        "id": "mP6-YtCxOVe_"
      }
    },
    {
      "cell_type": "code",
      "source": [
        "print(range(10))\n",
        "for number in range(0,5):\n",
        "  print(number)"
      ],
      "metadata": {
        "colab": {
          "base_uri": "https://localhost:8080/"
        },
        "id": "B0JxylDBOXzX",
        "outputId": "24c4c160-ea61-442a-80a3-54e6e7e4525a"
      },
      "execution_count": 70,
      "outputs": [
        {
          "output_type": "stream",
          "name": "stdout",
          "text": [
            "range(0, 10)\n",
            "0\n",
            "1\n",
            "2\n",
            "3\n",
            "4\n"
          ]
        }
      ]
    },
    {
      "cell_type": "code",
      "source": [
        "for number in range(0,10,2): # 2 stopover\n",
        "  print(number)"
      ],
      "metadata": {
        "colab": {
          "base_uri": "https://localhost:8080/"
        },
        "id": "at4sgnq9aKNE",
        "outputId": "7a79d44e-3958-4f65-e0c3-4a940a186f0c"
      },
      "execution_count": 71,
      "outputs": [
        {
          "output_type": "stream",
          "name": "stdout",
          "text": [
            "0\n",
            "2\n",
            "4\n",
            "6\n",
            "8\n"
          ]
        }
      ]
    },
    {
      "cell_type": "code",
      "source": [
        "for number in range(10,0,-2): # -2 stopover\n",
        "  print(number)"
      ],
      "metadata": {
        "colab": {
          "base_uri": "https://localhost:8080/"
        },
        "id": "6rxd2PNbaY4E",
        "outputId": "13469434-b41e-4f33-a815-2fedb1594786"
      },
      "execution_count": 73,
      "outputs": [
        {
          "output_type": "stream",
          "name": "stdout",
          "text": [
            "10\n",
            "8\n",
            "6\n",
            "4\n",
            "2\n"
          ]
        }
      ]
    },
    {
      "cell_type": "code",
      "source": [
        "for number in range(2):\n",
        "  print(list(range(10)))"
      ],
      "metadata": {
        "colab": {
          "base_uri": "https://localhost:8080/"
        },
        "id": "IzxerU0Ea7sd",
        "outputId": "48ea11f3-89d2-489a-ef09-25079bf9ead1"
      },
      "execution_count": 74,
      "outputs": [
        {
          "output_type": "stream",
          "name": "stdout",
          "text": [
            "[0, 1, 2, 3, 4, 5, 6, 7, 8, 9]\n",
            "[0, 1, 2, 3, 4, 5, 6, 7, 8, 9]\n"
          ]
        }
      ]
    },
    {
      "cell_type": "markdown",
      "source": [
        "#enumerate()"
      ],
      "metadata": {
        "id": "IIsE-SvTOaXe"
      }
    },
    {
      "cell_type": "code",
      "source": [
        "for i,char in enumerate('hi-five'): #it throws the index of each item\n",
        "  print(i,char)"
      ],
      "metadata": {
        "colab": {
          "base_uri": "https://localhost:8080/"
        },
        "id": "c0DiQoDPOhEH",
        "outputId": "e2395e8a-2749-4418-b78c-cdf087f59328"
      },
      "execution_count": 76,
      "outputs": [
        {
          "output_type": "stream",
          "name": "stdout",
          "text": [
            "0 h\n",
            "1 i\n",
            "2 -\n",
            "3 f\n",
            "4 i\n",
            "5 v\n",
            "6 e\n"
          ]
        }
      ]
    },
    {
      "cell_type": "code",
      "source": [
        "for i,char in enumerate(list(range(100))):\n",
        "  if char == 50:\n",
        "    print(f\"index of:  {i}\")"
      ],
      "metadata": {
        "colab": {
          "base_uri": "https://localhost:8080/"
        },
        "id": "4S4Y4IIFb3dn",
        "outputId": "a9254ec7-f8e1-4c6a-e51f-0197e350fd99"
      },
      "execution_count": 77,
      "outputs": [
        {
          "output_type": "stream",
          "name": "stdout",
          "text": [
            "index of:  50\n"
          ]
        }
      ]
    },
    {
      "cell_type": "markdown",
      "source": [
        "#While loop"
      ],
      "metadata": {
        "id": "qn16CdP0OhhO"
      }
    },
    {
      "cell_type": "code",
      "source": [
        "i = 0\n",
        "while i < 10:\n",
        "  print(i)\n",
        "  break"
      ],
      "metadata": {
        "colab": {
          "base_uri": "https://localhost:8080/"
        },
        "id": "fT63tkmKOknP",
        "outputId": "d3c9f7cf-8510-4d3e-932f-a66016be36f4"
      },
      "execution_count": 83,
      "outputs": [
        {
          "output_type": "stream",
          "name": "stdout",
          "text": [
            "0\n"
          ]
        }
      ]
    },
    {
      "cell_type": "code",
      "source": [
        "i = 0\n",
        "while i < 5:\n",
        "  print(i)\n",
        "  #i = i + 1\n",
        "  i+=1\n"
      ],
      "metadata": {
        "colab": {
          "base_uri": "https://localhost:8080/"
        },
        "id": "oUxScavkdNiE",
        "outputId": "64e792c2-0fd9-4e4d-dfd1-a9e9e7cd0f10"
      },
      "execution_count": 86,
      "outputs": [
        {
          "output_type": "stream",
          "name": "stdout",
          "text": [
            "0\n",
            "1\n",
            "2\n",
            "3\n",
            "4\n"
          ]
        }
      ]
    },
    {
      "cell_type": "code",
      "source": [
        "i = 0\n",
        "while i < 5:\n",
        "  print(i)\n",
        "  #i = i + 1\n",
        "  i+=1\n",
        "  #break <~~else wont work\n",
        "else:\n",
        "  print(\"done with all the work\")"
      ],
      "metadata": {
        "colab": {
          "base_uri": "https://localhost:8080/"
        },
        "id": "LdoVPsdCdZyG",
        "outputId": "a941ea2f-5f77-48d9-a6ac-0f3e9e231340"
      },
      "execution_count": 89,
      "outputs": [
        {
          "output_type": "stream",
          "name": "stdout",
          "text": [
            "0\n",
            "1\n",
            "2\n",
            "3\n",
            "4\n",
            "done wiyh all the work\n"
          ]
        }
      ]
    },
    {
      "cell_type": "markdown",
      "source": [
        "#While Loop 2"
      ],
      "metadata": {
        "id": "9MMShIgmOlYH"
      }
    },
    {
      "cell_type": "code",
      "source": [
        "print(\"for loop\")\n",
        "for item in [1,2,3]:\n",
        "  print(item)\n",
        "\n",
        "\n",
        "print(\"while loop\")\n",
        "i = 0\n",
        "while i < len([4,5,6]):\n",
        "  print(i)\n",
        "  i+=1"
      ],
      "metadata": {
        "colab": {
          "base_uri": "https://localhost:8080/"
        },
        "id": "gO15RUP7Ooiv",
        "outputId": "cd4102b3-7892-435a-f594-7e4ee6876939"
      },
      "execution_count": 92,
      "outputs": [
        {
          "output_type": "stream",
          "name": "stdout",
          "text": [
            "for loop\n",
            "1\n",
            "2\n",
            "3\n",
            "while loop\n",
            "0\n",
            "1\n",
            "2\n"
          ]
        }
      ]
    },
    {
      "cell_type": "code",
      "source": [
        "#while is for conditional logic\n",
        "while True:\n",
        "  response = input(\"say something \")\n",
        "  if (response == 'bye'):\n",
        "    break"
      ],
      "metadata": {
        "colab": {
          "base_uri": "https://localhost:8080/"
        },
        "id": "h3S5QQdteseE",
        "outputId": "679d52ff-01bf-4ce9-a563-e82c88bf0490"
      },
      "execution_count": 94,
      "outputs": [
        {
          "name": "stdout",
          "output_type": "stream",
          "text": [
            "say something bye\n"
          ]
        }
      ]
    },
    {
      "cell_type": "markdown",
      "source": [
        "#break, continue, pass"
      ],
      "metadata": {
        "id": "RZrOmQ_5OpPG"
      }
    },
    {
      "cell_type": "code",
      "source": [
        "#break ~ broke or exits it\n",
        "#continue ~ going back to the top or for loop\n",
        "for item in [1,2,3]:\n",
        "  print(item)\n",
        "  continue  #going back to the for loop\n",
        "  print(item) #by pass"
      ],
      "metadata": {
        "colab": {
          "base_uri": "https://localhost:8080/"
        },
        "id": "ykr2SlRuOulO",
        "outputId": "51ed0765-d007-45d0-932d-ad9f02055e69"
      },
      "execution_count": 96,
      "outputs": [
        {
          "output_type": "stream",
          "name": "stdout",
          "text": [
            "1\n",
            "2\n",
            "3\n"
          ]
        }
      ]
    },
    {
      "cell_type": "code",
      "source": [
        "#pass it passes to the next line\n",
        "for item in [1,2,3]:\n",
        "  print(item)\n",
        "  pass  #for thinking\n",
        "  print(item)"
      ],
      "metadata": {
        "colab": {
          "base_uri": "https://localhost:8080/"
        },
        "id": "9NmWD5hjgmdT",
        "outputId": "c6cce38f-7f13-4447-abd1-e5b42c36c17f"
      },
      "execution_count": 97,
      "outputs": [
        {
          "output_type": "stream",
          "name": "stdout",
          "text": [
            "1\n",
            "1\n",
            "2\n",
            "2\n",
            "3\n",
            "3\n"
          ]
        }
      ]
    },
    {
      "cell_type": "code",
      "source": [
        "for item in [1,2,3]:\n",
        "  pass # do nothing"
      ],
      "metadata": {
        "id": "kGYgFUeWg4kb"
      },
      "execution_count": 98,
      "outputs": []
    },
    {
      "cell_type": "markdown",
      "source": [
        "#Our First GUI"
      ],
      "metadata": {
        "id": "QDuSkGSnOvQX"
      }
    },
    {
      "cell_type": "code",
      "source": [
        "#Excercise!!!\n",
        "picture = [\n",
        "    [0,0,0,1,0,0,0],\n",
        "    [0,0,1,1,1,0,0],\n",
        "    [0,1,1,1,1,1,0],\n",
        "    [1,1,1,1,1,1,1],\n",
        "    [0,0,0,1,0,0,0],\n",
        "    [0,0,0,1,0,0,0]\n",
        "]"
      ],
      "metadata": {
        "id": "tfH96M2jOzVO"
      },
      "execution_count": 112,
      "outputs": []
    },
    {
      "cell_type": "code",
      "source": [
        "for row in picture:\n",
        "  for pxl in row:\n",
        "      if pxl == 1:\n",
        "        print(\"*\",end=\"\") #end õption to change the (\\n)next line\n",
        "      else:\n",
        "        print(\" \",end=\"\")\n",
        "  print(\"\")  #default new line"
      ],
      "metadata": {
        "colab": {
          "base_uri": "https://localhost:8080/"
        },
        "id": "3VBND864hpYL",
        "outputId": "b0340ed8-1407-414d-cb7c-13d9a18a7fa5"
      },
      "execution_count": 115,
      "outputs": [
        {
          "output_type": "stream",
          "name": "stdout",
          "text": [
            "   *   \n",
            "  ***  \n",
            " ***** \n",
            "*******\n",
            "   *   \n",
            "   *   \n"
          ]
        }
      ]
    },
    {
      "cell_type": "markdown",
      "source": [
        "#Developer Fundamentals 4\n",
        "  #a. (clean) make your code is clean\n",
        "  #b. (readability) make your code eazy to understand\n",
        "  #c. predicatable\n",
        "  #d. DRY ~don't repeat yourself (use function)\n"
      ],
      "metadata": {
        "id": "60BzpGRUOzuP"
      }
    },
    {
      "cell_type": "code",
      "source": [
        "fill = '*' #for multiple lines\n",
        "empty = ' ' #for multiple lines\n",
        "for row in picture:\n",
        "  for pxl in row:\n",
        "      if pxl: # default is 1\n",
        "        print(fill,end=\"\") #end õption to change the (\\n)next line\n",
        "      else:\n",
        "        print(empty,end=\"\")\n",
        "  print(\"\")  #default new line"
      ],
      "metadata": {
        "colab": {
          "base_uri": "https://localhost:8080/"
        },
        "id": "tFX9zAVPkzws",
        "outputId": "f814ca39-5eaf-45e5-82e4-de7fce4869fe"
      },
      "execution_count": 116,
      "outputs": [
        {
          "output_type": "stream",
          "name": "stdout",
          "text": [
            "   *   \n",
            "  ***  \n",
            " ***** \n",
            "*******\n",
            "   *   \n",
            "   *   \n"
          ]
        }
      ]
    },
    {
      "cell_type": "markdown",
      "source": [
        "#Excercise Find Duplicate"
      ],
      "metadata": {
        "id": "xGJpuAn5O78H"
      }
    },
    {
      "cell_type": "code",
      "source": [
        "#Excercise: Check for duplicate in list:\n",
        "some_list = ['a', 'b', 'c', 'b', 'd', 'm', 'n', 'n']\n",
        "\n",
        "duplicates = []\n",
        "for value in some_list:\n",
        "  if some_list.count(value) > 1:\n",
        "    if value not in duplicates:\n",
        "       duplicates.append(value)\n",
        "print(duplicates)\n"
      ],
      "metadata": {
        "colab": {
          "base_uri": "https://localhost:8080/"
        },
        "id": "WVzO49hlO7Tu",
        "outputId": "da2be98f-1481-43bd-87d2-ff4eb8f15ce0"
      },
      "execution_count": 120,
      "outputs": [
        {
          "output_type": "stream",
          "name": "stdout",
          "text": [
            "['b', 'n']\n"
          ]
        }
      ]
    }
  ]
}