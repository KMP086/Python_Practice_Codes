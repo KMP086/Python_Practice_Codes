{
  "nbformat": 4,
  "nbformat_minor": 0,
  "metadata": {
    "colab": {
      "provenance": []
    },
    "kernelspec": {
      "name": "python3",
      "display_name": "Python 3"
    },
    "language_info": {
      "name": "python"
    }
  },
  "cells": [
    {
      "cell_type": "markdown",
      "source": [
        "#Error Handling 1\n",
        "\n",
        "\n",
        "An error crushes our program is an exception"
      ],
      "metadata": {
        "id": "WUrbMMlUo_I-"
      }
    },
    {
      "cell_type": "code",
      "source": [
        "#Error Handling\n",
        "age = int(input(\"What is your age \"))\n",
        "print(\"age\")"
      ],
      "metadata": {
        "id": "Oo0m2wjmo-d-",
        "colab": {
          "base_uri": "https://localhost:8080/"
        },
        "outputId": "aa54becd-e719-47ed-b13c-a4caae005941"
      },
      "execution_count": 2,
      "outputs": [
        {
          "output_type": "stream",
          "name": "stdout",
          "text": [
            "What is your age11\n",
            "age\n"
          ]
        }
      ]
    },
    {
      "cell_type": "code",
      "execution_count": 3,
      "metadata": {
        "id": "2QZ00J9emgQ_",
        "colab": {
          "base_uri": "https://localhost:8080/"
        },
        "outputId": "59812aad-6893-4f33-cca3-caf19ba5c927"
      },
      "outputs": [
        {
          "output_type": "stream",
          "name": "stdout",
          "text": [
            "What is your age a\n",
            "please enter a number\n"
          ]
        }
      ],
      "source": [
        "try:\n",
        "  age = int(input(\"What is your age \"))\n",
        "  print(\"age\")\n",
        "except:\n",
        "  print(\"please enter a number\")"
      ]
    },
    {
      "cell_type": "code",
      "source": [
        "while True: #keep asking the correct age\n",
        "  try:\n",
        "    age = int(input(\"What is your age \"))\n",
        "    print(\"age\")\n",
        "  except:\n",
        "    print(\"please enter a number\")\n",
        "  else: #it was include in the try method but it was use to finalized things in a loop\n",
        "    print(\"Thank you!\")\n",
        "    break"
      ],
      "metadata": {
        "colab": {
          "base_uri": "https://localhost:8080/"
        },
        "id": "RFyY_Pd1L8jr",
        "outputId": "d03c56c0-5515-4b88-bcb8-a333e7a90b24"
      },
      "execution_count": 4,
      "outputs": [
        {
          "output_type": "stream",
          "name": "stdout",
          "text": [
            "What is your age 12\n",
            "age\n",
            "Thank you!\n"
          ]
        }
      ]
    },
    {
      "cell_type": "code",
      "source": [
        "while True:\n",
        "  try:\n",
        "    age = int(input(\"What is your age \"))\n",
        "    10/age #wont accepts zero value needs 'ZeroDivisionError'\n",
        "    print(\"age\")\n",
        "  except ValueError:\n",
        "    print(\"please enter a number\")\n",
        "  except ValueError:\n",
        "    print(\"!!!!!!!\")\n",
        "  except ZeroDivisionError:\n",
        "    print(\"Please enter a age higher than 0\")\n",
        "  else:\n",
        "    print(\"Thank you!\")\n",
        "    break"
      ],
      "metadata": {
        "colab": {
          "base_uri": "https://localhost:8080/"
        },
        "id": "94zfiIGBMlhM",
        "outputId": "5b465251-86f9-475c-e353-7e8fe39656fe"
      },
      "execution_count": 9,
      "outputs": [
        {
          "output_type": "stream",
          "name": "stdout",
          "text": [
            "What is your age 9\n",
            "age\n",
            "Thank you!\n"
          ]
        }
      ]
    },
    {
      "cell_type": "markdown",
      "source": [
        "#Error Handling 2"
      ],
      "metadata": {
        "id": "o7Z2yZmuOYfx"
      }
    },
    {
      "cell_type": "code",
      "source": [
        "def sum(num1, num2):\n",
        "  try:\n",
        "    return num1 + num2\n",
        "  except TypeError:\n",
        "    print(\"Please enter number\")\n",
        "print(sum(1,2))"
      ],
      "metadata": {
        "colab": {
          "base_uri": "https://localhost:8080/"
        },
        "id": "ZSgAhT2NbPOG",
        "outputId": "6d31101c-1ff5-495f-e61d-860d43a3e5a6"
      },
      "execution_count": 16,
      "outputs": [
        {
          "output_type": "stream",
          "name": "stdout",
          "text": [
            "3\n"
          ]
        }
      ]
    },
    {
      "cell_type": "code",
      "source": [
        "def sum(num1, num2):\n",
        "  try:\n",
        "    return num1 + num2\n",
        "  except TypeError as err:\n",
        "    print(f\"Please enter number {err}\")\n",
        "print(sum(1,'2'))\n"
      ],
      "metadata": {
        "colab": {
          "base_uri": "https://localhost:8080/"
        },
        "id": "AmZz7BEROLxb",
        "outputId": "990e642f-6c6c-4cf9-bdd6-a101296c40e1"
      },
      "execution_count": 15,
      "outputs": [
        {
          "output_type": "stream",
          "name": "stdout",
          "text": [
            "Please enter number unsupported operand type(s) for +: 'int' and 'str'\n",
            "None\n"
          ]
        }
      ]
    },
    {
      "cell_type": "code",
      "source": [
        "def sum(num1, num2):\n",
        "  try:\n",
        "    return num1 + num2\n",
        "  except (TypeError, ZeroDivisionError) as err:\n",
        "    print(f\"Please enter number {err}\")\n",
        "print(sum(1,'2'))\n"
      ],
      "metadata": {
        "colab": {
          "base_uri": "https://localhost:8080/"
        },
        "id": "KjyBULSJblaE",
        "outputId": "99db1e88-7fea-42eb-c016-4f6e7482e9f6"
      },
      "execution_count": 17,
      "outputs": [
        {
          "output_type": "stream",
          "name": "stdout",
          "text": [
            "Please enter number unsupported operand type(s) for +: 'int' and 'str'\n",
            "None\n"
          ]
        }
      ]
    },
    {
      "cell_type": "markdown",
      "source": [
        "#Error Handling Excercise"
      ],
      "metadata": {
        "id": "b0UbrGw6byvd"
      }
    },
    {
      "cell_type": "code",
      "source": [
        "while True:\n",
        "  try:\n",
        "    age = int(input(\"What is your age \"))\n",
        "    10/age #wont accepts zero value needs 'ZeroDivisionError'\n",
        "    print(\"age\")\n",
        "  except ValueError:\n",
        "    print(\"please enter a number\")\n",
        "  except ZeroDivisionError:\n",
        "    print(\"Please enter a age higher than 0\")\n",
        "  else:\n",
        "    print(\"Thank you!\")\n",
        "    break\n",
        "  finally: #run regardless at the end of the break / task\n",
        "    print('ok, i am finally done')"
      ],
      "metadata": {
        "colab": {
          "base_uri": "https://localhost:8080/"
        },
        "id": "EjVeoDWGf1Vi",
        "outputId": "5fae5969-f8c3-4087-f0d7-c78ca9653b08"
      },
      "execution_count": 18,
      "outputs": [
        {
          "output_type": "stream",
          "name": "stdout",
          "text": [
            "What is your age 0\n",
            "Please enter a age higher than 0\n",
            "ok, i am finally done\n",
            "What is your age 11\n",
            "age\n",
            "Thank you!\n",
            "ok, i am finally done\n"
          ]
        }
      ]
    },
    {
      "cell_type": "code",
      "source": [
        "while True:\n",
        "  try:\n",
        "    age = int(input(\"What is your age \"))\n",
        "    10/age #wont accepts zero value needs 'ZeroDivisionError'\n",
        "    print(\"age\")\n",
        "  except ValueError:\n",
        "    print(\"please enter a number\")\n",
        "    continue #it come back to the top\n",
        "  except ZeroDivisionError:\n",
        "    print(\"Please enter a age higher than 0\")\n",
        "    break\n",
        "  else:\n",
        "    print(\"Thank you!\")\n",
        "    break\n",
        "  finally: #run regardless at the end of the break / task\n",
        "    print('ok, i am finally done')\n",
        "  print(\"Can you hear me\")"
      ],
      "metadata": {
        "colab": {
          "base_uri": "https://localhost:8080/"
        },
        "id": "OiC95uC5grir",
        "outputId": "3b66ce82-f207-4d94-b7fb-5ec1616a73b1"
      },
      "execution_count": 20,
      "outputs": [
        {
          "output_type": "stream",
          "name": "stdout",
          "text": [
            "What is your age ghgadjshg\n",
            "please enter a number\n",
            "ok, i am finally done\n",
            "What is your age 18\n",
            "age\n",
            "Thank you!\n",
            "ok, i am finally done\n"
          ]
        }
      ]
    },
    {
      "cell_type": "markdown",
      "source": [
        "#Error Handling 3"
      ],
      "metadata": {
        "id": "q6l51yKylxYp"
      }
    },
    {
      "cell_type": "code",
      "source": [
        "while True:\n",
        "  try:\n",
        "    age = int(input(\"What is your age \"))\n",
        "    10/age\n",
        "    raise ValueError(\"Hey cut it out\") #it goes to the 'ValueError'\n",
        "  except ValueError:\n",
        "    print(\"please enter a number\")\n",
        "    continue\n",
        "  except ZeroDivisionError:\n",
        "    print(\"Please enter a age higher than 0\")\n",
        "    break\n",
        "  else:\n",
        "    print(\"Thank you!\")\n",
        "    break\n",
        "  finally:\n",
        "    print('ok, i am finally done')\n",
        "  print(\"Can you hear me\")"
      ],
      "metadata": {
        "colab": {
          "base_uri": "https://localhost:8080/"
        },
        "id": "RZFZOOtrlVeh",
        "outputId": "32ba5109-fef4-4067-e9d0-651e60de37b1"
      },
      "execution_count": 21,
      "outputs": [
        {
          "output_type": "stream",
          "name": "stdout",
          "text": [
            "What is your age 12\n",
            "please enter a number\n",
            "ok, i am finally done\n",
            "What is your age 32\n",
            "please enter a number\n",
            "ok, i am finally done\n",
            "What is your age 23\n",
            "please enter a number\n",
            "ok, i am finally done\n",
            "What is your age 0\n",
            "Please enter a age higher than 0\n",
            "ok, i am finally done\n"
          ]
        }
      ]
    }
  ]
}